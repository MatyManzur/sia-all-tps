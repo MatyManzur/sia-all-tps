{
 "cells": [
  {
   "cell_type": "code",
   "execution_count": 21,
   "id": "initial_id",
   "metadata": {
    "ExecuteTime": {
     "end_time": "2023-10-12T20:41:00.441367600Z",
     "start_time": "2023-10-12T20:41:00.383892800Z"
    }
   },
   "outputs": [
    {
     "data": {
      "application/vnd.plotly.v1+json": {
       "data": [
        {
         "alignmentgroup": "True",
         "hovertemplate": "variable=%{x}<br>value=%{y}<extra></extra>",
         "legendgroup": "",
         "marker": {
          "color": "#636efa"
         },
         "name": "",
         "notched": false,
         "offsetgroup": "",
         "orientation": "v",
         "showlegend": false,
         "x": [
          "Area",
          "Area",
          "Area",
          "Area",
          "Area",
          "Area",
          "Area",
          "Area",
          "Area",
          "Area",
          "Area",
          "Area",
          "Area",
          "Area",
          "Area",
          "Area",
          "Area",
          "Area",
          "Area",
          "Area",
          "Area",
          "Area",
          "Area",
          "Area",
          "Area",
          "Area",
          "Area",
          "Area",
          "GDP",
          "GDP",
          "GDP",
          "GDP",
          "GDP",
          "GDP",
          "GDP",
          "GDP",
          "GDP",
          "GDP",
          "GDP",
          "GDP",
          "GDP",
          "GDP",
          "GDP",
          "GDP",
          "GDP",
          "GDP",
          "GDP",
          "GDP",
          "GDP",
          "GDP",
          "GDP",
          "GDP",
          "GDP",
          "GDP",
          "GDP",
          "GDP",
          "Inflation",
          "Inflation",
          "Inflation",
          "Inflation",
          "Inflation",
          "Inflation",
          "Inflation",
          "Inflation",
          "Inflation",
          "Inflation",
          "Inflation",
          "Inflation",
          "Inflation",
          "Inflation",
          "Inflation",
          "Inflation",
          "Inflation",
          "Inflation",
          "Inflation",
          "Inflation",
          "Inflation",
          "Inflation",
          "Inflation",
          "Inflation",
          "Inflation",
          "Inflation",
          "Inflation",
          "Inflation",
          "Life.expect",
          "Life.expect",
          "Life.expect",
          "Life.expect",
          "Life.expect",
          "Life.expect",
          "Life.expect",
          "Life.expect",
          "Life.expect",
          "Life.expect",
          "Life.expect",
          "Life.expect",
          "Life.expect",
          "Life.expect",
          "Life.expect",
          "Life.expect",
          "Life.expect",
          "Life.expect",
          "Life.expect",
          "Life.expect",
          "Life.expect",
          "Life.expect",
          "Life.expect",
          "Life.expect",
          "Life.expect",
          "Life.expect",
          "Life.expect",
          "Life.expect",
          "Military",
          "Military",
          "Military",
          "Military",
          "Military",
          "Military",
          "Military",
          "Military",
          "Military",
          "Military",
          "Military",
          "Military",
          "Military",
          "Military",
          "Military",
          "Military",
          "Military",
          "Military",
          "Military",
          "Military",
          "Military",
          "Military",
          "Military",
          "Military",
          "Military",
          "Military",
          "Military",
          "Military",
          "Pop.growth",
          "Pop.growth",
          "Pop.growth",
          "Pop.growth",
          "Pop.growth",
          "Pop.growth",
          "Pop.growth",
          "Pop.growth",
          "Pop.growth",
          "Pop.growth",
          "Pop.growth",
          "Pop.growth",
          "Pop.growth",
          "Pop.growth",
          "Pop.growth",
          "Pop.growth",
          "Pop.growth",
          "Pop.growth",
          "Pop.growth",
          "Pop.growth",
          "Pop.growth",
          "Pop.growth",
          "Pop.growth",
          "Pop.growth",
          "Pop.growth",
          "Pop.growth",
          "Pop.growth",
          "Pop.growth",
          "Unemployment",
          "Unemployment",
          "Unemployment",
          "Unemployment",
          "Unemployment",
          "Unemployment",
          "Unemployment",
          "Unemployment",
          "Unemployment",
          "Unemployment",
          "Unemployment",
          "Unemployment",
          "Unemployment",
          "Unemployment",
          "Unemployment",
          "Unemployment",
          "Unemployment",
          "Unemployment",
          "Unemployment",
          "Unemployment",
          "Unemployment",
          "Unemployment",
          "Unemployment",
          "Unemployment",
          "Unemployment",
          "Unemployment",
          "Unemployment",
          "Unemployment"
         ],
         "x0": " ",
         "xaxis": "x",
         "y": [
          83871.0,
          30528.0,
          110879.0,
          56594.0,
          78867.0,
          43094.0,
          45228.0,
          338145.0,
          357022.0,
          131957.0,
          93028.0,
          103000.0,
          70273.0,
          301340.0,
          64589.0,
          65300.0,
          2586.0,
          41543.0,
          323802.0,
          312685.0,
          92090.0,
          49035.0,
          20273.0,
          505370.0,
          450295.0,
          41277.0,
          603550.0,
          243610.0,
          41600.0,
          37800.0,
          13800.0,
          18000.0,
          27100.0,
          37000.0,
          20400.0,
          36000.0,
          38100.0,
          26300.0,
          19600.0,
          38100.0,
          40800.0,
          30500.0,
          16800.0,
          19100.0,
          80600.0,
          42000.0,
          53400.0,
          20200.0,
          23400.0,
          23300.0,
          28800.0,
          30500.0,
          40700.0,
          44500.0,
          7200.0,
          36500.0,
          3.5,
          3.5,
          4.2,
          2.3,
          1.9,
          2.8,
          5.0,
          3.3,
          2.5,
          3.3,
          3.9,
          4.0,
          2.6,
          2.9,
          4.4,
          4.1,
          3.4,
          2.3,
          1.3,
          4.2,
          3.7,
          3.9,
          1.8,
          3.1,
          3.0,
          0.2,
          8.0,
          4.5,
          79.91,
          79.65,
          73.84,
          75.99,
          77.38,
          78.78,
          73.58,
          79.41,
          80.19,
          80.05,
          75.02,
          81.0,
          80.32,
          81.86,
          72.93,
          75.55,
          79.75,
          80.91,
          80.32,
          76.25,
          78.7,
          76.03,
          77.48,
          81.27,
          81.18,
          81.17,
          68.74,
          80.17,
          0.8,
          1.3,
          2.6,
          2.39,
          1.15,
          1.3,
          2.0,
          2.0,
          1.5,
          4.3,
          1.75,
          0.0,
          0.9,
          1.8,
          1.1,
          0.9,
          0.9,
          1.6,
          1.9,
          1.9,
          2.3,
          1.08,
          1.7,
          1.2,
          1.5,
          1.0,
          1.4,
          2.7,
          0.03,
          0.06,
          -0.8,
          -0.09,
          -0.13,
          0.24,
          -0.65,
          0.07,
          -0.2,
          0.06,
          -0.18,
          0.67,
          1.11,
          0.38,
          -0.6,
          -0.28,
          1.14,
          0.45,
          0.33,
          -0.08,
          0.18,
          0.1,
          -0.19,
          0.65,
          0.17,
          0.92,
          -0.63,
          0.55,
          4.2,
          7.2,
          9.6,
          17.7,
          8.5,
          6.1,
          12.5,
          7.8,
          6.0,
          17.4,
          10.9,
          7.4,
          14.4,
          8.4,
          12.8,
          15.4,
          5.7,
          4.4,
          3.3,
          12.4,
          12.7,
          13.2,
          11.8,
          21.7,
          7.5,
          2.8,
          7.9,
          8.1
         ],
         "y0": " ",
         "yaxis": "y",
         "type": "box"
        }
       ],
       "layout": {
        "template": {
         "data": {
          "histogram2dcontour": [
           {
            "type": "histogram2dcontour",
            "colorbar": {
             "outlinewidth": 0,
             "ticks": ""
            },
            "colorscale": [
             [
              0.0,
              "#0d0887"
             ],
             [
              0.1111111111111111,
              "#46039f"
             ],
             [
              0.2222222222222222,
              "#7201a8"
             ],
             [
              0.3333333333333333,
              "#9c179e"
             ],
             [
              0.4444444444444444,
              "#bd3786"
             ],
             [
              0.5555555555555556,
              "#d8576b"
             ],
             [
              0.6666666666666666,
              "#ed7953"
             ],
             [
              0.7777777777777778,
              "#fb9f3a"
             ],
             [
              0.8888888888888888,
              "#fdca26"
             ],
             [
              1.0,
              "#f0f921"
             ]
            ]
           }
          ],
          "choropleth": [
           {
            "type": "choropleth",
            "colorbar": {
             "outlinewidth": 0,
             "ticks": ""
            }
           }
          ],
          "histogram2d": [
           {
            "type": "histogram2d",
            "colorbar": {
             "outlinewidth": 0,
             "ticks": ""
            },
            "colorscale": [
             [
              0.0,
              "#0d0887"
             ],
             [
              0.1111111111111111,
              "#46039f"
             ],
             [
              0.2222222222222222,
              "#7201a8"
             ],
             [
              0.3333333333333333,
              "#9c179e"
             ],
             [
              0.4444444444444444,
              "#bd3786"
             ],
             [
              0.5555555555555556,
              "#d8576b"
             ],
             [
              0.6666666666666666,
              "#ed7953"
             ],
             [
              0.7777777777777778,
              "#fb9f3a"
             ],
             [
              0.8888888888888888,
              "#fdca26"
             ],
             [
              1.0,
              "#f0f921"
             ]
            ]
           }
          ],
          "heatmap": [
           {
            "type": "heatmap",
            "colorbar": {
             "outlinewidth": 0,
             "ticks": ""
            },
            "colorscale": [
             [
              0.0,
              "#0d0887"
             ],
             [
              0.1111111111111111,
              "#46039f"
             ],
             [
              0.2222222222222222,
              "#7201a8"
             ],
             [
              0.3333333333333333,
              "#9c179e"
             ],
             [
              0.4444444444444444,
              "#bd3786"
             ],
             [
              0.5555555555555556,
              "#d8576b"
             ],
             [
              0.6666666666666666,
              "#ed7953"
             ],
             [
              0.7777777777777778,
              "#fb9f3a"
             ],
             [
              0.8888888888888888,
              "#fdca26"
             ],
             [
              1.0,
              "#f0f921"
             ]
            ]
           }
          ],
          "heatmapgl": [
           {
            "type": "heatmapgl",
            "colorbar": {
             "outlinewidth": 0,
             "ticks": ""
            },
            "colorscale": [
             [
              0.0,
              "#0d0887"
             ],
             [
              0.1111111111111111,
              "#46039f"
             ],
             [
              0.2222222222222222,
              "#7201a8"
             ],
             [
              0.3333333333333333,
              "#9c179e"
             ],
             [
              0.4444444444444444,
              "#bd3786"
             ],
             [
              0.5555555555555556,
              "#d8576b"
             ],
             [
              0.6666666666666666,
              "#ed7953"
             ],
             [
              0.7777777777777778,
              "#fb9f3a"
             ],
             [
              0.8888888888888888,
              "#fdca26"
             ],
             [
              1.0,
              "#f0f921"
             ]
            ]
           }
          ],
          "contourcarpet": [
           {
            "type": "contourcarpet",
            "colorbar": {
             "outlinewidth": 0,
             "ticks": ""
            }
           }
          ],
          "contour": [
           {
            "type": "contour",
            "colorbar": {
             "outlinewidth": 0,
             "ticks": ""
            },
            "colorscale": [
             [
              0.0,
              "#0d0887"
             ],
             [
              0.1111111111111111,
              "#46039f"
             ],
             [
              0.2222222222222222,
              "#7201a8"
             ],
             [
              0.3333333333333333,
              "#9c179e"
             ],
             [
              0.4444444444444444,
              "#bd3786"
             ],
             [
              0.5555555555555556,
              "#d8576b"
             ],
             [
              0.6666666666666666,
              "#ed7953"
             ],
             [
              0.7777777777777778,
              "#fb9f3a"
             ],
             [
              0.8888888888888888,
              "#fdca26"
             ],
             [
              1.0,
              "#f0f921"
             ]
            ]
           }
          ],
          "surface": [
           {
            "type": "surface",
            "colorbar": {
             "outlinewidth": 0,
             "ticks": ""
            },
            "colorscale": [
             [
              0.0,
              "#0d0887"
             ],
             [
              0.1111111111111111,
              "#46039f"
             ],
             [
              0.2222222222222222,
              "#7201a8"
             ],
             [
              0.3333333333333333,
              "#9c179e"
             ],
             [
              0.4444444444444444,
              "#bd3786"
             ],
             [
              0.5555555555555556,
              "#d8576b"
             ],
             [
              0.6666666666666666,
              "#ed7953"
             ],
             [
              0.7777777777777778,
              "#fb9f3a"
             ],
             [
              0.8888888888888888,
              "#fdca26"
             ],
             [
              1.0,
              "#f0f921"
             ]
            ]
           }
          ],
          "mesh3d": [
           {
            "type": "mesh3d",
            "colorbar": {
             "outlinewidth": 0,
             "ticks": ""
            }
           }
          ],
          "scatter": [
           {
            "marker": {
             "line": {
              "color": "#283442"
             }
            },
            "type": "scatter"
           }
          ],
          "parcoords": [
           {
            "type": "parcoords",
            "line": {
             "colorbar": {
              "outlinewidth": 0,
              "ticks": ""
             }
            }
           }
          ],
          "scatterpolargl": [
           {
            "type": "scatterpolargl",
            "marker": {
             "colorbar": {
              "outlinewidth": 0,
              "ticks": ""
             }
            }
           }
          ],
          "bar": [
           {
            "error_x": {
             "color": "#f2f5fa"
            },
            "error_y": {
             "color": "#f2f5fa"
            },
            "marker": {
             "line": {
              "color": "rgb(17,17,17)",
              "width": 0.5
             },
             "pattern": {
              "fillmode": "overlay",
              "size": 10,
              "solidity": 0.2
             }
            },
            "type": "bar"
           }
          ],
          "scattergeo": [
           {
            "type": "scattergeo",
            "marker": {
             "colorbar": {
              "outlinewidth": 0,
              "ticks": ""
             }
            }
           }
          ],
          "scatterpolar": [
           {
            "type": "scatterpolar",
            "marker": {
             "colorbar": {
              "outlinewidth": 0,
              "ticks": ""
             }
            }
           }
          ],
          "histogram": [
           {
            "marker": {
             "pattern": {
              "fillmode": "overlay",
              "size": 10,
              "solidity": 0.2
             }
            },
            "type": "histogram"
           }
          ],
          "scattergl": [
           {
            "marker": {
             "line": {
              "color": "#283442"
             }
            },
            "type": "scattergl"
           }
          ],
          "scatter3d": [
           {
            "type": "scatter3d",
            "line": {
             "colorbar": {
              "outlinewidth": 0,
              "ticks": ""
             }
            },
            "marker": {
             "colorbar": {
              "outlinewidth": 0,
              "ticks": ""
             }
            }
           }
          ],
          "scattermapbox": [
           {
            "type": "scattermapbox",
            "marker": {
             "colorbar": {
              "outlinewidth": 0,
              "ticks": ""
             }
            }
           }
          ],
          "scatterternary": [
           {
            "type": "scatterternary",
            "marker": {
             "colorbar": {
              "outlinewidth": 0,
              "ticks": ""
             }
            }
           }
          ],
          "scattercarpet": [
           {
            "type": "scattercarpet",
            "marker": {
             "colorbar": {
              "outlinewidth": 0,
              "ticks": ""
             }
            }
           }
          ],
          "carpet": [
           {
            "aaxis": {
             "endlinecolor": "#A2B1C6",
             "gridcolor": "#506784",
             "linecolor": "#506784",
             "minorgridcolor": "#506784",
             "startlinecolor": "#A2B1C6"
            },
            "baxis": {
             "endlinecolor": "#A2B1C6",
             "gridcolor": "#506784",
             "linecolor": "#506784",
             "minorgridcolor": "#506784",
             "startlinecolor": "#A2B1C6"
            },
            "type": "carpet"
           }
          ],
          "table": [
           {
            "cells": {
             "fill": {
              "color": "#506784"
             },
             "line": {
              "color": "rgb(17,17,17)"
             }
            },
            "header": {
             "fill": {
              "color": "#2a3f5f"
             },
             "line": {
              "color": "rgb(17,17,17)"
             }
            },
            "type": "table"
           }
          ],
          "barpolar": [
           {
            "marker": {
             "line": {
              "color": "rgb(17,17,17)",
              "width": 0.5
             },
             "pattern": {
              "fillmode": "overlay",
              "size": 10,
              "solidity": 0.2
             }
            },
            "type": "barpolar"
           }
          ],
          "pie": [
           {
            "automargin": true,
            "type": "pie"
           }
          ]
         },
         "layout": {
          "autotypenumbers": "strict",
          "colorway": [
           "#636efa",
           "#EF553B",
           "#00cc96",
           "#ab63fa",
           "#FFA15A",
           "#19d3f3",
           "#FF6692",
           "#B6E880",
           "#FF97FF",
           "#FECB52"
          ],
          "font": {
           "color": "#f2f5fa"
          },
          "hovermode": "closest",
          "hoverlabel": {
           "align": "left"
          },
          "paper_bgcolor": "rgb(17,17,17)",
          "plot_bgcolor": "rgb(17,17,17)",
          "polar": {
           "bgcolor": "rgb(17,17,17)",
           "angularaxis": {
            "gridcolor": "#506784",
            "linecolor": "#506784",
            "ticks": ""
           },
           "radialaxis": {
            "gridcolor": "#506784",
            "linecolor": "#506784",
            "ticks": ""
           }
          },
          "ternary": {
           "bgcolor": "rgb(17,17,17)",
           "aaxis": {
            "gridcolor": "#506784",
            "linecolor": "#506784",
            "ticks": ""
           },
           "baxis": {
            "gridcolor": "#506784",
            "linecolor": "#506784",
            "ticks": ""
           },
           "caxis": {
            "gridcolor": "#506784",
            "linecolor": "#506784",
            "ticks": ""
           }
          },
          "coloraxis": {
           "colorbar": {
            "outlinewidth": 0,
            "ticks": ""
           }
          },
          "colorscale": {
           "sequential": [
            [
             0.0,
             "#0d0887"
            ],
            [
             0.1111111111111111,
             "#46039f"
            ],
            [
             0.2222222222222222,
             "#7201a8"
            ],
            [
             0.3333333333333333,
             "#9c179e"
            ],
            [
             0.4444444444444444,
             "#bd3786"
            ],
            [
             0.5555555555555556,
             "#d8576b"
            ],
            [
             0.6666666666666666,
             "#ed7953"
            ],
            [
             0.7777777777777778,
             "#fb9f3a"
            ],
            [
             0.8888888888888888,
             "#fdca26"
            ],
            [
             1.0,
             "#f0f921"
            ]
           ],
           "sequentialminus": [
            [
             0.0,
             "#0d0887"
            ],
            [
             0.1111111111111111,
             "#46039f"
            ],
            [
             0.2222222222222222,
             "#7201a8"
            ],
            [
             0.3333333333333333,
             "#9c179e"
            ],
            [
             0.4444444444444444,
             "#bd3786"
            ],
            [
             0.5555555555555556,
             "#d8576b"
            ],
            [
             0.6666666666666666,
             "#ed7953"
            ],
            [
             0.7777777777777778,
             "#fb9f3a"
            ],
            [
             0.8888888888888888,
             "#fdca26"
            ],
            [
             1.0,
             "#f0f921"
            ]
           ],
           "diverging": [
            [
             0,
             "#8e0152"
            ],
            [
             0.1,
             "#c51b7d"
            ],
            [
             0.2,
             "#de77ae"
            ],
            [
             0.3,
             "#f1b6da"
            ],
            [
             0.4,
             "#fde0ef"
            ],
            [
             0.5,
             "#f7f7f7"
            ],
            [
             0.6,
             "#e6f5d0"
            ],
            [
             0.7,
             "#b8e186"
            ],
            [
             0.8,
             "#7fbc41"
            ],
            [
             0.9,
             "#4d9221"
            ],
            [
             1,
             "#276419"
            ]
           ]
          },
          "xaxis": {
           "gridcolor": "#283442",
           "linecolor": "#506784",
           "ticks": "",
           "title": {
            "standoff": 15
           },
           "zerolinecolor": "#283442",
           "automargin": true,
           "zerolinewidth": 2
          },
          "yaxis": {
           "gridcolor": "#283442",
           "linecolor": "#506784",
           "ticks": "",
           "title": {
            "standoff": 15
           },
           "zerolinecolor": "#283442",
           "automargin": true,
           "zerolinewidth": 2
          },
          "scene": {
           "xaxis": {
            "backgroundcolor": "rgb(17,17,17)",
            "gridcolor": "#506784",
            "linecolor": "#506784",
            "showbackground": true,
            "ticks": "",
            "zerolinecolor": "#C8D4E3",
            "gridwidth": 2
           },
           "yaxis": {
            "backgroundcolor": "rgb(17,17,17)",
            "gridcolor": "#506784",
            "linecolor": "#506784",
            "showbackground": true,
            "ticks": "",
            "zerolinecolor": "#C8D4E3",
            "gridwidth": 2
           },
           "zaxis": {
            "backgroundcolor": "rgb(17,17,17)",
            "gridcolor": "#506784",
            "linecolor": "#506784",
            "showbackground": true,
            "ticks": "",
            "zerolinecolor": "#C8D4E3",
            "gridwidth": 2
           }
          },
          "shapedefaults": {
           "line": {
            "color": "#f2f5fa"
           }
          },
          "annotationdefaults": {
           "arrowcolor": "#f2f5fa",
           "arrowhead": 0,
           "arrowwidth": 1
          },
          "geo": {
           "bgcolor": "rgb(17,17,17)",
           "landcolor": "rgb(17,17,17)",
           "subunitcolor": "#506784",
           "showland": true,
           "showlakes": true,
           "lakecolor": "rgb(17,17,17)"
          },
          "title": {
           "x": 0.05
          },
          "updatemenudefaults": {
           "bgcolor": "#506784",
           "borderwidth": 0
          },
          "sliderdefaults": {
           "bgcolor": "#C8D4E3",
           "borderwidth": 1,
           "bordercolor": "rgb(17,17,17)",
           "tickwidth": 0
          },
          "mapbox": {
           "style": "dark"
          }
         }
        },
        "xaxis": {
         "anchor": "y",
         "domain": [
          0.0,
          1.0
         ],
         "title": {
          "text": "variable"
         }
        },
        "yaxis": {
         "anchor": "x",
         "domain": [
          0.0,
          1.0
         ],
         "title": {
          "text": "value"
         }
        },
        "legend": {
         "tracegroupgap": 0
        },
        "title": {
         "text": "Boxplots for Variables"
        },
        "boxmode": "group"
       },
       "config": {
        "plotlyServerURL": "https://plot.ly"
       }
      },
      "text/html": "<div>                            <div id=\"5d058a97-0746-447f-9fc6-15a3f42db0d5\" class=\"plotly-graph-div\" style=\"height:525px; width:100%;\"></div>            <script type=\"text/javascript\">                require([\"plotly\"], function(Plotly) {                    window.PLOTLYENV=window.PLOTLYENV || {};                                    if (document.getElementById(\"5d058a97-0746-447f-9fc6-15a3f42db0d5\")) {                    Plotly.newPlot(                        \"5d058a97-0746-447f-9fc6-15a3f42db0d5\",                        [{\"alignmentgroup\":\"True\",\"hovertemplate\":\"variable=%{x}\\u003cbr\\u003evalue=%{y}\\u003cextra\\u003e\\u003c\\u002fextra\\u003e\",\"legendgroup\":\"\",\"marker\":{\"color\":\"#636efa\"},\"name\":\"\",\"notched\":false,\"offsetgroup\":\"\",\"orientation\":\"v\",\"showlegend\":false,\"x\":[\"Area\",\"Area\",\"Area\",\"Area\",\"Area\",\"Area\",\"Area\",\"Area\",\"Area\",\"Area\",\"Area\",\"Area\",\"Area\",\"Area\",\"Area\",\"Area\",\"Area\",\"Area\",\"Area\",\"Area\",\"Area\",\"Area\",\"Area\",\"Area\",\"Area\",\"Area\",\"Area\",\"Area\",\"GDP\",\"GDP\",\"GDP\",\"GDP\",\"GDP\",\"GDP\",\"GDP\",\"GDP\",\"GDP\",\"GDP\",\"GDP\",\"GDP\",\"GDP\",\"GDP\",\"GDP\",\"GDP\",\"GDP\",\"GDP\",\"GDP\",\"GDP\",\"GDP\",\"GDP\",\"GDP\",\"GDP\",\"GDP\",\"GDP\",\"GDP\",\"GDP\",\"Inflation\",\"Inflation\",\"Inflation\",\"Inflation\",\"Inflation\",\"Inflation\",\"Inflation\",\"Inflation\",\"Inflation\",\"Inflation\",\"Inflation\",\"Inflation\",\"Inflation\",\"Inflation\",\"Inflation\",\"Inflation\",\"Inflation\",\"Inflation\",\"Inflation\",\"Inflation\",\"Inflation\",\"Inflation\",\"Inflation\",\"Inflation\",\"Inflation\",\"Inflation\",\"Inflation\",\"Inflation\",\"Life.expect\",\"Life.expect\",\"Life.expect\",\"Life.expect\",\"Life.expect\",\"Life.expect\",\"Life.expect\",\"Life.expect\",\"Life.expect\",\"Life.expect\",\"Life.expect\",\"Life.expect\",\"Life.expect\",\"Life.expect\",\"Life.expect\",\"Life.expect\",\"Life.expect\",\"Life.expect\",\"Life.expect\",\"Life.expect\",\"Life.expect\",\"Life.expect\",\"Life.expect\",\"Life.expect\",\"Life.expect\",\"Life.expect\",\"Life.expect\",\"Life.expect\",\"Military\",\"Military\",\"Military\",\"Military\",\"Military\",\"Military\",\"Military\",\"Military\",\"Military\",\"Military\",\"Military\",\"Military\",\"Military\",\"Military\",\"Military\",\"Military\",\"Military\",\"Military\",\"Military\",\"Military\",\"Military\",\"Military\",\"Military\",\"Military\",\"Military\",\"Military\",\"Military\",\"Military\",\"Pop.growth\",\"Pop.growth\",\"Pop.growth\",\"Pop.growth\",\"Pop.growth\",\"Pop.growth\",\"Pop.growth\",\"Pop.growth\",\"Pop.growth\",\"Pop.growth\",\"Pop.growth\",\"Pop.growth\",\"Pop.growth\",\"Pop.growth\",\"Pop.growth\",\"Pop.growth\",\"Pop.growth\",\"Pop.growth\",\"Pop.growth\",\"Pop.growth\",\"Pop.growth\",\"Pop.growth\",\"Pop.growth\",\"Pop.growth\",\"Pop.growth\",\"Pop.growth\",\"Pop.growth\",\"Pop.growth\",\"Unemployment\",\"Unemployment\",\"Unemployment\",\"Unemployment\",\"Unemployment\",\"Unemployment\",\"Unemployment\",\"Unemployment\",\"Unemployment\",\"Unemployment\",\"Unemployment\",\"Unemployment\",\"Unemployment\",\"Unemployment\",\"Unemployment\",\"Unemployment\",\"Unemployment\",\"Unemployment\",\"Unemployment\",\"Unemployment\",\"Unemployment\",\"Unemployment\",\"Unemployment\",\"Unemployment\",\"Unemployment\",\"Unemployment\",\"Unemployment\",\"Unemployment\"],\"x0\":\" \",\"xaxis\":\"x\",\"y\":[83871.0,30528.0,110879.0,56594.0,78867.0,43094.0,45228.0,338145.0,357022.0,131957.0,93028.0,103000.0,70273.0,301340.0,64589.0,65300.0,2586.0,41543.0,323802.0,312685.0,92090.0,49035.0,20273.0,505370.0,450295.0,41277.0,603550.0,243610.0,41600.0,37800.0,13800.0,18000.0,27100.0,37000.0,20400.0,36000.0,38100.0,26300.0,19600.0,38100.0,40800.0,30500.0,16800.0,19100.0,80600.0,42000.0,53400.0,20200.0,23400.0,23300.0,28800.0,30500.0,40700.0,44500.0,7200.0,36500.0,3.5,3.5,4.2,2.3,1.9,2.8,5.0,3.3,2.5,3.3,3.9,4.0,2.6,2.9,4.4,4.1,3.4,2.3,1.3,4.2,3.7,3.9,1.8,3.1,3.0,0.2,8.0,4.5,79.91,79.65,73.84,75.99,77.38,78.78,73.58,79.41,80.19,80.05,75.02,81.0,80.32,81.86,72.93,75.55,79.75,80.91,80.32,76.25,78.7,76.03,77.48,81.27,81.18,81.17,68.74,80.17,0.8,1.3,2.6,2.39,1.15,1.3,2.0,2.0,1.5,4.3,1.75,0.0,0.9,1.8,1.1,0.9,0.9,1.6,1.9,1.9,2.3,1.08,1.7,1.2,1.5,1.0,1.4,2.7,0.03,0.06,-0.8,-0.09,-0.13,0.24,-0.65,0.07,-0.2,0.06,-0.18,0.67,1.11,0.38,-0.6,-0.28,1.14,0.45,0.33,-0.08,0.18,0.1,-0.19,0.65,0.17,0.92,-0.63,0.55,4.2,7.2,9.6,17.7,8.5,6.1,12.5,7.8,6.0,17.4,10.9,7.4,14.4,8.4,12.8,15.4,5.7,4.4,3.3,12.4,12.7,13.2,11.8,21.7,7.5,2.8,7.9,8.1],\"y0\":\" \",\"yaxis\":\"y\",\"type\":\"box\"}],                        {\"template\":{\"data\":{\"histogram2dcontour\":[{\"type\":\"histogram2dcontour\",\"colorbar\":{\"outlinewidth\":0,\"ticks\":\"\"},\"colorscale\":[[0.0,\"#0d0887\"],[0.1111111111111111,\"#46039f\"],[0.2222222222222222,\"#7201a8\"],[0.3333333333333333,\"#9c179e\"],[0.4444444444444444,\"#bd3786\"],[0.5555555555555556,\"#d8576b\"],[0.6666666666666666,\"#ed7953\"],[0.7777777777777778,\"#fb9f3a\"],[0.8888888888888888,\"#fdca26\"],[1.0,\"#f0f921\"]]}],\"choropleth\":[{\"type\":\"choropleth\",\"colorbar\":{\"outlinewidth\":0,\"ticks\":\"\"}}],\"histogram2d\":[{\"type\":\"histogram2d\",\"colorbar\":{\"outlinewidth\":0,\"ticks\":\"\"},\"colorscale\":[[0.0,\"#0d0887\"],[0.1111111111111111,\"#46039f\"],[0.2222222222222222,\"#7201a8\"],[0.3333333333333333,\"#9c179e\"],[0.4444444444444444,\"#bd3786\"],[0.5555555555555556,\"#d8576b\"],[0.6666666666666666,\"#ed7953\"],[0.7777777777777778,\"#fb9f3a\"],[0.8888888888888888,\"#fdca26\"],[1.0,\"#f0f921\"]]}],\"heatmap\":[{\"type\":\"heatmap\",\"colorbar\":{\"outlinewidth\":0,\"ticks\":\"\"},\"colorscale\":[[0.0,\"#0d0887\"],[0.1111111111111111,\"#46039f\"],[0.2222222222222222,\"#7201a8\"],[0.3333333333333333,\"#9c179e\"],[0.4444444444444444,\"#bd3786\"],[0.5555555555555556,\"#d8576b\"],[0.6666666666666666,\"#ed7953\"],[0.7777777777777778,\"#fb9f3a\"],[0.8888888888888888,\"#fdca26\"],[1.0,\"#f0f921\"]]}],\"heatmapgl\":[{\"type\":\"heatmapgl\",\"colorbar\":{\"outlinewidth\":0,\"ticks\":\"\"},\"colorscale\":[[0.0,\"#0d0887\"],[0.1111111111111111,\"#46039f\"],[0.2222222222222222,\"#7201a8\"],[0.3333333333333333,\"#9c179e\"],[0.4444444444444444,\"#bd3786\"],[0.5555555555555556,\"#d8576b\"],[0.6666666666666666,\"#ed7953\"],[0.7777777777777778,\"#fb9f3a\"],[0.8888888888888888,\"#fdca26\"],[1.0,\"#f0f921\"]]}],\"contourcarpet\":[{\"type\":\"contourcarpet\",\"colorbar\":{\"outlinewidth\":0,\"ticks\":\"\"}}],\"contour\":[{\"type\":\"contour\",\"colorbar\":{\"outlinewidth\":0,\"ticks\":\"\"},\"colorscale\":[[0.0,\"#0d0887\"],[0.1111111111111111,\"#46039f\"],[0.2222222222222222,\"#7201a8\"],[0.3333333333333333,\"#9c179e\"],[0.4444444444444444,\"#bd3786\"],[0.5555555555555556,\"#d8576b\"],[0.6666666666666666,\"#ed7953\"],[0.7777777777777778,\"#fb9f3a\"],[0.8888888888888888,\"#fdca26\"],[1.0,\"#f0f921\"]]}],\"surface\":[{\"type\":\"surface\",\"colorbar\":{\"outlinewidth\":0,\"ticks\":\"\"},\"colorscale\":[[0.0,\"#0d0887\"],[0.1111111111111111,\"#46039f\"],[0.2222222222222222,\"#7201a8\"],[0.3333333333333333,\"#9c179e\"],[0.4444444444444444,\"#bd3786\"],[0.5555555555555556,\"#d8576b\"],[0.6666666666666666,\"#ed7953\"],[0.7777777777777778,\"#fb9f3a\"],[0.8888888888888888,\"#fdca26\"],[1.0,\"#f0f921\"]]}],\"mesh3d\":[{\"type\":\"mesh3d\",\"colorbar\":{\"outlinewidth\":0,\"ticks\":\"\"}}],\"scatter\":[{\"marker\":{\"line\":{\"color\":\"#283442\"}},\"type\":\"scatter\"}],\"parcoords\":[{\"type\":\"parcoords\",\"line\":{\"colorbar\":{\"outlinewidth\":0,\"ticks\":\"\"}}}],\"scatterpolargl\":[{\"type\":\"scatterpolargl\",\"marker\":{\"colorbar\":{\"outlinewidth\":0,\"ticks\":\"\"}}}],\"bar\":[{\"error_x\":{\"color\":\"#f2f5fa\"},\"error_y\":{\"color\":\"#f2f5fa\"},\"marker\":{\"line\":{\"color\":\"rgb(17,17,17)\",\"width\":0.5},\"pattern\":{\"fillmode\":\"overlay\",\"size\":10,\"solidity\":0.2}},\"type\":\"bar\"}],\"scattergeo\":[{\"type\":\"scattergeo\",\"marker\":{\"colorbar\":{\"outlinewidth\":0,\"ticks\":\"\"}}}],\"scatterpolar\":[{\"type\":\"scatterpolar\",\"marker\":{\"colorbar\":{\"outlinewidth\":0,\"ticks\":\"\"}}}],\"histogram\":[{\"marker\":{\"pattern\":{\"fillmode\":\"overlay\",\"size\":10,\"solidity\":0.2}},\"type\":\"histogram\"}],\"scattergl\":[{\"marker\":{\"line\":{\"color\":\"#283442\"}},\"type\":\"scattergl\"}],\"scatter3d\":[{\"type\":\"scatter3d\",\"line\":{\"colorbar\":{\"outlinewidth\":0,\"ticks\":\"\"}},\"marker\":{\"colorbar\":{\"outlinewidth\":0,\"ticks\":\"\"}}}],\"scattermapbox\":[{\"type\":\"scattermapbox\",\"marker\":{\"colorbar\":{\"outlinewidth\":0,\"ticks\":\"\"}}}],\"scatterternary\":[{\"type\":\"scatterternary\",\"marker\":{\"colorbar\":{\"outlinewidth\":0,\"ticks\":\"\"}}}],\"scattercarpet\":[{\"type\":\"scattercarpet\",\"marker\":{\"colorbar\":{\"outlinewidth\":0,\"ticks\":\"\"}}}],\"carpet\":[{\"aaxis\":{\"endlinecolor\":\"#A2B1C6\",\"gridcolor\":\"#506784\",\"linecolor\":\"#506784\",\"minorgridcolor\":\"#506784\",\"startlinecolor\":\"#A2B1C6\"},\"baxis\":{\"endlinecolor\":\"#A2B1C6\",\"gridcolor\":\"#506784\",\"linecolor\":\"#506784\",\"minorgridcolor\":\"#506784\",\"startlinecolor\":\"#A2B1C6\"},\"type\":\"carpet\"}],\"table\":[{\"cells\":{\"fill\":{\"color\":\"#506784\"},\"line\":{\"color\":\"rgb(17,17,17)\"}},\"header\":{\"fill\":{\"color\":\"#2a3f5f\"},\"line\":{\"color\":\"rgb(17,17,17)\"}},\"type\":\"table\"}],\"barpolar\":[{\"marker\":{\"line\":{\"color\":\"rgb(17,17,17)\",\"width\":0.5},\"pattern\":{\"fillmode\":\"overlay\",\"size\":10,\"solidity\":0.2}},\"type\":\"barpolar\"}],\"pie\":[{\"automargin\":true,\"type\":\"pie\"}]},\"layout\":{\"autotypenumbers\":\"strict\",\"colorway\":[\"#636efa\",\"#EF553B\",\"#00cc96\",\"#ab63fa\",\"#FFA15A\",\"#19d3f3\",\"#FF6692\",\"#B6E880\",\"#FF97FF\",\"#FECB52\"],\"font\":{\"color\":\"#f2f5fa\"},\"hovermode\":\"closest\",\"hoverlabel\":{\"align\":\"left\"},\"paper_bgcolor\":\"rgb(17,17,17)\",\"plot_bgcolor\":\"rgb(17,17,17)\",\"polar\":{\"bgcolor\":\"rgb(17,17,17)\",\"angularaxis\":{\"gridcolor\":\"#506784\",\"linecolor\":\"#506784\",\"ticks\":\"\"},\"radialaxis\":{\"gridcolor\":\"#506784\",\"linecolor\":\"#506784\",\"ticks\":\"\"}},\"ternary\":{\"bgcolor\":\"rgb(17,17,17)\",\"aaxis\":{\"gridcolor\":\"#506784\",\"linecolor\":\"#506784\",\"ticks\":\"\"},\"baxis\":{\"gridcolor\":\"#506784\",\"linecolor\":\"#506784\",\"ticks\":\"\"},\"caxis\":{\"gridcolor\":\"#506784\",\"linecolor\":\"#506784\",\"ticks\":\"\"}},\"coloraxis\":{\"colorbar\":{\"outlinewidth\":0,\"ticks\":\"\"}},\"colorscale\":{\"sequential\":[[0.0,\"#0d0887\"],[0.1111111111111111,\"#46039f\"],[0.2222222222222222,\"#7201a8\"],[0.3333333333333333,\"#9c179e\"],[0.4444444444444444,\"#bd3786\"],[0.5555555555555556,\"#d8576b\"],[0.6666666666666666,\"#ed7953\"],[0.7777777777777778,\"#fb9f3a\"],[0.8888888888888888,\"#fdca26\"],[1.0,\"#f0f921\"]],\"sequentialminus\":[[0.0,\"#0d0887\"],[0.1111111111111111,\"#46039f\"],[0.2222222222222222,\"#7201a8\"],[0.3333333333333333,\"#9c179e\"],[0.4444444444444444,\"#bd3786\"],[0.5555555555555556,\"#d8576b\"],[0.6666666666666666,\"#ed7953\"],[0.7777777777777778,\"#fb9f3a\"],[0.8888888888888888,\"#fdca26\"],[1.0,\"#f0f921\"]],\"diverging\":[[0,\"#8e0152\"],[0.1,\"#c51b7d\"],[0.2,\"#de77ae\"],[0.3,\"#f1b6da\"],[0.4,\"#fde0ef\"],[0.5,\"#f7f7f7\"],[0.6,\"#e6f5d0\"],[0.7,\"#b8e186\"],[0.8,\"#7fbc41\"],[0.9,\"#4d9221\"],[1,\"#276419\"]]},\"xaxis\":{\"gridcolor\":\"#283442\",\"linecolor\":\"#506784\",\"ticks\":\"\",\"title\":{\"standoff\":15},\"zerolinecolor\":\"#283442\",\"automargin\":true,\"zerolinewidth\":2},\"yaxis\":{\"gridcolor\":\"#283442\",\"linecolor\":\"#506784\",\"ticks\":\"\",\"title\":{\"standoff\":15},\"zerolinecolor\":\"#283442\",\"automargin\":true,\"zerolinewidth\":2},\"scene\":{\"xaxis\":{\"backgroundcolor\":\"rgb(17,17,17)\",\"gridcolor\":\"#506784\",\"linecolor\":\"#506784\",\"showbackground\":true,\"ticks\":\"\",\"zerolinecolor\":\"#C8D4E3\",\"gridwidth\":2},\"yaxis\":{\"backgroundcolor\":\"rgb(17,17,17)\",\"gridcolor\":\"#506784\",\"linecolor\":\"#506784\",\"showbackground\":true,\"ticks\":\"\",\"zerolinecolor\":\"#C8D4E3\",\"gridwidth\":2},\"zaxis\":{\"backgroundcolor\":\"rgb(17,17,17)\",\"gridcolor\":\"#506784\",\"linecolor\":\"#506784\",\"showbackground\":true,\"ticks\":\"\",\"zerolinecolor\":\"#C8D4E3\",\"gridwidth\":2}},\"shapedefaults\":{\"line\":{\"color\":\"#f2f5fa\"}},\"annotationdefaults\":{\"arrowcolor\":\"#f2f5fa\",\"arrowhead\":0,\"arrowwidth\":1},\"geo\":{\"bgcolor\":\"rgb(17,17,17)\",\"landcolor\":\"rgb(17,17,17)\",\"subunitcolor\":\"#506784\",\"showland\":true,\"showlakes\":true,\"lakecolor\":\"rgb(17,17,17)\"},\"title\":{\"x\":0.05},\"updatemenudefaults\":{\"bgcolor\":\"#506784\",\"borderwidth\":0},\"sliderdefaults\":{\"bgcolor\":\"#C8D4E3\",\"borderwidth\":1,\"bordercolor\":\"rgb(17,17,17)\",\"tickwidth\":0},\"mapbox\":{\"style\":\"dark\"}}},\"xaxis\":{\"anchor\":\"y\",\"domain\":[0.0,1.0],\"title\":{\"text\":\"variable\"}},\"yaxis\":{\"anchor\":\"x\",\"domain\":[0.0,1.0],\"title\":{\"text\":\"value\"}},\"legend\":{\"tracegroupgap\":0},\"title\":{\"text\":\"Boxplots for Variables\"},\"boxmode\":\"group\"},                        {\"responsive\": true}                    ).then(function(){\n                            \nvar gd = document.getElementById('5d058a97-0746-447f-9fc6-15a3f42db0d5');\nvar x = new MutationObserver(function (mutations, observer) {{\n        var display = window.getComputedStyle(gd).display;\n        if (!display || display === 'none') {{\n            console.log([gd, 'removed!']);\n            Plotly.purge(gd);\n            observer.disconnect();\n        }}\n}});\n\n// Listen for the removal of the full notebook cells\nvar notebookContainer = gd.closest('#notebook-container');\nif (notebookContainer) {{\n    x.observe(notebookContainer, {childList: true});\n}}\n\n// Listen for the clearing of the current output cell\nvar outputEl = gd.closest('.output');\nif (outputEl) {{\n    x.observe(outputEl, {childList: true});\n}}\n\n                        })                };                });            </script>        </div>"
     },
     "metadata": {},
     "output_type": "display_data"
    }
   ],
   "source": [
    "import pandas as pd\n",
    "import plotly.express as px\n",
    "from sklearn.preprocessing import StandardScaler\n",
    "df = pd.read_csv('../data/europe.csv')\n",
    "\n",
    "fig = px.box(df, y=df.columns[1:], title='Boxplots for Variables')\n",
    "fig.show()"
   ]
  },
  {
   "cell_type": "code",
   "execution_count": 22,
   "id": "65e941d3eef162f1",
   "metadata": {
    "collapsed": false,
    "ExecuteTime": {
     "end_time": "2023-10-12T20:41:00.491589900Z",
     "start_time": "2023-10-12T20:41:00.427183300Z"
    }
   },
   "outputs": [
    {
     "data": {
      "application/vnd.plotly.v1+json": {
       "data": [
        {
         "alignmentgroup": "True",
         "hovertemplate": "variable=%{x}<br>value=%{y}<extra></extra>",
         "legendgroup": "",
         "marker": {
          "color": "#636efa"
         },
         "name": "",
         "notched": false,
         "offsetgroup": "",
         "orientation": "v",
         "showlegend": false,
         "x": [
          "Area",
          "Area",
          "Area",
          "Area",
          "Area",
          "Area",
          "Area",
          "Area",
          "Area",
          "Area",
          "Area",
          "Area",
          "Area",
          "Area",
          "Area",
          "Area",
          "Area",
          "Area",
          "Area",
          "Area",
          "Area",
          "Area",
          "Area",
          "Area",
          "Area",
          "Area",
          "Area",
          "Area",
          "GDP",
          "GDP",
          "GDP",
          "GDP",
          "GDP",
          "GDP",
          "GDP",
          "GDP",
          "GDP",
          "GDP",
          "GDP",
          "GDP",
          "GDP",
          "GDP",
          "GDP",
          "GDP",
          "GDP",
          "GDP",
          "GDP",
          "GDP",
          "GDP",
          "GDP",
          "GDP",
          "GDP",
          "GDP",
          "GDP",
          "GDP",
          "GDP",
          "Inflation",
          "Inflation",
          "Inflation",
          "Inflation",
          "Inflation",
          "Inflation",
          "Inflation",
          "Inflation",
          "Inflation",
          "Inflation",
          "Inflation",
          "Inflation",
          "Inflation",
          "Inflation",
          "Inflation",
          "Inflation",
          "Inflation",
          "Inflation",
          "Inflation",
          "Inflation",
          "Inflation",
          "Inflation",
          "Inflation",
          "Inflation",
          "Inflation",
          "Inflation",
          "Inflation",
          "Inflation",
          "Life.expect",
          "Life.expect",
          "Life.expect",
          "Life.expect",
          "Life.expect",
          "Life.expect",
          "Life.expect",
          "Life.expect",
          "Life.expect",
          "Life.expect",
          "Life.expect",
          "Life.expect",
          "Life.expect",
          "Life.expect",
          "Life.expect",
          "Life.expect",
          "Life.expect",
          "Life.expect",
          "Life.expect",
          "Life.expect",
          "Life.expect",
          "Life.expect",
          "Life.expect",
          "Life.expect",
          "Life.expect",
          "Life.expect",
          "Life.expect",
          "Life.expect",
          "Military",
          "Military",
          "Military",
          "Military",
          "Military",
          "Military",
          "Military",
          "Military",
          "Military",
          "Military",
          "Military",
          "Military",
          "Military",
          "Military",
          "Military",
          "Military",
          "Military",
          "Military",
          "Military",
          "Military",
          "Military",
          "Military",
          "Military",
          "Military",
          "Military",
          "Military",
          "Military",
          "Military",
          "Pop.growth",
          "Pop.growth",
          "Pop.growth",
          "Pop.growth",
          "Pop.growth",
          "Pop.growth",
          "Pop.growth",
          "Pop.growth",
          "Pop.growth",
          "Pop.growth",
          "Pop.growth",
          "Pop.growth",
          "Pop.growth",
          "Pop.growth",
          "Pop.growth",
          "Pop.growth",
          "Pop.growth",
          "Pop.growth",
          "Pop.growth",
          "Pop.growth",
          "Pop.growth",
          "Pop.growth",
          "Pop.growth",
          "Pop.growth",
          "Pop.growth",
          "Pop.growth",
          "Pop.growth",
          "Pop.growth",
          "Unemployment",
          "Unemployment",
          "Unemployment",
          "Unemployment",
          "Unemployment",
          "Unemployment",
          "Unemployment",
          "Unemployment",
          "Unemployment",
          "Unemployment",
          "Unemployment",
          "Unemployment",
          "Unemployment",
          "Unemployment",
          "Unemployment",
          "Unemployment",
          "Unemployment",
          "Unemployment",
          "Unemployment",
          "Unemployment",
          "Unemployment",
          "Unemployment",
          "Unemployment",
          "Unemployment",
          "Unemployment",
          "Unemployment",
          "Unemployment",
          "Unemployment"
         ],
         "x0": " ",
         "xaxis": "x",
         "y": [
          -0.5078352153072948,
          -0.8359872436825724,
          -0.3416891421138205,
          -0.6756361053583314,
          -0.5386184998992729,
          -0.7586845350129486,
          -0.7455567313919892,
          1.056391184840716,
          1.1725174964399907,
          -0.21202286061307815,
          -0.4515037730593444,
          -0.39015866635446717,
          -0.5914865150438493,
          0.8299765586601094,
          -0.6264529797962081,
          -0.6220790958343982,
          -1.00787903786104,
          -0.7682258768199347,
          0.9681568421343325,
          0.8997679982476378,
          -0.4572741009864578,
          -0.7221370742293871,
          -0.8990732915424317,
          2.085115158840225,
          1.7463083245270363,
          -0.7698622384709072,
          2.6890925531728413,
          0.4748368665148462,
          0.6839004220990755,
          0.417061386853965,
          -1.2682377831151541,
          -0.9733104283705583,
          -0.33430115975726726,
          0.36088474785499436,
          -0.8047805113736464,
          0.29066394910628107,
          0.438127626478579,
          -0.3904777987562379,
          -0.860957150372617,
          0.438127626478579,
          0.6277237831001049,
          -0.09555044401164206,
          -1.057575386869014,
          -0.8960675497469736,
          3.4225115732988938,
          0.7119887415985608,
          1.5125058473338924,
          -0.818824671123389,
          -0.5941181151275065,
          -0.6011401950023778,
          -0.21492580188445465,
          -0.09555044401164206,
          0.6207017032252335,
          0.8875407384703441,
          -1.7316950548566619,
          0.3257743484806377,
          0.11444681374338085,
          0.11444681374338085,
          0.6242553476911687,
          -0.7595106730242555,
          -1.0508298352801342,
          -0.3953617202044071,
          1.206893672202926,
          -0.031212767384558648,
          -0.613851091896316,
          -0.031212767384558648,
          0.4057659759992595,
          0.4785957665632293,
          -0.5410213013323463,
          -0.3225319296404373,
          0.7699149288191083,
          0.5514255571271987,
          0.0416170231794111,
          -0.7595106730242555,
          -1.4878085786639519,
          0.6242553476911687,
          0.26010639487132037,
          0.4057659759992595,
          -1.1236596258441038,
          -0.1768723485124978,
          -0.24970213907646757,
          -2.2889362748676185,
          3.3917873891220163,
          0.8427447193830777,
          0.5707782634548065,
          0.48775597058865483,
          -1.3674729584588774,
          -0.6809424597579864,
          -0.23709250943508284,
          0.20995060599805912,
          -1.4504952513250338,
          0.41112000794297077,
          0.6601868865414349,
          0.6154825749981208,
          -0.9906794754509475,
          0.9188332604706095,
          0.7016980329745107,
          1.193445459950967,
          -1.6580509834904176,
          -0.8214417246084011,
          0.5196876216910201,
          0.8900947744784781,
          0.7016980329745107,
          -0.5979201668918303,
          0.18440528511616594,
          -0.6681697993170376,
          -0.20516085833271294,
          1.0050487184469996,
          0.9763102324548726,
          0.9731170673446342,
          -2.995987164679605,
          0.6538005563209628,
          -1.024347199800709,
          -0.388952392658045,
          1.2630741059128814,
          0.9962082869129626,
          -0.5795708348008444,
          -0.388952392658045,
          0.5006003373416845,
          0.5006003373416845,
          -0.13479446980097948,
          3.423416450197939,
          0.18290293377035255,
          -2.0409788912289715,
          -0.8972682383721763,
          0.24644241448461898,
          -0.6431103155151106,
          -0.8972682383721763,
          -0.8972682383721763,
          -0.00771550837244655,
          0.3735213759131516,
          0.3735213759131516,
          0.8818372216272827,
          -0.6685261078008171,
          0.11936345305608607,
          -0.516031354086578,
          -0.13479446980097948,
          -0.7701892769436435,
          -0.2618734312295124,
          1.3901530673414144,
          -0.1767889446862847,
          -0.11592717684346539,
          -1.8606311883376192,
          -0.42023601605756195,
          -0.5013850398479878,
          0.24924343021345052,
          -1.5563223491235225,
          -0.09563992089585892,
          -0.6433958314812329,
          -0.11592717684346539,
          -0.6028213195860199,
          1.1215954359605276,
          2.014234697655211,
          0.5332650134799407,
          -1.4548860693854904,
          -0.8056938790620845,
          2.0750964654980297,
          0.6752758051131857,
          0.4318287337419085,
          -0.39994876010995556,
          0.1275198945278119,
          -0.03477815305303961,
          -0.6231085755336264,
          1.0810209240653148,
          0.10723263858020549,
          1.6287768346506886,
          -1.5157478372283097,
          0.8781483645892503,
          -1.2455273735906611,
          -0.592441859348367,
          -0.06997344795453184,
          1.693357440499662,
          -0.3094381365100396,
          -0.831906547903875,
          0.5613425491463525,
          -0.46182475649990823,
          -0.8536760650452847,
          1.6280488890754325,
          0.21303027488379575,
          -0.5489028250655473,
          0.9749633748331389,
          -0.33120765365144933,
          0.626651100570582,
          1.1926585462472368,
          -0.918984616469514,
          -1.2019883393078414,
          -1.4414530278633493,
          0.5395730320049428,
          0.604881583429172,
          0.713729169136221,
          0.40895592915648404,
          2.5641381261560543,
          -0.5271333079241376,
          -1.5503006135703983,
          -0.44005523935849833,
          -0.39651620507567886
         ],
         "y0": " ",
         "yaxis": "y",
         "type": "box"
        }
       ],
       "layout": {
        "template": {
         "data": {
          "histogram2dcontour": [
           {
            "type": "histogram2dcontour",
            "colorbar": {
             "outlinewidth": 0,
             "ticks": ""
            },
            "colorscale": [
             [
              0.0,
              "#0d0887"
             ],
             [
              0.1111111111111111,
              "#46039f"
             ],
             [
              0.2222222222222222,
              "#7201a8"
             ],
             [
              0.3333333333333333,
              "#9c179e"
             ],
             [
              0.4444444444444444,
              "#bd3786"
             ],
             [
              0.5555555555555556,
              "#d8576b"
             ],
             [
              0.6666666666666666,
              "#ed7953"
             ],
             [
              0.7777777777777778,
              "#fb9f3a"
             ],
             [
              0.8888888888888888,
              "#fdca26"
             ],
             [
              1.0,
              "#f0f921"
             ]
            ]
           }
          ],
          "choropleth": [
           {
            "type": "choropleth",
            "colorbar": {
             "outlinewidth": 0,
             "ticks": ""
            }
           }
          ],
          "histogram2d": [
           {
            "type": "histogram2d",
            "colorbar": {
             "outlinewidth": 0,
             "ticks": ""
            },
            "colorscale": [
             [
              0.0,
              "#0d0887"
             ],
             [
              0.1111111111111111,
              "#46039f"
             ],
             [
              0.2222222222222222,
              "#7201a8"
             ],
             [
              0.3333333333333333,
              "#9c179e"
             ],
             [
              0.4444444444444444,
              "#bd3786"
             ],
             [
              0.5555555555555556,
              "#d8576b"
             ],
             [
              0.6666666666666666,
              "#ed7953"
             ],
             [
              0.7777777777777778,
              "#fb9f3a"
             ],
             [
              0.8888888888888888,
              "#fdca26"
             ],
             [
              1.0,
              "#f0f921"
             ]
            ]
           }
          ],
          "heatmap": [
           {
            "type": "heatmap",
            "colorbar": {
             "outlinewidth": 0,
             "ticks": ""
            },
            "colorscale": [
             [
              0.0,
              "#0d0887"
             ],
             [
              0.1111111111111111,
              "#46039f"
             ],
             [
              0.2222222222222222,
              "#7201a8"
             ],
             [
              0.3333333333333333,
              "#9c179e"
             ],
             [
              0.4444444444444444,
              "#bd3786"
             ],
             [
              0.5555555555555556,
              "#d8576b"
             ],
             [
              0.6666666666666666,
              "#ed7953"
             ],
             [
              0.7777777777777778,
              "#fb9f3a"
             ],
             [
              0.8888888888888888,
              "#fdca26"
             ],
             [
              1.0,
              "#f0f921"
             ]
            ]
           }
          ],
          "heatmapgl": [
           {
            "type": "heatmapgl",
            "colorbar": {
             "outlinewidth": 0,
             "ticks": ""
            },
            "colorscale": [
             [
              0.0,
              "#0d0887"
             ],
             [
              0.1111111111111111,
              "#46039f"
             ],
             [
              0.2222222222222222,
              "#7201a8"
             ],
             [
              0.3333333333333333,
              "#9c179e"
             ],
             [
              0.4444444444444444,
              "#bd3786"
             ],
             [
              0.5555555555555556,
              "#d8576b"
             ],
             [
              0.6666666666666666,
              "#ed7953"
             ],
             [
              0.7777777777777778,
              "#fb9f3a"
             ],
             [
              0.8888888888888888,
              "#fdca26"
             ],
             [
              1.0,
              "#f0f921"
             ]
            ]
           }
          ],
          "contourcarpet": [
           {
            "type": "contourcarpet",
            "colorbar": {
             "outlinewidth": 0,
             "ticks": ""
            }
           }
          ],
          "contour": [
           {
            "type": "contour",
            "colorbar": {
             "outlinewidth": 0,
             "ticks": ""
            },
            "colorscale": [
             [
              0.0,
              "#0d0887"
             ],
             [
              0.1111111111111111,
              "#46039f"
             ],
             [
              0.2222222222222222,
              "#7201a8"
             ],
             [
              0.3333333333333333,
              "#9c179e"
             ],
             [
              0.4444444444444444,
              "#bd3786"
             ],
             [
              0.5555555555555556,
              "#d8576b"
             ],
             [
              0.6666666666666666,
              "#ed7953"
             ],
             [
              0.7777777777777778,
              "#fb9f3a"
             ],
             [
              0.8888888888888888,
              "#fdca26"
             ],
             [
              1.0,
              "#f0f921"
             ]
            ]
           }
          ],
          "surface": [
           {
            "type": "surface",
            "colorbar": {
             "outlinewidth": 0,
             "ticks": ""
            },
            "colorscale": [
             [
              0.0,
              "#0d0887"
             ],
             [
              0.1111111111111111,
              "#46039f"
             ],
             [
              0.2222222222222222,
              "#7201a8"
             ],
             [
              0.3333333333333333,
              "#9c179e"
             ],
             [
              0.4444444444444444,
              "#bd3786"
             ],
             [
              0.5555555555555556,
              "#d8576b"
             ],
             [
              0.6666666666666666,
              "#ed7953"
             ],
             [
              0.7777777777777778,
              "#fb9f3a"
             ],
             [
              0.8888888888888888,
              "#fdca26"
             ],
             [
              1.0,
              "#f0f921"
             ]
            ]
           }
          ],
          "mesh3d": [
           {
            "type": "mesh3d",
            "colorbar": {
             "outlinewidth": 0,
             "ticks": ""
            }
           }
          ],
          "scatter": [
           {
            "marker": {
             "line": {
              "color": "#283442"
             }
            },
            "type": "scatter"
           }
          ],
          "parcoords": [
           {
            "type": "parcoords",
            "line": {
             "colorbar": {
              "outlinewidth": 0,
              "ticks": ""
             }
            }
           }
          ],
          "scatterpolargl": [
           {
            "type": "scatterpolargl",
            "marker": {
             "colorbar": {
              "outlinewidth": 0,
              "ticks": ""
             }
            }
           }
          ],
          "bar": [
           {
            "error_x": {
             "color": "#f2f5fa"
            },
            "error_y": {
             "color": "#f2f5fa"
            },
            "marker": {
             "line": {
              "color": "rgb(17,17,17)",
              "width": 0.5
             },
             "pattern": {
              "fillmode": "overlay",
              "size": 10,
              "solidity": 0.2
             }
            },
            "type": "bar"
           }
          ],
          "scattergeo": [
           {
            "type": "scattergeo",
            "marker": {
             "colorbar": {
              "outlinewidth": 0,
              "ticks": ""
             }
            }
           }
          ],
          "scatterpolar": [
           {
            "type": "scatterpolar",
            "marker": {
             "colorbar": {
              "outlinewidth": 0,
              "ticks": ""
             }
            }
           }
          ],
          "histogram": [
           {
            "marker": {
             "pattern": {
              "fillmode": "overlay",
              "size": 10,
              "solidity": 0.2
             }
            },
            "type": "histogram"
           }
          ],
          "scattergl": [
           {
            "marker": {
             "line": {
              "color": "#283442"
             }
            },
            "type": "scattergl"
           }
          ],
          "scatter3d": [
           {
            "type": "scatter3d",
            "line": {
             "colorbar": {
              "outlinewidth": 0,
              "ticks": ""
             }
            },
            "marker": {
             "colorbar": {
              "outlinewidth": 0,
              "ticks": ""
             }
            }
           }
          ],
          "scattermapbox": [
           {
            "type": "scattermapbox",
            "marker": {
             "colorbar": {
              "outlinewidth": 0,
              "ticks": ""
             }
            }
           }
          ],
          "scatterternary": [
           {
            "type": "scatterternary",
            "marker": {
             "colorbar": {
              "outlinewidth": 0,
              "ticks": ""
             }
            }
           }
          ],
          "scattercarpet": [
           {
            "type": "scattercarpet",
            "marker": {
             "colorbar": {
              "outlinewidth": 0,
              "ticks": ""
             }
            }
           }
          ],
          "carpet": [
           {
            "aaxis": {
             "endlinecolor": "#A2B1C6",
             "gridcolor": "#506784",
             "linecolor": "#506784",
             "minorgridcolor": "#506784",
             "startlinecolor": "#A2B1C6"
            },
            "baxis": {
             "endlinecolor": "#A2B1C6",
             "gridcolor": "#506784",
             "linecolor": "#506784",
             "minorgridcolor": "#506784",
             "startlinecolor": "#A2B1C6"
            },
            "type": "carpet"
           }
          ],
          "table": [
           {
            "cells": {
             "fill": {
              "color": "#506784"
             },
             "line": {
              "color": "rgb(17,17,17)"
             }
            },
            "header": {
             "fill": {
              "color": "#2a3f5f"
             },
             "line": {
              "color": "rgb(17,17,17)"
             }
            },
            "type": "table"
           }
          ],
          "barpolar": [
           {
            "marker": {
             "line": {
              "color": "rgb(17,17,17)",
              "width": 0.5
             },
             "pattern": {
              "fillmode": "overlay",
              "size": 10,
              "solidity": 0.2
             }
            },
            "type": "barpolar"
           }
          ],
          "pie": [
           {
            "automargin": true,
            "type": "pie"
           }
          ]
         },
         "layout": {
          "autotypenumbers": "strict",
          "colorway": [
           "#636efa",
           "#EF553B",
           "#00cc96",
           "#ab63fa",
           "#FFA15A",
           "#19d3f3",
           "#FF6692",
           "#B6E880",
           "#FF97FF",
           "#FECB52"
          ],
          "font": {
           "color": "#f2f5fa"
          },
          "hovermode": "closest",
          "hoverlabel": {
           "align": "left"
          },
          "paper_bgcolor": "rgb(17,17,17)",
          "plot_bgcolor": "rgb(17,17,17)",
          "polar": {
           "bgcolor": "rgb(17,17,17)",
           "angularaxis": {
            "gridcolor": "#506784",
            "linecolor": "#506784",
            "ticks": ""
           },
           "radialaxis": {
            "gridcolor": "#506784",
            "linecolor": "#506784",
            "ticks": ""
           }
          },
          "ternary": {
           "bgcolor": "rgb(17,17,17)",
           "aaxis": {
            "gridcolor": "#506784",
            "linecolor": "#506784",
            "ticks": ""
           },
           "baxis": {
            "gridcolor": "#506784",
            "linecolor": "#506784",
            "ticks": ""
           },
           "caxis": {
            "gridcolor": "#506784",
            "linecolor": "#506784",
            "ticks": ""
           }
          },
          "coloraxis": {
           "colorbar": {
            "outlinewidth": 0,
            "ticks": ""
           }
          },
          "colorscale": {
           "sequential": [
            [
             0.0,
             "#0d0887"
            ],
            [
             0.1111111111111111,
             "#46039f"
            ],
            [
             0.2222222222222222,
             "#7201a8"
            ],
            [
             0.3333333333333333,
             "#9c179e"
            ],
            [
             0.4444444444444444,
             "#bd3786"
            ],
            [
             0.5555555555555556,
             "#d8576b"
            ],
            [
             0.6666666666666666,
             "#ed7953"
            ],
            [
             0.7777777777777778,
             "#fb9f3a"
            ],
            [
             0.8888888888888888,
             "#fdca26"
            ],
            [
             1.0,
             "#f0f921"
            ]
           ],
           "sequentialminus": [
            [
             0.0,
             "#0d0887"
            ],
            [
             0.1111111111111111,
             "#46039f"
            ],
            [
             0.2222222222222222,
             "#7201a8"
            ],
            [
             0.3333333333333333,
             "#9c179e"
            ],
            [
             0.4444444444444444,
             "#bd3786"
            ],
            [
             0.5555555555555556,
             "#d8576b"
            ],
            [
             0.6666666666666666,
             "#ed7953"
            ],
            [
             0.7777777777777778,
             "#fb9f3a"
            ],
            [
             0.8888888888888888,
             "#fdca26"
            ],
            [
             1.0,
             "#f0f921"
            ]
           ],
           "diverging": [
            [
             0,
             "#8e0152"
            ],
            [
             0.1,
             "#c51b7d"
            ],
            [
             0.2,
             "#de77ae"
            ],
            [
             0.3,
             "#f1b6da"
            ],
            [
             0.4,
             "#fde0ef"
            ],
            [
             0.5,
             "#f7f7f7"
            ],
            [
             0.6,
             "#e6f5d0"
            ],
            [
             0.7,
             "#b8e186"
            ],
            [
             0.8,
             "#7fbc41"
            ],
            [
             0.9,
             "#4d9221"
            ],
            [
             1,
             "#276419"
            ]
           ]
          },
          "xaxis": {
           "gridcolor": "#283442",
           "linecolor": "#506784",
           "ticks": "",
           "title": {
            "standoff": 15
           },
           "zerolinecolor": "#283442",
           "automargin": true,
           "zerolinewidth": 2
          },
          "yaxis": {
           "gridcolor": "#283442",
           "linecolor": "#506784",
           "ticks": "",
           "title": {
            "standoff": 15
           },
           "zerolinecolor": "#283442",
           "automargin": true,
           "zerolinewidth": 2
          },
          "scene": {
           "xaxis": {
            "backgroundcolor": "rgb(17,17,17)",
            "gridcolor": "#506784",
            "linecolor": "#506784",
            "showbackground": true,
            "ticks": "",
            "zerolinecolor": "#C8D4E3",
            "gridwidth": 2
           },
           "yaxis": {
            "backgroundcolor": "rgb(17,17,17)",
            "gridcolor": "#506784",
            "linecolor": "#506784",
            "showbackground": true,
            "ticks": "",
            "zerolinecolor": "#C8D4E3",
            "gridwidth": 2
           },
           "zaxis": {
            "backgroundcolor": "rgb(17,17,17)",
            "gridcolor": "#506784",
            "linecolor": "#506784",
            "showbackground": true,
            "ticks": "",
            "zerolinecolor": "#C8D4E3",
            "gridwidth": 2
           }
          },
          "shapedefaults": {
           "line": {
            "color": "#f2f5fa"
           }
          },
          "annotationdefaults": {
           "arrowcolor": "#f2f5fa",
           "arrowhead": 0,
           "arrowwidth": 1
          },
          "geo": {
           "bgcolor": "rgb(17,17,17)",
           "landcolor": "rgb(17,17,17)",
           "subunitcolor": "#506784",
           "showland": true,
           "showlakes": true,
           "lakecolor": "rgb(17,17,17)"
          },
          "title": {
           "x": 0.05
          },
          "updatemenudefaults": {
           "bgcolor": "#506784",
           "borderwidth": 0
          },
          "sliderdefaults": {
           "bgcolor": "#C8D4E3",
           "borderwidth": 1,
           "bordercolor": "rgb(17,17,17)",
           "tickwidth": 0
          },
          "mapbox": {
           "style": "dark"
          }
         }
        },
        "xaxis": {
         "anchor": "y",
         "domain": [
          0.0,
          1.0
         ],
         "title": {
          "text": "variable"
         }
        },
        "yaxis": {
         "anchor": "x",
         "domain": [
          0.0,
          1.0
         ],
         "title": {
          "text": "value"
         }
        },
        "legend": {
         "tracegroupgap": 0
        },
        "title": {
         "text": "Boxplots for Standardized Variables"
        },
        "boxmode": "group"
       },
       "config": {
        "plotlyServerURL": "https://plot.ly"
       }
      },
      "text/html": "<div>                            <div id=\"44a0c4e2-91de-454c-b3ff-c15057bf966b\" class=\"plotly-graph-div\" style=\"height:525px; width:100%;\"></div>            <script type=\"text/javascript\">                require([\"plotly\"], function(Plotly) {                    window.PLOTLYENV=window.PLOTLYENV || {};                                    if (document.getElementById(\"44a0c4e2-91de-454c-b3ff-c15057bf966b\")) {                    Plotly.newPlot(                        \"44a0c4e2-91de-454c-b3ff-c15057bf966b\",                        [{\"alignmentgroup\":\"True\",\"hovertemplate\":\"variable=%{x}\\u003cbr\\u003evalue=%{y}\\u003cextra\\u003e\\u003c\\u002fextra\\u003e\",\"legendgroup\":\"\",\"marker\":{\"color\":\"#636efa\"},\"name\":\"\",\"notched\":false,\"offsetgroup\":\"\",\"orientation\":\"v\",\"showlegend\":false,\"x\":[\"Area\",\"Area\",\"Area\",\"Area\",\"Area\",\"Area\",\"Area\",\"Area\",\"Area\",\"Area\",\"Area\",\"Area\",\"Area\",\"Area\",\"Area\",\"Area\",\"Area\",\"Area\",\"Area\",\"Area\",\"Area\",\"Area\",\"Area\",\"Area\",\"Area\",\"Area\",\"Area\",\"Area\",\"GDP\",\"GDP\",\"GDP\",\"GDP\",\"GDP\",\"GDP\",\"GDP\",\"GDP\",\"GDP\",\"GDP\",\"GDP\",\"GDP\",\"GDP\",\"GDP\",\"GDP\",\"GDP\",\"GDP\",\"GDP\",\"GDP\",\"GDP\",\"GDP\",\"GDP\",\"GDP\",\"GDP\",\"GDP\",\"GDP\",\"GDP\",\"GDP\",\"Inflation\",\"Inflation\",\"Inflation\",\"Inflation\",\"Inflation\",\"Inflation\",\"Inflation\",\"Inflation\",\"Inflation\",\"Inflation\",\"Inflation\",\"Inflation\",\"Inflation\",\"Inflation\",\"Inflation\",\"Inflation\",\"Inflation\",\"Inflation\",\"Inflation\",\"Inflation\",\"Inflation\",\"Inflation\",\"Inflation\",\"Inflation\",\"Inflation\",\"Inflation\",\"Inflation\",\"Inflation\",\"Life.expect\",\"Life.expect\",\"Life.expect\",\"Life.expect\",\"Life.expect\",\"Life.expect\",\"Life.expect\",\"Life.expect\",\"Life.expect\",\"Life.expect\",\"Life.expect\",\"Life.expect\",\"Life.expect\",\"Life.expect\",\"Life.expect\",\"Life.expect\",\"Life.expect\",\"Life.expect\",\"Life.expect\",\"Life.expect\",\"Life.expect\",\"Life.expect\",\"Life.expect\",\"Life.expect\",\"Life.expect\",\"Life.expect\",\"Life.expect\",\"Life.expect\",\"Military\",\"Military\",\"Military\",\"Military\",\"Military\",\"Military\",\"Military\",\"Military\",\"Military\",\"Military\",\"Military\",\"Military\",\"Military\",\"Military\",\"Military\",\"Military\",\"Military\",\"Military\",\"Military\",\"Military\",\"Military\",\"Military\",\"Military\",\"Military\",\"Military\",\"Military\",\"Military\",\"Military\",\"Pop.growth\",\"Pop.growth\",\"Pop.growth\",\"Pop.growth\",\"Pop.growth\",\"Pop.growth\",\"Pop.growth\",\"Pop.growth\",\"Pop.growth\",\"Pop.growth\",\"Pop.growth\",\"Pop.growth\",\"Pop.growth\",\"Pop.growth\",\"Pop.growth\",\"Pop.growth\",\"Pop.growth\",\"Pop.growth\",\"Pop.growth\",\"Pop.growth\",\"Pop.growth\",\"Pop.growth\",\"Pop.growth\",\"Pop.growth\",\"Pop.growth\",\"Pop.growth\",\"Pop.growth\",\"Pop.growth\",\"Unemployment\",\"Unemployment\",\"Unemployment\",\"Unemployment\",\"Unemployment\",\"Unemployment\",\"Unemployment\",\"Unemployment\",\"Unemployment\",\"Unemployment\",\"Unemployment\",\"Unemployment\",\"Unemployment\",\"Unemployment\",\"Unemployment\",\"Unemployment\",\"Unemployment\",\"Unemployment\",\"Unemployment\",\"Unemployment\",\"Unemployment\",\"Unemployment\",\"Unemployment\",\"Unemployment\",\"Unemployment\",\"Unemployment\",\"Unemployment\",\"Unemployment\"],\"x0\":\" \",\"xaxis\":\"x\",\"y\":[-0.5078352153072948,-0.8359872436825724,-0.3416891421138205,-0.6756361053583314,-0.5386184998992729,-0.7586845350129486,-0.7455567313919892,1.056391184840716,1.1725174964399907,-0.21202286061307815,-0.4515037730593444,-0.39015866635446717,-0.5914865150438493,0.8299765586601094,-0.6264529797962081,-0.6220790958343982,-1.00787903786104,-0.7682258768199347,0.9681568421343325,0.8997679982476378,-0.4572741009864578,-0.7221370742293871,-0.8990732915424317,2.085115158840225,1.7463083245270363,-0.7698622384709072,2.6890925531728413,0.4748368665148462,0.6839004220990755,0.417061386853965,-1.2682377831151541,-0.9733104283705583,-0.33430115975726726,0.36088474785499436,-0.8047805113736464,0.29066394910628107,0.438127626478579,-0.3904777987562379,-0.860957150372617,0.438127626478579,0.6277237831001049,-0.09555044401164206,-1.057575386869014,-0.8960675497469736,3.4225115732988938,0.7119887415985608,1.5125058473338924,-0.818824671123389,-0.5941181151275065,-0.6011401950023778,-0.21492580188445465,-0.09555044401164206,0.6207017032252335,0.8875407384703441,-1.7316950548566619,0.3257743484806377,0.11444681374338085,0.11444681374338085,0.6242553476911687,-0.7595106730242555,-1.0508298352801342,-0.3953617202044071,1.206893672202926,-0.031212767384558648,-0.613851091896316,-0.031212767384558648,0.4057659759992595,0.4785957665632293,-0.5410213013323463,-0.3225319296404373,0.7699149288191083,0.5514255571271987,0.0416170231794111,-0.7595106730242555,-1.4878085786639519,0.6242553476911687,0.26010639487132037,0.4057659759992595,-1.1236596258441038,-0.1768723485124978,-0.24970213907646757,-2.2889362748676185,3.3917873891220163,0.8427447193830777,0.5707782634548065,0.48775597058865483,-1.3674729584588774,-0.6809424597579864,-0.23709250943508284,0.20995060599805912,-1.4504952513250338,0.41112000794297077,0.6601868865414349,0.6154825749981208,-0.9906794754509475,0.9188332604706095,0.7016980329745107,1.193445459950967,-1.6580509834904176,-0.8214417246084011,0.5196876216910201,0.8900947744784781,0.7016980329745107,-0.5979201668918303,0.18440528511616594,-0.6681697993170376,-0.20516085833271294,1.0050487184469996,0.9763102324548726,0.9731170673446342,-2.995987164679605,0.6538005563209628,-1.024347199800709,-0.388952392658045,1.2630741059128814,0.9962082869129626,-0.5795708348008444,-0.388952392658045,0.5006003373416845,0.5006003373416845,-0.13479446980097948,3.423416450197939,0.18290293377035255,-2.0409788912289715,-0.8972682383721763,0.24644241448461898,-0.6431103155151106,-0.8972682383721763,-0.8972682383721763,-0.00771550837244655,0.3735213759131516,0.3735213759131516,0.8818372216272827,-0.6685261078008171,0.11936345305608607,-0.516031354086578,-0.13479446980097948,-0.7701892769436435,-0.2618734312295124,1.3901530673414144,-0.1767889446862847,-0.11592717684346539,-1.8606311883376192,-0.42023601605756195,-0.5013850398479878,0.24924343021345052,-1.5563223491235225,-0.09563992089585892,-0.6433958314812329,-0.11592717684346539,-0.6028213195860199,1.1215954359605276,2.014234697655211,0.5332650134799407,-1.4548860693854904,-0.8056938790620845,2.0750964654980297,0.6752758051131857,0.4318287337419085,-0.39994876010995556,0.1275198945278119,-0.03477815305303961,-0.6231085755336264,1.0810209240653148,0.10723263858020549,1.6287768346506886,-1.5157478372283097,0.8781483645892503,-1.2455273735906611,-0.592441859348367,-0.06997344795453184,1.693357440499662,-0.3094381365100396,-0.831906547903875,0.5613425491463525,-0.46182475649990823,-0.8536760650452847,1.6280488890754325,0.21303027488379575,-0.5489028250655473,0.9749633748331389,-0.33120765365144933,0.626651100570582,1.1926585462472368,-0.918984616469514,-1.2019883393078414,-1.4414530278633493,0.5395730320049428,0.604881583429172,0.713729169136221,0.40895592915648404,2.5641381261560543,-0.5271333079241376,-1.5503006135703983,-0.44005523935849833,-0.39651620507567886],\"y0\":\" \",\"yaxis\":\"y\",\"type\":\"box\"}],                        {\"template\":{\"data\":{\"histogram2dcontour\":[{\"type\":\"histogram2dcontour\",\"colorbar\":{\"outlinewidth\":0,\"ticks\":\"\"},\"colorscale\":[[0.0,\"#0d0887\"],[0.1111111111111111,\"#46039f\"],[0.2222222222222222,\"#7201a8\"],[0.3333333333333333,\"#9c179e\"],[0.4444444444444444,\"#bd3786\"],[0.5555555555555556,\"#d8576b\"],[0.6666666666666666,\"#ed7953\"],[0.7777777777777778,\"#fb9f3a\"],[0.8888888888888888,\"#fdca26\"],[1.0,\"#f0f921\"]]}],\"choropleth\":[{\"type\":\"choropleth\",\"colorbar\":{\"outlinewidth\":0,\"ticks\":\"\"}}],\"histogram2d\":[{\"type\":\"histogram2d\",\"colorbar\":{\"outlinewidth\":0,\"ticks\":\"\"},\"colorscale\":[[0.0,\"#0d0887\"],[0.1111111111111111,\"#46039f\"],[0.2222222222222222,\"#7201a8\"],[0.3333333333333333,\"#9c179e\"],[0.4444444444444444,\"#bd3786\"],[0.5555555555555556,\"#d8576b\"],[0.6666666666666666,\"#ed7953\"],[0.7777777777777778,\"#fb9f3a\"],[0.8888888888888888,\"#fdca26\"],[1.0,\"#f0f921\"]]}],\"heatmap\":[{\"type\":\"heatmap\",\"colorbar\":{\"outlinewidth\":0,\"ticks\":\"\"},\"colorscale\":[[0.0,\"#0d0887\"],[0.1111111111111111,\"#46039f\"],[0.2222222222222222,\"#7201a8\"],[0.3333333333333333,\"#9c179e\"],[0.4444444444444444,\"#bd3786\"],[0.5555555555555556,\"#d8576b\"],[0.6666666666666666,\"#ed7953\"],[0.7777777777777778,\"#fb9f3a\"],[0.8888888888888888,\"#fdca26\"],[1.0,\"#f0f921\"]]}],\"heatmapgl\":[{\"type\":\"heatmapgl\",\"colorbar\":{\"outlinewidth\":0,\"ticks\":\"\"},\"colorscale\":[[0.0,\"#0d0887\"],[0.1111111111111111,\"#46039f\"],[0.2222222222222222,\"#7201a8\"],[0.3333333333333333,\"#9c179e\"],[0.4444444444444444,\"#bd3786\"],[0.5555555555555556,\"#d8576b\"],[0.6666666666666666,\"#ed7953\"],[0.7777777777777778,\"#fb9f3a\"],[0.8888888888888888,\"#fdca26\"],[1.0,\"#f0f921\"]]}],\"contourcarpet\":[{\"type\":\"contourcarpet\",\"colorbar\":{\"outlinewidth\":0,\"ticks\":\"\"}}],\"contour\":[{\"type\":\"contour\",\"colorbar\":{\"outlinewidth\":0,\"ticks\":\"\"},\"colorscale\":[[0.0,\"#0d0887\"],[0.1111111111111111,\"#46039f\"],[0.2222222222222222,\"#7201a8\"],[0.3333333333333333,\"#9c179e\"],[0.4444444444444444,\"#bd3786\"],[0.5555555555555556,\"#d8576b\"],[0.6666666666666666,\"#ed7953\"],[0.7777777777777778,\"#fb9f3a\"],[0.8888888888888888,\"#fdca26\"],[1.0,\"#f0f921\"]]}],\"surface\":[{\"type\":\"surface\",\"colorbar\":{\"outlinewidth\":0,\"ticks\":\"\"},\"colorscale\":[[0.0,\"#0d0887\"],[0.1111111111111111,\"#46039f\"],[0.2222222222222222,\"#7201a8\"],[0.3333333333333333,\"#9c179e\"],[0.4444444444444444,\"#bd3786\"],[0.5555555555555556,\"#d8576b\"],[0.6666666666666666,\"#ed7953\"],[0.7777777777777778,\"#fb9f3a\"],[0.8888888888888888,\"#fdca26\"],[1.0,\"#f0f921\"]]}],\"mesh3d\":[{\"type\":\"mesh3d\",\"colorbar\":{\"outlinewidth\":0,\"ticks\":\"\"}}],\"scatter\":[{\"marker\":{\"line\":{\"color\":\"#283442\"}},\"type\":\"scatter\"}],\"parcoords\":[{\"type\":\"parcoords\",\"line\":{\"colorbar\":{\"outlinewidth\":0,\"ticks\":\"\"}}}],\"scatterpolargl\":[{\"type\":\"scatterpolargl\",\"marker\":{\"colorbar\":{\"outlinewidth\":0,\"ticks\":\"\"}}}],\"bar\":[{\"error_x\":{\"color\":\"#f2f5fa\"},\"error_y\":{\"color\":\"#f2f5fa\"},\"marker\":{\"line\":{\"color\":\"rgb(17,17,17)\",\"width\":0.5},\"pattern\":{\"fillmode\":\"overlay\",\"size\":10,\"solidity\":0.2}},\"type\":\"bar\"}],\"scattergeo\":[{\"type\":\"scattergeo\",\"marker\":{\"colorbar\":{\"outlinewidth\":0,\"ticks\":\"\"}}}],\"scatterpolar\":[{\"type\":\"scatterpolar\",\"marker\":{\"colorbar\":{\"outlinewidth\":0,\"ticks\":\"\"}}}],\"histogram\":[{\"marker\":{\"pattern\":{\"fillmode\":\"overlay\",\"size\":10,\"solidity\":0.2}},\"type\":\"histogram\"}],\"scattergl\":[{\"marker\":{\"line\":{\"color\":\"#283442\"}},\"type\":\"scattergl\"}],\"scatter3d\":[{\"type\":\"scatter3d\",\"line\":{\"colorbar\":{\"outlinewidth\":0,\"ticks\":\"\"}},\"marker\":{\"colorbar\":{\"outlinewidth\":0,\"ticks\":\"\"}}}],\"scattermapbox\":[{\"type\":\"scattermapbox\",\"marker\":{\"colorbar\":{\"outlinewidth\":0,\"ticks\":\"\"}}}],\"scatterternary\":[{\"type\":\"scatterternary\",\"marker\":{\"colorbar\":{\"outlinewidth\":0,\"ticks\":\"\"}}}],\"scattercarpet\":[{\"type\":\"scattercarpet\",\"marker\":{\"colorbar\":{\"outlinewidth\":0,\"ticks\":\"\"}}}],\"carpet\":[{\"aaxis\":{\"endlinecolor\":\"#A2B1C6\",\"gridcolor\":\"#506784\",\"linecolor\":\"#506784\",\"minorgridcolor\":\"#506784\",\"startlinecolor\":\"#A2B1C6\"},\"baxis\":{\"endlinecolor\":\"#A2B1C6\",\"gridcolor\":\"#506784\",\"linecolor\":\"#506784\",\"minorgridcolor\":\"#506784\",\"startlinecolor\":\"#A2B1C6\"},\"type\":\"carpet\"}],\"table\":[{\"cells\":{\"fill\":{\"color\":\"#506784\"},\"line\":{\"color\":\"rgb(17,17,17)\"}},\"header\":{\"fill\":{\"color\":\"#2a3f5f\"},\"line\":{\"color\":\"rgb(17,17,17)\"}},\"type\":\"table\"}],\"barpolar\":[{\"marker\":{\"line\":{\"color\":\"rgb(17,17,17)\",\"width\":0.5},\"pattern\":{\"fillmode\":\"overlay\",\"size\":10,\"solidity\":0.2}},\"type\":\"barpolar\"}],\"pie\":[{\"automargin\":true,\"type\":\"pie\"}]},\"layout\":{\"autotypenumbers\":\"strict\",\"colorway\":[\"#636efa\",\"#EF553B\",\"#00cc96\",\"#ab63fa\",\"#FFA15A\",\"#19d3f3\",\"#FF6692\",\"#B6E880\",\"#FF97FF\",\"#FECB52\"],\"font\":{\"color\":\"#f2f5fa\"},\"hovermode\":\"closest\",\"hoverlabel\":{\"align\":\"left\"},\"paper_bgcolor\":\"rgb(17,17,17)\",\"plot_bgcolor\":\"rgb(17,17,17)\",\"polar\":{\"bgcolor\":\"rgb(17,17,17)\",\"angularaxis\":{\"gridcolor\":\"#506784\",\"linecolor\":\"#506784\",\"ticks\":\"\"},\"radialaxis\":{\"gridcolor\":\"#506784\",\"linecolor\":\"#506784\",\"ticks\":\"\"}},\"ternary\":{\"bgcolor\":\"rgb(17,17,17)\",\"aaxis\":{\"gridcolor\":\"#506784\",\"linecolor\":\"#506784\",\"ticks\":\"\"},\"baxis\":{\"gridcolor\":\"#506784\",\"linecolor\":\"#506784\",\"ticks\":\"\"},\"caxis\":{\"gridcolor\":\"#506784\",\"linecolor\":\"#506784\",\"ticks\":\"\"}},\"coloraxis\":{\"colorbar\":{\"outlinewidth\":0,\"ticks\":\"\"}},\"colorscale\":{\"sequential\":[[0.0,\"#0d0887\"],[0.1111111111111111,\"#46039f\"],[0.2222222222222222,\"#7201a8\"],[0.3333333333333333,\"#9c179e\"],[0.4444444444444444,\"#bd3786\"],[0.5555555555555556,\"#d8576b\"],[0.6666666666666666,\"#ed7953\"],[0.7777777777777778,\"#fb9f3a\"],[0.8888888888888888,\"#fdca26\"],[1.0,\"#f0f921\"]],\"sequentialminus\":[[0.0,\"#0d0887\"],[0.1111111111111111,\"#46039f\"],[0.2222222222222222,\"#7201a8\"],[0.3333333333333333,\"#9c179e\"],[0.4444444444444444,\"#bd3786\"],[0.5555555555555556,\"#d8576b\"],[0.6666666666666666,\"#ed7953\"],[0.7777777777777778,\"#fb9f3a\"],[0.8888888888888888,\"#fdca26\"],[1.0,\"#f0f921\"]],\"diverging\":[[0,\"#8e0152\"],[0.1,\"#c51b7d\"],[0.2,\"#de77ae\"],[0.3,\"#f1b6da\"],[0.4,\"#fde0ef\"],[0.5,\"#f7f7f7\"],[0.6,\"#e6f5d0\"],[0.7,\"#b8e186\"],[0.8,\"#7fbc41\"],[0.9,\"#4d9221\"],[1,\"#276419\"]]},\"xaxis\":{\"gridcolor\":\"#283442\",\"linecolor\":\"#506784\",\"ticks\":\"\",\"title\":{\"standoff\":15},\"zerolinecolor\":\"#283442\",\"automargin\":true,\"zerolinewidth\":2},\"yaxis\":{\"gridcolor\":\"#283442\",\"linecolor\":\"#506784\",\"ticks\":\"\",\"title\":{\"standoff\":15},\"zerolinecolor\":\"#283442\",\"automargin\":true,\"zerolinewidth\":2},\"scene\":{\"xaxis\":{\"backgroundcolor\":\"rgb(17,17,17)\",\"gridcolor\":\"#506784\",\"linecolor\":\"#506784\",\"showbackground\":true,\"ticks\":\"\",\"zerolinecolor\":\"#C8D4E3\",\"gridwidth\":2},\"yaxis\":{\"backgroundcolor\":\"rgb(17,17,17)\",\"gridcolor\":\"#506784\",\"linecolor\":\"#506784\",\"showbackground\":true,\"ticks\":\"\",\"zerolinecolor\":\"#C8D4E3\",\"gridwidth\":2},\"zaxis\":{\"backgroundcolor\":\"rgb(17,17,17)\",\"gridcolor\":\"#506784\",\"linecolor\":\"#506784\",\"showbackground\":true,\"ticks\":\"\",\"zerolinecolor\":\"#C8D4E3\",\"gridwidth\":2}},\"shapedefaults\":{\"line\":{\"color\":\"#f2f5fa\"}},\"annotationdefaults\":{\"arrowcolor\":\"#f2f5fa\",\"arrowhead\":0,\"arrowwidth\":1},\"geo\":{\"bgcolor\":\"rgb(17,17,17)\",\"landcolor\":\"rgb(17,17,17)\",\"subunitcolor\":\"#506784\",\"showland\":true,\"showlakes\":true,\"lakecolor\":\"rgb(17,17,17)\"},\"title\":{\"x\":0.05},\"updatemenudefaults\":{\"bgcolor\":\"#506784\",\"borderwidth\":0},\"sliderdefaults\":{\"bgcolor\":\"#C8D4E3\",\"borderwidth\":1,\"bordercolor\":\"rgb(17,17,17)\",\"tickwidth\":0},\"mapbox\":{\"style\":\"dark\"}}},\"xaxis\":{\"anchor\":\"y\",\"domain\":[0.0,1.0],\"title\":{\"text\":\"variable\"}},\"yaxis\":{\"anchor\":\"x\",\"domain\":[0.0,1.0],\"title\":{\"text\":\"value\"}},\"legend\":{\"tracegroupgap\":0},\"title\":{\"text\":\"Boxplots for Standardized Variables\"},\"boxmode\":\"group\"},                        {\"responsive\": true}                    ).then(function(){\n                            \nvar gd = document.getElementById('44a0c4e2-91de-454c-b3ff-c15057bf966b');\nvar x = new MutationObserver(function (mutations, observer) {{\n        var display = window.getComputedStyle(gd).display;\n        if (!display || display === 'none') {{\n            console.log([gd, 'removed!']);\n            Plotly.purge(gd);\n            observer.disconnect();\n        }}\n}});\n\n// Listen for the removal of the full notebook cells\nvar notebookContainer = gd.closest('#notebook-container');\nif (notebookContainer) {{\n    x.observe(notebookContainer, {childList: true});\n}}\n\n// Listen for the clearing of the current output cell\nvar outputEl = gd.closest('.output');\nif (outputEl) {{\n    x.observe(outputEl, {childList: true});\n}}\n\n                        })                };                });            </script>        </div>"
     },
     "metadata": {},
     "output_type": "display_data"
    }
   ],
   "source": [
    "numeric_df = df.iloc[:, 1:]\n",
    "\n",
    "scaler = StandardScaler()\n",
    "standardized_data = scaler.fit_transform(numeric_df)\n",
    "\n",
    "standardized_df = pd.DataFrame(standardized_data, columns=numeric_df.columns)\n",
    "\n",
    "fig = px.box(standardized_df, y=standardized_df.columns, title='Boxplots for Standardized Variables')\n",
    "fig.show()"
   ]
  },
  {
   "cell_type": "code",
   "execution_count": 23,
   "id": "de8fd913ee9f8e07",
   "metadata": {
    "collapsed": false,
    "ExecuteTime": {
     "end_time": "2023-10-12T20:41:00.640571300Z",
     "start_time": "2023-10-12T20:41:00.480589200Z"
    }
   },
   "outputs": [
    {
     "data": {
      "application/vnd.plotly.v1+json": {
       "data": [
        {
         "hovertemplate": "<b>%{hovertext}</b><br><br>0=%{x}<br>1=%{y}<extra></extra>",
         "hovertext": [
          "Austria",
          "Belgium",
          "Bulgaria",
          "Croatia",
          "Czechia",
          "Denmark",
          "Estonia",
          "Finland",
          "Germany",
          "Greece",
          "Hungary",
          "Iceland",
          "Ireland",
          "Italy",
          "Latvia",
          "Lithuania",
          "Luxembourg",
          "Netherlands",
          "Norway",
          "Poland",
          "Portugal",
          "Slovakia",
          "Slovenia",
          "Spain",
          "Sweden",
          "Switzerland",
          "Ukraine",
          "United Kingdom"
         ],
         "legendgroup": "",
         "marker": {
          "color": "rgba(0,0,0,0)",
          "symbol": "circle"
         },
         "mode": "markers",
         "name": "",
         "orientation": "v",
         "showlegend": false,
         "x": [
          -1.081747661209592,
          -0.6810940686338424,
          2.60987881642048,
          1.270148848585835,
          -0.167209493790511,
          -0.9551907971097198,
          2.4877352181041097,
          -0.21056315636344072,
          -0.5923936529244825,
          1.0004719569396414,
          1.3968983127833723,
          -1.583719702463114,
          -1.8089176109392018,
          -0.8532239623948386,
          2.306059408593169,
          1.5300999099527093,
          -3.47843495670464,
          -1.8400534050753625,
          -2.1065108336056704,
          1.4717738276291155,
          0.5264933349515383,
          0.7829659710814721,
          0.06754337538258408,
          -0.16376695684389928,
          -0.885105309651761,
          -3.2815861288159924,
          4.580268066769382,
          -0.3408193506673387
         ],
         "xaxis": "x",
         "y": [
          -1.2700511753306518,
          -0.4160407703581618,
          0.2696380047775591,
          1.901426825510465,
          -0.1319434770397063,
          -0.40962793443305534,
          -0.08577888146964144,
          -0.03371734441503799,
          -0.4718319333243305,
          3.4068491262602314,
          -0.034231060419028264,
          -1.477263500507385,
          0.5218076284463814,
          0.3277990530662122,
          -0.6753483938613147,
          -0.1949969157613867,
          -1.0762869772577128,
          -0.05722933947663195,
          -0.14396302178376644,
          0.07298507932278579,
          1.0347740532442322,
          -0.17225977664870304,
          0.7976720581220386,
          1.1520659980011683,
          -0.40288072654938456,
          -0.10822671542458402,
          -2.8290419876415944,
          0.505702104951006
         ],
         "yaxis": "y",
         "type": "scatter"
        }
       ],
       "layout": {
        "template": {
         "data": {
          "histogram2dcontour": [
           {
            "type": "histogram2dcontour",
            "colorbar": {
             "outlinewidth": 0,
             "ticks": ""
            },
            "colorscale": [
             [
              0.0,
              "#0d0887"
             ],
             [
              0.1111111111111111,
              "#46039f"
             ],
             [
              0.2222222222222222,
              "#7201a8"
             ],
             [
              0.3333333333333333,
              "#9c179e"
             ],
             [
              0.4444444444444444,
              "#bd3786"
             ],
             [
              0.5555555555555556,
              "#d8576b"
             ],
             [
              0.6666666666666666,
              "#ed7953"
             ],
             [
              0.7777777777777778,
              "#fb9f3a"
             ],
             [
              0.8888888888888888,
              "#fdca26"
             ],
             [
              1.0,
              "#f0f921"
             ]
            ]
           }
          ],
          "choropleth": [
           {
            "type": "choropleth",
            "colorbar": {
             "outlinewidth": 0,
             "ticks": ""
            }
           }
          ],
          "histogram2d": [
           {
            "type": "histogram2d",
            "colorbar": {
             "outlinewidth": 0,
             "ticks": ""
            },
            "colorscale": [
             [
              0.0,
              "#0d0887"
             ],
             [
              0.1111111111111111,
              "#46039f"
             ],
             [
              0.2222222222222222,
              "#7201a8"
             ],
             [
              0.3333333333333333,
              "#9c179e"
             ],
             [
              0.4444444444444444,
              "#bd3786"
             ],
             [
              0.5555555555555556,
              "#d8576b"
             ],
             [
              0.6666666666666666,
              "#ed7953"
             ],
             [
              0.7777777777777778,
              "#fb9f3a"
             ],
             [
              0.8888888888888888,
              "#fdca26"
             ],
             [
              1.0,
              "#f0f921"
             ]
            ]
           }
          ],
          "heatmap": [
           {
            "type": "heatmap",
            "colorbar": {
             "outlinewidth": 0,
             "ticks": ""
            },
            "colorscale": [
             [
              0.0,
              "#0d0887"
             ],
             [
              0.1111111111111111,
              "#46039f"
             ],
             [
              0.2222222222222222,
              "#7201a8"
             ],
             [
              0.3333333333333333,
              "#9c179e"
             ],
             [
              0.4444444444444444,
              "#bd3786"
             ],
             [
              0.5555555555555556,
              "#d8576b"
             ],
             [
              0.6666666666666666,
              "#ed7953"
             ],
             [
              0.7777777777777778,
              "#fb9f3a"
             ],
             [
              0.8888888888888888,
              "#fdca26"
             ],
             [
              1.0,
              "#f0f921"
             ]
            ]
           }
          ],
          "heatmapgl": [
           {
            "type": "heatmapgl",
            "colorbar": {
             "outlinewidth": 0,
             "ticks": ""
            },
            "colorscale": [
             [
              0.0,
              "#0d0887"
             ],
             [
              0.1111111111111111,
              "#46039f"
             ],
             [
              0.2222222222222222,
              "#7201a8"
             ],
             [
              0.3333333333333333,
              "#9c179e"
             ],
             [
              0.4444444444444444,
              "#bd3786"
             ],
             [
              0.5555555555555556,
              "#d8576b"
             ],
             [
              0.6666666666666666,
              "#ed7953"
             ],
             [
              0.7777777777777778,
              "#fb9f3a"
             ],
             [
              0.8888888888888888,
              "#fdca26"
             ],
             [
              1.0,
              "#f0f921"
             ]
            ]
           }
          ],
          "contourcarpet": [
           {
            "type": "contourcarpet",
            "colorbar": {
             "outlinewidth": 0,
             "ticks": ""
            }
           }
          ],
          "contour": [
           {
            "type": "contour",
            "colorbar": {
             "outlinewidth": 0,
             "ticks": ""
            },
            "colorscale": [
             [
              0.0,
              "#0d0887"
             ],
             [
              0.1111111111111111,
              "#46039f"
             ],
             [
              0.2222222222222222,
              "#7201a8"
             ],
             [
              0.3333333333333333,
              "#9c179e"
             ],
             [
              0.4444444444444444,
              "#bd3786"
             ],
             [
              0.5555555555555556,
              "#d8576b"
             ],
             [
              0.6666666666666666,
              "#ed7953"
             ],
             [
              0.7777777777777778,
              "#fb9f3a"
             ],
             [
              0.8888888888888888,
              "#fdca26"
             ],
             [
              1.0,
              "#f0f921"
             ]
            ]
           }
          ],
          "surface": [
           {
            "type": "surface",
            "colorbar": {
             "outlinewidth": 0,
             "ticks": ""
            },
            "colorscale": [
             [
              0.0,
              "#0d0887"
             ],
             [
              0.1111111111111111,
              "#46039f"
             ],
             [
              0.2222222222222222,
              "#7201a8"
             ],
             [
              0.3333333333333333,
              "#9c179e"
             ],
             [
              0.4444444444444444,
              "#bd3786"
             ],
             [
              0.5555555555555556,
              "#d8576b"
             ],
             [
              0.6666666666666666,
              "#ed7953"
             ],
             [
              0.7777777777777778,
              "#fb9f3a"
             ],
             [
              0.8888888888888888,
              "#fdca26"
             ],
             [
              1.0,
              "#f0f921"
             ]
            ]
           }
          ],
          "mesh3d": [
           {
            "type": "mesh3d",
            "colorbar": {
             "outlinewidth": 0,
             "ticks": ""
            }
           }
          ],
          "scatter": [
           {
            "marker": {
             "line": {
              "color": "#283442"
             }
            },
            "type": "scatter"
           }
          ],
          "parcoords": [
           {
            "type": "parcoords",
            "line": {
             "colorbar": {
              "outlinewidth": 0,
              "ticks": ""
             }
            }
           }
          ],
          "scatterpolargl": [
           {
            "type": "scatterpolargl",
            "marker": {
             "colorbar": {
              "outlinewidth": 0,
              "ticks": ""
             }
            }
           }
          ],
          "bar": [
           {
            "error_x": {
             "color": "#f2f5fa"
            },
            "error_y": {
             "color": "#f2f5fa"
            },
            "marker": {
             "line": {
              "color": "rgb(17,17,17)",
              "width": 0.5
             },
             "pattern": {
              "fillmode": "overlay",
              "size": 10,
              "solidity": 0.2
             }
            },
            "type": "bar"
           }
          ],
          "scattergeo": [
           {
            "type": "scattergeo",
            "marker": {
             "colorbar": {
              "outlinewidth": 0,
              "ticks": ""
             }
            }
           }
          ],
          "scatterpolar": [
           {
            "type": "scatterpolar",
            "marker": {
             "colorbar": {
              "outlinewidth": 0,
              "ticks": ""
             }
            }
           }
          ],
          "histogram": [
           {
            "marker": {
             "pattern": {
              "fillmode": "overlay",
              "size": 10,
              "solidity": 0.2
             }
            },
            "type": "histogram"
           }
          ],
          "scattergl": [
           {
            "marker": {
             "line": {
              "color": "#283442"
             }
            },
            "type": "scattergl"
           }
          ],
          "scatter3d": [
           {
            "type": "scatter3d",
            "line": {
             "colorbar": {
              "outlinewidth": 0,
              "ticks": ""
             }
            },
            "marker": {
             "colorbar": {
              "outlinewidth": 0,
              "ticks": ""
             }
            }
           }
          ],
          "scattermapbox": [
           {
            "type": "scattermapbox",
            "marker": {
             "colorbar": {
              "outlinewidth": 0,
              "ticks": ""
             }
            }
           }
          ],
          "scatterternary": [
           {
            "type": "scatterternary",
            "marker": {
             "colorbar": {
              "outlinewidth": 0,
              "ticks": ""
             }
            }
           }
          ],
          "scattercarpet": [
           {
            "type": "scattercarpet",
            "marker": {
             "colorbar": {
              "outlinewidth": 0,
              "ticks": ""
             }
            }
           }
          ],
          "carpet": [
           {
            "aaxis": {
             "endlinecolor": "#A2B1C6",
             "gridcolor": "#506784",
             "linecolor": "#506784",
             "minorgridcolor": "#506784",
             "startlinecolor": "#A2B1C6"
            },
            "baxis": {
             "endlinecolor": "#A2B1C6",
             "gridcolor": "#506784",
             "linecolor": "#506784",
             "minorgridcolor": "#506784",
             "startlinecolor": "#A2B1C6"
            },
            "type": "carpet"
           }
          ],
          "table": [
           {
            "cells": {
             "fill": {
              "color": "#506784"
             },
             "line": {
              "color": "rgb(17,17,17)"
             }
            },
            "header": {
             "fill": {
              "color": "#2a3f5f"
             },
             "line": {
              "color": "rgb(17,17,17)"
             }
            },
            "type": "table"
           }
          ],
          "barpolar": [
           {
            "marker": {
             "line": {
              "color": "rgb(17,17,17)",
              "width": 0.5
             },
             "pattern": {
              "fillmode": "overlay",
              "size": 10,
              "solidity": 0.2
             }
            },
            "type": "barpolar"
           }
          ],
          "pie": [
           {
            "automargin": true,
            "type": "pie"
           }
          ]
         },
         "layout": {
          "autotypenumbers": "strict",
          "colorway": [
           "#636efa",
           "#EF553B",
           "#00cc96",
           "#ab63fa",
           "#FFA15A",
           "#19d3f3",
           "#FF6692",
           "#B6E880",
           "#FF97FF",
           "#FECB52"
          ],
          "font": {
           "color": "#f2f5fa"
          },
          "hovermode": "closest",
          "hoverlabel": {
           "align": "left"
          },
          "paper_bgcolor": "rgb(17,17,17)",
          "plot_bgcolor": "rgb(17,17,17)",
          "polar": {
           "bgcolor": "rgb(17,17,17)",
           "angularaxis": {
            "gridcolor": "#506784",
            "linecolor": "#506784",
            "ticks": ""
           },
           "radialaxis": {
            "gridcolor": "#506784",
            "linecolor": "#506784",
            "ticks": ""
           }
          },
          "ternary": {
           "bgcolor": "rgb(17,17,17)",
           "aaxis": {
            "gridcolor": "#506784",
            "linecolor": "#506784",
            "ticks": ""
           },
           "baxis": {
            "gridcolor": "#506784",
            "linecolor": "#506784",
            "ticks": ""
           },
           "caxis": {
            "gridcolor": "#506784",
            "linecolor": "#506784",
            "ticks": ""
           }
          },
          "coloraxis": {
           "colorbar": {
            "outlinewidth": 0,
            "ticks": ""
           }
          },
          "colorscale": {
           "sequential": [
            [
             0.0,
             "#0d0887"
            ],
            [
             0.1111111111111111,
             "#46039f"
            ],
            [
             0.2222222222222222,
             "#7201a8"
            ],
            [
             0.3333333333333333,
             "#9c179e"
            ],
            [
             0.4444444444444444,
             "#bd3786"
            ],
            [
             0.5555555555555556,
             "#d8576b"
            ],
            [
             0.6666666666666666,
             "#ed7953"
            ],
            [
             0.7777777777777778,
             "#fb9f3a"
            ],
            [
             0.8888888888888888,
             "#fdca26"
            ],
            [
             1.0,
             "#f0f921"
            ]
           ],
           "sequentialminus": [
            [
             0.0,
             "#0d0887"
            ],
            [
             0.1111111111111111,
             "#46039f"
            ],
            [
             0.2222222222222222,
             "#7201a8"
            ],
            [
             0.3333333333333333,
             "#9c179e"
            ],
            [
             0.4444444444444444,
             "#bd3786"
            ],
            [
             0.5555555555555556,
             "#d8576b"
            ],
            [
             0.6666666666666666,
             "#ed7953"
            ],
            [
             0.7777777777777778,
             "#fb9f3a"
            ],
            [
             0.8888888888888888,
             "#fdca26"
            ],
            [
             1.0,
             "#f0f921"
            ]
           ],
           "diverging": [
            [
             0,
             "#8e0152"
            ],
            [
             0.1,
             "#c51b7d"
            ],
            [
             0.2,
             "#de77ae"
            ],
            [
             0.3,
             "#f1b6da"
            ],
            [
             0.4,
             "#fde0ef"
            ],
            [
             0.5,
             "#f7f7f7"
            ],
            [
             0.6,
             "#e6f5d0"
            ],
            [
             0.7,
             "#b8e186"
            ],
            [
             0.8,
             "#7fbc41"
            ],
            [
             0.9,
             "#4d9221"
            ],
            [
             1,
             "#276419"
            ]
           ]
          },
          "xaxis": {
           "gridcolor": "#283442",
           "linecolor": "#506784",
           "ticks": "",
           "title": {
            "standoff": 15
           },
           "zerolinecolor": "#283442",
           "automargin": true,
           "zerolinewidth": 2
          },
          "yaxis": {
           "gridcolor": "#283442",
           "linecolor": "#506784",
           "ticks": "",
           "title": {
            "standoff": 15
           },
           "zerolinecolor": "#283442",
           "automargin": true,
           "zerolinewidth": 2
          },
          "scene": {
           "xaxis": {
            "backgroundcolor": "rgb(17,17,17)",
            "gridcolor": "#506784",
            "linecolor": "#506784",
            "showbackground": true,
            "ticks": "",
            "zerolinecolor": "#C8D4E3",
            "gridwidth": 2
           },
           "yaxis": {
            "backgroundcolor": "rgb(17,17,17)",
            "gridcolor": "#506784",
            "linecolor": "#506784",
            "showbackground": true,
            "ticks": "",
            "zerolinecolor": "#C8D4E3",
            "gridwidth": 2
           },
           "zaxis": {
            "backgroundcolor": "rgb(17,17,17)",
            "gridcolor": "#506784",
            "linecolor": "#506784",
            "showbackground": true,
            "ticks": "",
            "zerolinecolor": "#C8D4E3",
            "gridwidth": 2
           }
          },
          "shapedefaults": {
           "line": {
            "color": "#f2f5fa"
           }
          },
          "annotationdefaults": {
           "arrowcolor": "#f2f5fa",
           "arrowhead": 0,
           "arrowwidth": 1
          },
          "geo": {
           "bgcolor": "rgb(17,17,17)",
           "landcolor": "rgb(17,17,17)",
           "subunitcolor": "#506784",
           "showland": true,
           "showlakes": true,
           "lakecolor": "rgb(17,17,17)"
          },
          "title": {
           "x": 0.05
          },
          "updatemenudefaults": {
           "bgcolor": "#506784",
           "borderwidth": 0
          },
          "sliderdefaults": {
           "bgcolor": "#C8D4E3",
           "borderwidth": 1,
           "bordercolor": "rgb(17,17,17)",
           "tickwidth": 0
          },
          "mapbox": {
           "style": "dark"
          }
         }
        },
        "xaxis": {
         "anchor": "y",
         "domain": [
          0.0,
          1.0
         ],
         "title": {
          "text": "PCA1"
         }
        },
        "yaxis": {
         "anchor": "x",
         "domain": [
          0.0,
          1.0
         ],
         "title": {
          "text": "PCA2"
         }
        },
        "legend": {
         "tracegroupgap": 0
        },
        "title": {
         "text": "PCA BiPlot - Total Explained Variance 63.06%"
        },
        "height": 700,
        "width": 1100,
        "images": [
         {
          "layer": "above",
          "opacity": 1,
          "sizex": 0.3,
          "sizey": 0.3,
          "sizing": "contain",
          "source": "https://raw.githubusercontent.com/matahombres/CSS-Country-Flags-Rounded/master/flags/AT.png",
          "x": -1.081747661209592,
          "xanchor": "center",
          "xref": "x",
          "y": -1.2700511753306518,
          "yanchor": "middle",
          "yref": "y"
         },
         {
          "layer": "above",
          "opacity": 1,
          "sizex": 0.3,
          "sizey": 0.3,
          "sizing": "contain",
          "source": "https://raw.githubusercontent.com/matahombres/CSS-Country-Flags-Rounded/master/flags/BE.png",
          "x": -0.6810940686338424,
          "xanchor": "center",
          "xref": "x",
          "y": -0.4160407703581618,
          "yanchor": "middle",
          "yref": "y"
         },
         {
          "layer": "above",
          "opacity": 1,
          "sizex": 0.3,
          "sizey": 0.3,
          "sizing": "contain",
          "source": "https://raw.githubusercontent.com/matahombres/CSS-Country-Flags-Rounded/master/flags/BG.png",
          "x": 2.60987881642048,
          "xanchor": "center",
          "xref": "x",
          "y": 0.2696380047775591,
          "yanchor": "middle",
          "yref": "y"
         },
         {
          "layer": "above",
          "opacity": 1,
          "sizex": 0.3,
          "sizey": 0.3,
          "sizing": "contain",
          "source": "https://raw.githubusercontent.com/matahombres/CSS-Country-Flags-Rounded/master/flags/HR.png",
          "x": 1.270148848585835,
          "xanchor": "center",
          "xref": "x",
          "y": 1.901426825510465,
          "yanchor": "middle",
          "yref": "y"
         },
         {
          "layer": "above",
          "opacity": 1,
          "sizex": 0.3,
          "sizey": 0.3,
          "sizing": "contain",
          "source": "https://raw.githubusercontent.com/matahombres/CSS-Country-Flags-Rounded/master/flags/CZ.png",
          "x": -0.167209493790511,
          "xanchor": "center",
          "xref": "x",
          "y": -0.1319434770397063,
          "yanchor": "middle",
          "yref": "y"
         },
         {
          "layer": "above",
          "opacity": 1,
          "sizex": 0.3,
          "sizey": 0.3,
          "sizing": "contain",
          "source": "https://raw.githubusercontent.com/matahombres/CSS-Country-Flags-Rounded/master/flags/DK.png",
          "x": -0.9551907971097198,
          "xanchor": "center",
          "xref": "x",
          "y": -0.40962793443305534,
          "yanchor": "middle",
          "yref": "y"
         },
         {
          "layer": "above",
          "opacity": 1,
          "sizex": 0.3,
          "sizey": 0.3,
          "sizing": "contain",
          "source": "https://raw.githubusercontent.com/matahombres/CSS-Country-Flags-Rounded/master/flags/EE.png",
          "x": 2.4877352181041097,
          "xanchor": "center",
          "xref": "x",
          "y": -0.08577888146964144,
          "yanchor": "middle",
          "yref": "y"
         },
         {
          "layer": "above",
          "opacity": 1,
          "sizex": 0.3,
          "sizey": 0.3,
          "sizing": "contain",
          "source": "https://raw.githubusercontent.com/matahombres/CSS-Country-Flags-Rounded/master/flags/FI.png",
          "x": -0.21056315636344072,
          "xanchor": "center",
          "xref": "x",
          "y": -0.03371734441503799,
          "yanchor": "middle",
          "yref": "y"
         },
         {
          "layer": "above",
          "opacity": 1,
          "sizex": 0.3,
          "sizey": 0.3,
          "sizing": "contain",
          "source": "https://raw.githubusercontent.com/matahombres/CSS-Country-Flags-Rounded/master/flags/DE.png",
          "x": -0.5923936529244825,
          "xanchor": "center",
          "xref": "x",
          "y": -0.4718319333243305,
          "yanchor": "middle",
          "yref": "y"
         },
         {
          "layer": "above",
          "opacity": 1,
          "sizex": 0.3,
          "sizey": 0.3,
          "sizing": "contain",
          "source": "https://raw.githubusercontent.com/matahombres/CSS-Country-Flags-Rounded/master/flags/GR.png",
          "x": 1.0004719569396414,
          "xanchor": "center",
          "xref": "x",
          "y": 3.4068491262602314,
          "yanchor": "middle",
          "yref": "y"
         },
         {
          "layer": "above",
          "opacity": 1,
          "sizex": 0.3,
          "sizey": 0.3,
          "sizing": "contain",
          "source": "https://raw.githubusercontent.com/matahombres/CSS-Country-Flags-Rounded/master/flags/HU.png",
          "x": 1.3968983127833723,
          "xanchor": "center",
          "xref": "x",
          "y": -0.034231060419028264,
          "yanchor": "middle",
          "yref": "y"
         },
         {
          "layer": "above",
          "opacity": 1,
          "sizex": 0.3,
          "sizey": 0.3,
          "sizing": "contain",
          "source": "https://raw.githubusercontent.com/matahombres/CSS-Country-Flags-Rounded/master/flags/IS.png",
          "x": -1.583719702463114,
          "xanchor": "center",
          "xref": "x",
          "y": -1.477263500507385,
          "yanchor": "middle",
          "yref": "y"
         },
         {
          "layer": "above",
          "opacity": 1,
          "sizex": 0.3,
          "sizey": 0.3,
          "sizing": "contain",
          "source": "https://raw.githubusercontent.com/matahombres/CSS-Country-Flags-Rounded/master/flags/IE.png",
          "x": -1.8089176109392018,
          "xanchor": "center",
          "xref": "x",
          "y": 0.5218076284463814,
          "yanchor": "middle",
          "yref": "y"
         },
         {
          "layer": "above",
          "opacity": 1,
          "sizex": 0.3,
          "sizey": 0.3,
          "sizing": "contain",
          "source": "https://raw.githubusercontent.com/matahombres/CSS-Country-Flags-Rounded/master/flags/IT.png",
          "x": -0.8532239623948386,
          "xanchor": "center",
          "xref": "x",
          "y": 0.3277990530662122,
          "yanchor": "middle",
          "yref": "y"
         },
         {
          "layer": "above",
          "opacity": 1,
          "sizex": 0.3,
          "sizey": 0.3,
          "sizing": "contain",
          "source": "https://raw.githubusercontent.com/matahombres/CSS-Country-Flags-Rounded/master/flags/LV.png",
          "x": 2.306059408593169,
          "xanchor": "center",
          "xref": "x",
          "y": -0.6753483938613147,
          "yanchor": "middle",
          "yref": "y"
         },
         {
          "layer": "above",
          "opacity": 1,
          "sizex": 0.3,
          "sizey": 0.3,
          "sizing": "contain",
          "source": "https://raw.githubusercontent.com/matahombres/CSS-Country-Flags-Rounded/master/flags/LT.png",
          "x": 1.5300999099527093,
          "xanchor": "center",
          "xref": "x",
          "y": -0.1949969157613867,
          "yanchor": "middle",
          "yref": "y"
         },
         {
          "layer": "above",
          "opacity": 1,
          "sizex": 0.3,
          "sizey": 0.3,
          "sizing": "contain",
          "source": "https://raw.githubusercontent.com/matahombres/CSS-Country-Flags-Rounded/master/flags/LU.png",
          "x": -3.47843495670464,
          "xanchor": "center",
          "xref": "x",
          "y": -1.0762869772577128,
          "yanchor": "middle",
          "yref": "y"
         },
         {
          "layer": "above",
          "opacity": 1,
          "sizex": 0.3,
          "sizey": 0.3,
          "sizing": "contain",
          "source": "https://raw.githubusercontent.com/matahombres/CSS-Country-Flags-Rounded/master/flags/NL.png",
          "x": -1.8400534050753625,
          "xanchor": "center",
          "xref": "x",
          "y": -0.05722933947663195,
          "yanchor": "middle",
          "yref": "y"
         },
         {
          "layer": "above",
          "opacity": 1,
          "sizex": 0.3,
          "sizey": 0.3,
          "sizing": "contain",
          "source": "https://raw.githubusercontent.com/matahombres/CSS-Country-Flags-Rounded/master/flags/NO.png",
          "x": -2.1065108336056704,
          "xanchor": "center",
          "xref": "x",
          "y": -0.14396302178376644,
          "yanchor": "middle",
          "yref": "y"
         },
         {
          "layer": "above",
          "opacity": 1,
          "sizex": 0.3,
          "sizey": 0.3,
          "sizing": "contain",
          "source": "https://raw.githubusercontent.com/matahombres/CSS-Country-Flags-Rounded/master/flags/PL.png",
          "x": 1.4717738276291155,
          "xanchor": "center",
          "xref": "x",
          "y": 0.07298507932278579,
          "yanchor": "middle",
          "yref": "y"
         },
         {
          "layer": "above",
          "opacity": 1,
          "sizex": 0.3,
          "sizey": 0.3,
          "sizing": "contain",
          "source": "https://raw.githubusercontent.com/matahombres/CSS-Country-Flags-Rounded/master/flags/PT.png",
          "x": 0.5264933349515383,
          "xanchor": "center",
          "xref": "x",
          "y": 1.0347740532442322,
          "yanchor": "middle",
          "yref": "y"
         },
         {
          "layer": "above",
          "opacity": 1,
          "sizex": 0.3,
          "sizey": 0.3,
          "sizing": "contain",
          "source": "https://raw.githubusercontent.com/matahombres/CSS-Country-Flags-Rounded/master/flags/SK.png",
          "x": 0.7829659710814721,
          "xanchor": "center",
          "xref": "x",
          "y": -0.17225977664870304,
          "yanchor": "middle",
          "yref": "y"
         },
         {
          "layer": "above",
          "opacity": 1,
          "sizex": 0.3,
          "sizey": 0.3,
          "sizing": "contain",
          "source": "https://raw.githubusercontent.com/matahombres/CSS-Country-Flags-Rounded/master/flags/SI.png",
          "x": 0.06754337538258408,
          "xanchor": "center",
          "xref": "x",
          "y": 0.7976720581220386,
          "yanchor": "middle",
          "yref": "y"
         },
         {
          "layer": "above",
          "opacity": 1,
          "sizex": 0.3,
          "sizey": 0.3,
          "sizing": "contain",
          "source": "https://raw.githubusercontent.com/matahombres/CSS-Country-Flags-Rounded/master/flags/ES.png",
          "x": -0.16376695684389928,
          "xanchor": "center",
          "xref": "x",
          "y": 1.1520659980011683,
          "yanchor": "middle",
          "yref": "y"
         },
         {
          "layer": "above",
          "opacity": 1,
          "sizex": 0.3,
          "sizey": 0.3,
          "sizing": "contain",
          "source": "https://raw.githubusercontent.com/matahombres/CSS-Country-Flags-Rounded/master/flags/SE.png",
          "x": -0.885105309651761,
          "xanchor": "center",
          "xref": "x",
          "y": -0.40288072654938456,
          "yanchor": "middle",
          "yref": "y"
         },
         {
          "layer": "above",
          "opacity": 1,
          "sizex": 0.3,
          "sizey": 0.3,
          "sizing": "contain",
          "source": "https://raw.githubusercontent.com/matahombres/CSS-Country-Flags-Rounded/master/flags/CH.png",
          "x": -3.2815861288159924,
          "xanchor": "center",
          "xref": "x",
          "y": -0.10822671542458402,
          "yanchor": "middle",
          "yref": "y"
         },
         {
          "layer": "above",
          "opacity": 1,
          "sizex": 0.3,
          "sizey": 0.3,
          "sizing": "contain",
          "source": "https://raw.githubusercontent.com/matahombres/CSS-Country-Flags-Rounded/master/flags/UA.png",
          "x": 4.580268066769382,
          "xanchor": "center",
          "xref": "x",
          "y": -2.8290419876415944,
          "yanchor": "middle",
          "yref": "y"
         },
         {
          "layer": "above",
          "opacity": 1,
          "sizex": 0.3,
          "sizey": 0.3,
          "sizing": "contain",
          "source": "https://raw.githubusercontent.com/matahombres/CSS-Country-Flags-Rounded/master/flags/GB.png",
          "x": -0.3408193506673387,
          "xanchor": "center",
          "xref": "x",
          "y": 0.505702104951006,
          "yanchor": "middle",
          "yref": "y"
         }
        ],
        "annotations": [
         {
          "arrowcolor": "red",
          "arrowhead": 1,
          "arrowsize": 1,
          "ax": 0,
          "axref": "x",
          "ay": 0,
          "ayref": "y",
          "showarrow": true,
          "x": 0.22844383730607398,
          "xanchor": "right",
          "y": -0.19180955193510613,
          "yanchor": "top"
         },
         {
          "ax": 0,
          "ay": 0,
          "font": {
           "color": "red",
           "size": 15
          },
          "text": "Area",
          "x": 0.22844383730607398,
          "xanchor": "center",
          "y": -0.19180955193510613,
          "yanchor": "bottom",
          "yshift": 5
         },
         {
          "arrowcolor": "blue",
          "arrowhead": 1,
          "arrowsize": 1,
          "ax": 0,
          "axref": "x",
          "ay": 0,
          "ayref": "y",
          "showarrow": true,
          "x": -0.9156234985802526,
          "xanchor": "right",
          "y": -0.1443957395878201,
          "yanchor": "top"
         },
         {
          "ax": 0,
          "ay": 0,
          "font": {
           "color": "blue",
           "size": 15
          },
          "text": "GDP",
          "x": -0.9156234985802526,
          "xanchor": "center",
          "y": -0.1443957395878201,
          "yanchor": "bottom",
          "yshift": 5
         },
         {
          "arrowcolor": "darkgreen",
          "arrowhead": 1,
          "arrowsize": 1,
          "ax": 0,
          "axref": "x",
          "ay": 0,
          "ayref": "y",
          "showarrow": true,
          "x": 0.7436827540131483,
          "xanchor": "right",
          "y": -0.4101514842075319,
          "yanchor": "top"
         },
         {
          "ax": 0,
          "ay": 0,
          "font": {
           "color": "darkgreen",
           "size": 15
          },
          "text": "Inflation",
          "x": 0.7436827540131483,
          "xanchor": "center",
          "y": -0.4101514842075319,
          "yanchor": "bottom",
          "yshift": 5
         },
         {
          "arrowcolor": "darkorange",
          "arrowhead": 1,
          "arrowsize": 1,
          "ax": 0,
          "axref": "x",
          "ay": 0,
          "ayref": "y",
          "showarrow": true,
          "x": -0.8833666101945947,
          "xanchor": "right",
          "y": 0.2943044667336666,
          "yanchor": "top"
         },
         {
          "ax": 0,
          "ay": 0,
          "font": {
           "color": "darkorange",
           "size": 15
          },
          "text": "Life.expect",
          "x": -0.8833666101945947,
          "xanchor": "center",
          "y": 0.2943044667336666,
          "yanchor": "bottom",
          "yshift": 5
         },
         {
          "arrowcolor": "green",
          "arrowhead": 1,
          "arrowsize": 1,
          "ax": 0,
          "axref": "x",
          "ay": 0,
          "ayref": "y",
          "showarrow": true,
          "x": 0.3441306694199031,
          "xanchor": "right",
          "y": 0.7303769822845857,
          "yanchor": "top"
         },
         {
          "ax": 0,
          "ay": 0,
          "font": {
           "color": "green",
           "size": 15
          },
          "text": "Military",
          "x": 0.3441306694199031,
          "xanchor": "center",
          "y": 0.7303769822845857,
          "yanchor": "bottom",
          "yshift": 5
         },
         {
          "arrowcolor": "brown",
          "arrowhead": 1,
          "arrowsize": 1,
          "ax": 0,
          "axref": "x",
          "ay": 0,
          "ayref": "y",
          "showarrow": true,
          "x": -0.8702502579039437,
          "xanchor": "right",
          "y": 0.09167283933354453,
          "yanchor": "top"
         },
         {
          "ax": 0,
          "ay": 0,
          "font": {
           "color": "brown",
           "size": 15
          },
          "text": "Pop.growth",
          "x": -0.8702502579039437,
          "xanchor": "center",
          "y": 0.09167283933354453,
          "yanchor": "bottom",
          "yshift": 5
         },
         {
          "arrowcolor": "purple",
          "arrowhead": 1,
          "arrowsize": 1,
          "ax": 0,
          "axref": "x",
          "ay": 0,
          "ayref": "y",
          "showarrow": true,
          "x": 0.49696611584443345,
          "xanchor": "right",
          "y": 0.6138046132344843,
          "yanchor": "top"
         },
         {
          "ax": 0,
          "ay": 0,
          "font": {
           "color": "purple",
           "size": 15
          },
          "text": "Unemployment",
          "x": 0.49696611584443345,
          "xanchor": "center",
          "y": 0.6138046132344843,
          "yanchor": "bottom",
          "yshift": 5
         }
        ]
       },
       "config": {
        "plotlyServerURL": "https://plot.ly"
       }
      },
      "text/html": "<div>                            <div id=\"4f825e0e-d0d5-4ff3-a59e-eaf753081e58\" class=\"plotly-graph-div\" style=\"height:700px; width:1100px;\"></div>            <script type=\"text/javascript\">                require([\"plotly\"], function(Plotly) {                    window.PLOTLYENV=window.PLOTLYENV || {};                                    if (document.getElementById(\"4f825e0e-d0d5-4ff3-a59e-eaf753081e58\")) {                    Plotly.newPlot(                        \"4f825e0e-d0d5-4ff3-a59e-eaf753081e58\",                        [{\"hovertemplate\":\"\\u003cb\\u003e%{hovertext}\\u003c\\u002fb\\u003e\\u003cbr\\u003e\\u003cbr\\u003e0=%{x}\\u003cbr\\u003e1=%{y}\\u003cextra\\u003e\\u003c\\u002fextra\\u003e\",\"hovertext\":[\"Austria\",\"Belgium\",\"Bulgaria\",\"Croatia\",\"Czechia\",\"Denmark\",\"Estonia\",\"Finland\",\"Germany\",\"Greece\",\"Hungary\",\"Iceland\",\"Ireland\",\"Italy\",\"Latvia\",\"Lithuania\",\"Luxembourg\",\"Netherlands\",\"Norway\",\"Poland\",\"Portugal\",\"Slovakia\",\"Slovenia\",\"Spain\",\"Sweden\",\"Switzerland\",\"Ukraine\",\"United Kingdom\"],\"legendgroup\":\"\",\"marker\":{\"color\":\"rgba(0,0,0,0)\",\"symbol\":\"circle\"},\"mode\":\"markers\",\"name\":\"\",\"orientation\":\"v\",\"showlegend\":false,\"x\":[-1.081747661209592,-0.6810940686338424,2.60987881642048,1.270148848585835,-0.167209493790511,-0.9551907971097198,2.4877352181041097,-0.21056315636344072,-0.5923936529244825,1.0004719569396414,1.3968983127833723,-1.583719702463114,-1.8089176109392018,-0.8532239623948386,2.306059408593169,1.5300999099527093,-3.47843495670464,-1.8400534050753625,-2.1065108336056704,1.4717738276291155,0.5264933349515383,0.7829659710814721,0.06754337538258408,-0.16376695684389928,-0.885105309651761,-3.2815861288159924,4.580268066769382,-0.3408193506673387],\"xaxis\":\"x\",\"y\":[-1.2700511753306518,-0.4160407703581618,0.2696380047775591,1.901426825510465,-0.1319434770397063,-0.40962793443305534,-0.08577888146964144,-0.03371734441503799,-0.4718319333243305,3.4068491262602314,-0.034231060419028264,-1.477263500507385,0.5218076284463814,0.3277990530662122,-0.6753483938613147,-0.1949969157613867,-1.0762869772577128,-0.05722933947663195,-0.14396302178376644,0.07298507932278579,1.0347740532442322,-0.17225977664870304,0.7976720581220386,1.1520659980011683,-0.40288072654938456,-0.10822671542458402,-2.8290419876415944,0.505702104951006],\"yaxis\":\"y\",\"type\":\"scatter\"}],                        {\"template\":{\"data\":{\"histogram2dcontour\":[{\"type\":\"histogram2dcontour\",\"colorbar\":{\"outlinewidth\":0,\"ticks\":\"\"},\"colorscale\":[[0.0,\"#0d0887\"],[0.1111111111111111,\"#46039f\"],[0.2222222222222222,\"#7201a8\"],[0.3333333333333333,\"#9c179e\"],[0.4444444444444444,\"#bd3786\"],[0.5555555555555556,\"#d8576b\"],[0.6666666666666666,\"#ed7953\"],[0.7777777777777778,\"#fb9f3a\"],[0.8888888888888888,\"#fdca26\"],[1.0,\"#f0f921\"]]}],\"choropleth\":[{\"type\":\"choropleth\",\"colorbar\":{\"outlinewidth\":0,\"ticks\":\"\"}}],\"histogram2d\":[{\"type\":\"histogram2d\",\"colorbar\":{\"outlinewidth\":0,\"ticks\":\"\"},\"colorscale\":[[0.0,\"#0d0887\"],[0.1111111111111111,\"#46039f\"],[0.2222222222222222,\"#7201a8\"],[0.3333333333333333,\"#9c179e\"],[0.4444444444444444,\"#bd3786\"],[0.5555555555555556,\"#d8576b\"],[0.6666666666666666,\"#ed7953\"],[0.7777777777777778,\"#fb9f3a\"],[0.8888888888888888,\"#fdca26\"],[1.0,\"#f0f921\"]]}],\"heatmap\":[{\"type\":\"heatmap\",\"colorbar\":{\"outlinewidth\":0,\"ticks\":\"\"},\"colorscale\":[[0.0,\"#0d0887\"],[0.1111111111111111,\"#46039f\"],[0.2222222222222222,\"#7201a8\"],[0.3333333333333333,\"#9c179e\"],[0.4444444444444444,\"#bd3786\"],[0.5555555555555556,\"#d8576b\"],[0.6666666666666666,\"#ed7953\"],[0.7777777777777778,\"#fb9f3a\"],[0.8888888888888888,\"#fdca26\"],[1.0,\"#f0f921\"]]}],\"heatmapgl\":[{\"type\":\"heatmapgl\",\"colorbar\":{\"outlinewidth\":0,\"ticks\":\"\"},\"colorscale\":[[0.0,\"#0d0887\"],[0.1111111111111111,\"#46039f\"],[0.2222222222222222,\"#7201a8\"],[0.3333333333333333,\"#9c179e\"],[0.4444444444444444,\"#bd3786\"],[0.5555555555555556,\"#d8576b\"],[0.6666666666666666,\"#ed7953\"],[0.7777777777777778,\"#fb9f3a\"],[0.8888888888888888,\"#fdca26\"],[1.0,\"#f0f921\"]]}],\"contourcarpet\":[{\"type\":\"contourcarpet\",\"colorbar\":{\"outlinewidth\":0,\"ticks\":\"\"}}],\"contour\":[{\"type\":\"contour\",\"colorbar\":{\"outlinewidth\":0,\"ticks\":\"\"},\"colorscale\":[[0.0,\"#0d0887\"],[0.1111111111111111,\"#46039f\"],[0.2222222222222222,\"#7201a8\"],[0.3333333333333333,\"#9c179e\"],[0.4444444444444444,\"#bd3786\"],[0.5555555555555556,\"#d8576b\"],[0.6666666666666666,\"#ed7953\"],[0.7777777777777778,\"#fb9f3a\"],[0.8888888888888888,\"#fdca26\"],[1.0,\"#f0f921\"]]}],\"surface\":[{\"type\":\"surface\",\"colorbar\":{\"outlinewidth\":0,\"ticks\":\"\"},\"colorscale\":[[0.0,\"#0d0887\"],[0.1111111111111111,\"#46039f\"],[0.2222222222222222,\"#7201a8\"],[0.3333333333333333,\"#9c179e\"],[0.4444444444444444,\"#bd3786\"],[0.5555555555555556,\"#d8576b\"],[0.6666666666666666,\"#ed7953\"],[0.7777777777777778,\"#fb9f3a\"],[0.8888888888888888,\"#fdca26\"],[1.0,\"#f0f921\"]]}],\"mesh3d\":[{\"type\":\"mesh3d\",\"colorbar\":{\"outlinewidth\":0,\"ticks\":\"\"}}],\"scatter\":[{\"marker\":{\"line\":{\"color\":\"#283442\"}},\"type\":\"scatter\"}],\"parcoords\":[{\"type\":\"parcoords\",\"line\":{\"colorbar\":{\"outlinewidth\":0,\"ticks\":\"\"}}}],\"scatterpolargl\":[{\"type\":\"scatterpolargl\",\"marker\":{\"colorbar\":{\"outlinewidth\":0,\"ticks\":\"\"}}}],\"bar\":[{\"error_x\":{\"color\":\"#f2f5fa\"},\"error_y\":{\"color\":\"#f2f5fa\"},\"marker\":{\"line\":{\"color\":\"rgb(17,17,17)\",\"width\":0.5},\"pattern\":{\"fillmode\":\"overlay\",\"size\":10,\"solidity\":0.2}},\"type\":\"bar\"}],\"scattergeo\":[{\"type\":\"scattergeo\",\"marker\":{\"colorbar\":{\"outlinewidth\":0,\"ticks\":\"\"}}}],\"scatterpolar\":[{\"type\":\"scatterpolar\",\"marker\":{\"colorbar\":{\"outlinewidth\":0,\"ticks\":\"\"}}}],\"histogram\":[{\"marker\":{\"pattern\":{\"fillmode\":\"overlay\",\"size\":10,\"solidity\":0.2}},\"type\":\"histogram\"}],\"scattergl\":[{\"marker\":{\"line\":{\"color\":\"#283442\"}},\"type\":\"scattergl\"}],\"scatter3d\":[{\"type\":\"scatter3d\",\"line\":{\"colorbar\":{\"outlinewidth\":0,\"ticks\":\"\"}},\"marker\":{\"colorbar\":{\"outlinewidth\":0,\"ticks\":\"\"}}}],\"scattermapbox\":[{\"type\":\"scattermapbox\",\"marker\":{\"colorbar\":{\"outlinewidth\":0,\"ticks\":\"\"}}}],\"scatterternary\":[{\"type\":\"scatterternary\",\"marker\":{\"colorbar\":{\"outlinewidth\":0,\"ticks\":\"\"}}}],\"scattercarpet\":[{\"type\":\"scattercarpet\",\"marker\":{\"colorbar\":{\"outlinewidth\":0,\"ticks\":\"\"}}}],\"carpet\":[{\"aaxis\":{\"endlinecolor\":\"#A2B1C6\",\"gridcolor\":\"#506784\",\"linecolor\":\"#506784\",\"minorgridcolor\":\"#506784\",\"startlinecolor\":\"#A2B1C6\"},\"baxis\":{\"endlinecolor\":\"#A2B1C6\",\"gridcolor\":\"#506784\",\"linecolor\":\"#506784\",\"minorgridcolor\":\"#506784\",\"startlinecolor\":\"#A2B1C6\"},\"type\":\"carpet\"}],\"table\":[{\"cells\":{\"fill\":{\"color\":\"#506784\"},\"line\":{\"color\":\"rgb(17,17,17)\"}},\"header\":{\"fill\":{\"color\":\"#2a3f5f\"},\"line\":{\"color\":\"rgb(17,17,17)\"}},\"type\":\"table\"}],\"barpolar\":[{\"marker\":{\"line\":{\"color\":\"rgb(17,17,17)\",\"width\":0.5},\"pattern\":{\"fillmode\":\"overlay\",\"size\":10,\"solidity\":0.2}},\"type\":\"barpolar\"}],\"pie\":[{\"automargin\":true,\"type\":\"pie\"}]},\"layout\":{\"autotypenumbers\":\"strict\",\"colorway\":[\"#636efa\",\"#EF553B\",\"#00cc96\",\"#ab63fa\",\"#FFA15A\",\"#19d3f3\",\"#FF6692\",\"#B6E880\",\"#FF97FF\",\"#FECB52\"],\"font\":{\"color\":\"#f2f5fa\"},\"hovermode\":\"closest\",\"hoverlabel\":{\"align\":\"left\"},\"paper_bgcolor\":\"rgb(17,17,17)\",\"plot_bgcolor\":\"rgb(17,17,17)\",\"polar\":{\"bgcolor\":\"rgb(17,17,17)\",\"angularaxis\":{\"gridcolor\":\"#506784\",\"linecolor\":\"#506784\",\"ticks\":\"\"},\"radialaxis\":{\"gridcolor\":\"#506784\",\"linecolor\":\"#506784\",\"ticks\":\"\"}},\"ternary\":{\"bgcolor\":\"rgb(17,17,17)\",\"aaxis\":{\"gridcolor\":\"#506784\",\"linecolor\":\"#506784\",\"ticks\":\"\"},\"baxis\":{\"gridcolor\":\"#506784\",\"linecolor\":\"#506784\",\"ticks\":\"\"},\"caxis\":{\"gridcolor\":\"#506784\",\"linecolor\":\"#506784\",\"ticks\":\"\"}},\"coloraxis\":{\"colorbar\":{\"outlinewidth\":0,\"ticks\":\"\"}},\"colorscale\":{\"sequential\":[[0.0,\"#0d0887\"],[0.1111111111111111,\"#46039f\"],[0.2222222222222222,\"#7201a8\"],[0.3333333333333333,\"#9c179e\"],[0.4444444444444444,\"#bd3786\"],[0.5555555555555556,\"#d8576b\"],[0.6666666666666666,\"#ed7953\"],[0.7777777777777778,\"#fb9f3a\"],[0.8888888888888888,\"#fdca26\"],[1.0,\"#f0f921\"]],\"sequentialminus\":[[0.0,\"#0d0887\"],[0.1111111111111111,\"#46039f\"],[0.2222222222222222,\"#7201a8\"],[0.3333333333333333,\"#9c179e\"],[0.4444444444444444,\"#bd3786\"],[0.5555555555555556,\"#d8576b\"],[0.6666666666666666,\"#ed7953\"],[0.7777777777777778,\"#fb9f3a\"],[0.8888888888888888,\"#fdca26\"],[1.0,\"#f0f921\"]],\"diverging\":[[0,\"#8e0152\"],[0.1,\"#c51b7d\"],[0.2,\"#de77ae\"],[0.3,\"#f1b6da\"],[0.4,\"#fde0ef\"],[0.5,\"#f7f7f7\"],[0.6,\"#e6f5d0\"],[0.7,\"#b8e186\"],[0.8,\"#7fbc41\"],[0.9,\"#4d9221\"],[1,\"#276419\"]]},\"xaxis\":{\"gridcolor\":\"#283442\",\"linecolor\":\"#506784\",\"ticks\":\"\",\"title\":{\"standoff\":15},\"zerolinecolor\":\"#283442\",\"automargin\":true,\"zerolinewidth\":2},\"yaxis\":{\"gridcolor\":\"#283442\",\"linecolor\":\"#506784\",\"ticks\":\"\",\"title\":{\"standoff\":15},\"zerolinecolor\":\"#283442\",\"automargin\":true,\"zerolinewidth\":2},\"scene\":{\"xaxis\":{\"backgroundcolor\":\"rgb(17,17,17)\",\"gridcolor\":\"#506784\",\"linecolor\":\"#506784\",\"showbackground\":true,\"ticks\":\"\",\"zerolinecolor\":\"#C8D4E3\",\"gridwidth\":2},\"yaxis\":{\"backgroundcolor\":\"rgb(17,17,17)\",\"gridcolor\":\"#506784\",\"linecolor\":\"#506784\",\"showbackground\":true,\"ticks\":\"\",\"zerolinecolor\":\"#C8D4E3\",\"gridwidth\":2},\"zaxis\":{\"backgroundcolor\":\"rgb(17,17,17)\",\"gridcolor\":\"#506784\",\"linecolor\":\"#506784\",\"showbackground\":true,\"ticks\":\"\",\"zerolinecolor\":\"#C8D4E3\",\"gridwidth\":2}},\"shapedefaults\":{\"line\":{\"color\":\"#f2f5fa\"}},\"annotationdefaults\":{\"arrowcolor\":\"#f2f5fa\",\"arrowhead\":0,\"arrowwidth\":1},\"geo\":{\"bgcolor\":\"rgb(17,17,17)\",\"landcolor\":\"rgb(17,17,17)\",\"subunitcolor\":\"#506784\",\"showland\":true,\"showlakes\":true,\"lakecolor\":\"rgb(17,17,17)\"},\"title\":{\"x\":0.05},\"updatemenudefaults\":{\"bgcolor\":\"#506784\",\"borderwidth\":0},\"sliderdefaults\":{\"bgcolor\":\"#C8D4E3\",\"borderwidth\":1,\"bordercolor\":\"rgb(17,17,17)\",\"tickwidth\":0},\"mapbox\":{\"style\":\"dark\"}}},\"xaxis\":{\"anchor\":\"y\",\"domain\":[0.0,1.0],\"title\":{\"text\":\"PCA1\"}},\"yaxis\":{\"anchor\":\"x\",\"domain\":[0.0,1.0],\"title\":{\"text\":\"PCA2\"}},\"legend\":{\"tracegroupgap\":0},\"title\":{\"text\":\"PCA BiPlot - Total Explained Variance 63.06%\"},\"height\":700,\"width\":1100,\"images\":[{\"layer\":\"above\",\"opacity\":1,\"sizex\":0.3,\"sizey\":0.3,\"sizing\":\"contain\",\"source\":\"https:\\u002f\\u002fraw.githubusercontent.com\\u002fmatahombres\\u002fCSS-Country-Flags-Rounded\\u002fmaster\\u002fflags\\u002fAT.png\",\"x\":-1.081747661209592,\"xanchor\":\"center\",\"xref\":\"x\",\"y\":-1.2700511753306518,\"yanchor\":\"middle\",\"yref\":\"y\"},{\"layer\":\"above\",\"opacity\":1,\"sizex\":0.3,\"sizey\":0.3,\"sizing\":\"contain\",\"source\":\"https:\\u002f\\u002fraw.githubusercontent.com\\u002fmatahombres\\u002fCSS-Country-Flags-Rounded\\u002fmaster\\u002fflags\\u002fBE.png\",\"x\":-0.6810940686338424,\"xanchor\":\"center\",\"xref\":\"x\",\"y\":-0.4160407703581618,\"yanchor\":\"middle\",\"yref\":\"y\"},{\"layer\":\"above\",\"opacity\":1,\"sizex\":0.3,\"sizey\":0.3,\"sizing\":\"contain\",\"source\":\"https:\\u002f\\u002fraw.githubusercontent.com\\u002fmatahombres\\u002fCSS-Country-Flags-Rounded\\u002fmaster\\u002fflags\\u002fBG.png\",\"x\":2.60987881642048,\"xanchor\":\"center\",\"xref\":\"x\",\"y\":0.2696380047775591,\"yanchor\":\"middle\",\"yref\":\"y\"},{\"layer\":\"above\",\"opacity\":1,\"sizex\":0.3,\"sizey\":0.3,\"sizing\":\"contain\",\"source\":\"https:\\u002f\\u002fraw.githubusercontent.com\\u002fmatahombres\\u002fCSS-Country-Flags-Rounded\\u002fmaster\\u002fflags\\u002fHR.png\",\"x\":1.270148848585835,\"xanchor\":\"center\",\"xref\":\"x\",\"y\":1.901426825510465,\"yanchor\":\"middle\",\"yref\":\"y\"},{\"layer\":\"above\",\"opacity\":1,\"sizex\":0.3,\"sizey\":0.3,\"sizing\":\"contain\",\"source\":\"https:\\u002f\\u002fraw.githubusercontent.com\\u002fmatahombres\\u002fCSS-Country-Flags-Rounded\\u002fmaster\\u002fflags\\u002fCZ.png\",\"x\":-0.167209493790511,\"xanchor\":\"center\",\"xref\":\"x\",\"y\":-0.1319434770397063,\"yanchor\":\"middle\",\"yref\":\"y\"},{\"layer\":\"above\",\"opacity\":1,\"sizex\":0.3,\"sizey\":0.3,\"sizing\":\"contain\",\"source\":\"https:\\u002f\\u002fraw.githubusercontent.com\\u002fmatahombres\\u002fCSS-Country-Flags-Rounded\\u002fmaster\\u002fflags\\u002fDK.png\",\"x\":-0.9551907971097198,\"xanchor\":\"center\",\"xref\":\"x\",\"y\":-0.40962793443305534,\"yanchor\":\"middle\",\"yref\":\"y\"},{\"layer\":\"above\",\"opacity\":1,\"sizex\":0.3,\"sizey\":0.3,\"sizing\":\"contain\",\"source\":\"https:\\u002f\\u002fraw.githubusercontent.com\\u002fmatahombres\\u002fCSS-Country-Flags-Rounded\\u002fmaster\\u002fflags\\u002fEE.png\",\"x\":2.4877352181041097,\"xanchor\":\"center\",\"xref\":\"x\",\"y\":-0.08577888146964144,\"yanchor\":\"middle\",\"yref\":\"y\"},{\"layer\":\"above\",\"opacity\":1,\"sizex\":0.3,\"sizey\":0.3,\"sizing\":\"contain\",\"source\":\"https:\\u002f\\u002fraw.githubusercontent.com\\u002fmatahombres\\u002fCSS-Country-Flags-Rounded\\u002fmaster\\u002fflags\\u002fFI.png\",\"x\":-0.21056315636344072,\"xanchor\":\"center\",\"xref\":\"x\",\"y\":-0.03371734441503799,\"yanchor\":\"middle\",\"yref\":\"y\"},{\"layer\":\"above\",\"opacity\":1,\"sizex\":0.3,\"sizey\":0.3,\"sizing\":\"contain\",\"source\":\"https:\\u002f\\u002fraw.githubusercontent.com\\u002fmatahombres\\u002fCSS-Country-Flags-Rounded\\u002fmaster\\u002fflags\\u002fDE.png\",\"x\":-0.5923936529244825,\"xanchor\":\"center\",\"xref\":\"x\",\"y\":-0.4718319333243305,\"yanchor\":\"middle\",\"yref\":\"y\"},{\"layer\":\"above\",\"opacity\":1,\"sizex\":0.3,\"sizey\":0.3,\"sizing\":\"contain\",\"source\":\"https:\\u002f\\u002fraw.githubusercontent.com\\u002fmatahombres\\u002fCSS-Country-Flags-Rounded\\u002fmaster\\u002fflags\\u002fGR.png\",\"x\":1.0004719569396414,\"xanchor\":\"center\",\"xref\":\"x\",\"y\":3.4068491262602314,\"yanchor\":\"middle\",\"yref\":\"y\"},{\"layer\":\"above\",\"opacity\":1,\"sizex\":0.3,\"sizey\":0.3,\"sizing\":\"contain\",\"source\":\"https:\\u002f\\u002fraw.githubusercontent.com\\u002fmatahombres\\u002fCSS-Country-Flags-Rounded\\u002fmaster\\u002fflags\\u002fHU.png\",\"x\":1.3968983127833723,\"xanchor\":\"center\",\"xref\":\"x\",\"y\":-0.034231060419028264,\"yanchor\":\"middle\",\"yref\":\"y\"},{\"layer\":\"above\",\"opacity\":1,\"sizex\":0.3,\"sizey\":0.3,\"sizing\":\"contain\",\"source\":\"https:\\u002f\\u002fraw.githubusercontent.com\\u002fmatahombres\\u002fCSS-Country-Flags-Rounded\\u002fmaster\\u002fflags\\u002fIS.png\",\"x\":-1.583719702463114,\"xanchor\":\"center\",\"xref\":\"x\",\"y\":-1.477263500507385,\"yanchor\":\"middle\",\"yref\":\"y\"},{\"layer\":\"above\",\"opacity\":1,\"sizex\":0.3,\"sizey\":0.3,\"sizing\":\"contain\",\"source\":\"https:\\u002f\\u002fraw.githubusercontent.com\\u002fmatahombres\\u002fCSS-Country-Flags-Rounded\\u002fmaster\\u002fflags\\u002fIE.png\",\"x\":-1.8089176109392018,\"xanchor\":\"center\",\"xref\":\"x\",\"y\":0.5218076284463814,\"yanchor\":\"middle\",\"yref\":\"y\"},{\"layer\":\"above\",\"opacity\":1,\"sizex\":0.3,\"sizey\":0.3,\"sizing\":\"contain\",\"source\":\"https:\\u002f\\u002fraw.githubusercontent.com\\u002fmatahombres\\u002fCSS-Country-Flags-Rounded\\u002fmaster\\u002fflags\\u002fIT.png\",\"x\":-0.8532239623948386,\"xanchor\":\"center\",\"xref\":\"x\",\"y\":0.3277990530662122,\"yanchor\":\"middle\",\"yref\":\"y\"},{\"layer\":\"above\",\"opacity\":1,\"sizex\":0.3,\"sizey\":0.3,\"sizing\":\"contain\",\"source\":\"https:\\u002f\\u002fraw.githubusercontent.com\\u002fmatahombres\\u002fCSS-Country-Flags-Rounded\\u002fmaster\\u002fflags\\u002fLV.png\",\"x\":2.306059408593169,\"xanchor\":\"center\",\"xref\":\"x\",\"y\":-0.6753483938613147,\"yanchor\":\"middle\",\"yref\":\"y\"},{\"layer\":\"above\",\"opacity\":1,\"sizex\":0.3,\"sizey\":0.3,\"sizing\":\"contain\",\"source\":\"https:\\u002f\\u002fraw.githubusercontent.com\\u002fmatahombres\\u002fCSS-Country-Flags-Rounded\\u002fmaster\\u002fflags\\u002fLT.png\",\"x\":1.5300999099527093,\"xanchor\":\"center\",\"xref\":\"x\",\"y\":-0.1949969157613867,\"yanchor\":\"middle\",\"yref\":\"y\"},{\"layer\":\"above\",\"opacity\":1,\"sizex\":0.3,\"sizey\":0.3,\"sizing\":\"contain\",\"source\":\"https:\\u002f\\u002fraw.githubusercontent.com\\u002fmatahombres\\u002fCSS-Country-Flags-Rounded\\u002fmaster\\u002fflags\\u002fLU.png\",\"x\":-3.47843495670464,\"xanchor\":\"center\",\"xref\":\"x\",\"y\":-1.0762869772577128,\"yanchor\":\"middle\",\"yref\":\"y\"},{\"layer\":\"above\",\"opacity\":1,\"sizex\":0.3,\"sizey\":0.3,\"sizing\":\"contain\",\"source\":\"https:\\u002f\\u002fraw.githubusercontent.com\\u002fmatahombres\\u002fCSS-Country-Flags-Rounded\\u002fmaster\\u002fflags\\u002fNL.png\",\"x\":-1.8400534050753625,\"xanchor\":\"center\",\"xref\":\"x\",\"y\":-0.05722933947663195,\"yanchor\":\"middle\",\"yref\":\"y\"},{\"layer\":\"above\",\"opacity\":1,\"sizex\":0.3,\"sizey\":0.3,\"sizing\":\"contain\",\"source\":\"https:\\u002f\\u002fraw.githubusercontent.com\\u002fmatahombres\\u002fCSS-Country-Flags-Rounded\\u002fmaster\\u002fflags\\u002fNO.png\",\"x\":-2.1065108336056704,\"xanchor\":\"center\",\"xref\":\"x\",\"y\":-0.14396302178376644,\"yanchor\":\"middle\",\"yref\":\"y\"},{\"layer\":\"above\",\"opacity\":1,\"sizex\":0.3,\"sizey\":0.3,\"sizing\":\"contain\",\"source\":\"https:\\u002f\\u002fraw.githubusercontent.com\\u002fmatahombres\\u002fCSS-Country-Flags-Rounded\\u002fmaster\\u002fflags\\u002fPL.png\",\"x\":1.4717738276291155,\"xanchor\":\"center\",\"xref\":\"x\",\"y\":0.07298507932278579,\"yanchor\":\"middle\",\"yref\":\"y\"},{\"layer\":\"above\",\"opacity\":1,\"sizex\":0.3,\"sizey\":0.3,\"sizing\":\"contain\",\"source\":\"https:\\u002f\\u002fraw.githubusercontent.com\\u002fmatahombres\\u002fCSS-Country-Flags-Rounded\\u002fmaster\\u002fflags\\u002fPT.png\",\"x\":0.5264933349515383,\"xanchor\":\"center\",\"xref\":\"x\",\"y\":1.0347740532442322,\"yanchor\":\"middle\",\"yref\":\"y\"},{\"layer\":\"above\",\"opacity\":1,\"sizex\":0.3,\"sizey\":0.3,\"sizing\":\"contain\",\"source\":\"https:\\u002f\\u002fraw.githubusercontent.com\\u002fmatahombres\\u002fCSS-Country-Flags-Rounded\\u002fmaster\\u002fflags\\u002fSK.png\",\"x\":0.7829659710814721,\"xanchor\":\"center\",\"xref\":\"x\",\"y\":-0.17225977664870304,\"yanchor\":\"middle\",\"yref\":\"y\"},{\"layer\":\"above\",\"opacity\":1,\"sizex\":0.3,\"sizey\":0.3,\"sizing\":\"contain\",\"source\":\"https:\\u002f\\u002fraw.githubusercontent.com\\u002fmatahombres\\u002fCSS-Country-Flags-Rounded\\u002fmaster\\u002fflags\\u002fSI.png\",\"x\":0.06754337538258408,\"xanchor\":\"center\",\"xref\":\"x\",\"y\":0.7976720581220386,\"yanchor\":\"middle\",\"yref\":\"y\"},{\"layer\":\"above\",\"opacity\":1,\"sizex\":0.3,\"sizey\":0.3,\"sizing\":\"contain\",\"source\":\"https:\\u002f\\u002fraw.githubusercontent.com\\u002fmatahombres\\u002fCSS-Country-Flags-Rounded\\u002fmaster\\u002fflags\\u002fES.png\",\"x\":-0.16376695684389928,\"xanchor\":\"center\",\"xref\":\"x\",\"y\":1.1520659980011683,\"yanchor\":\"middle\",\"yref\":\"y\"},{\"layer\":\"above\",\"opacity\":1,\"sizex\":0.3,\"sizey\":0.3,\"sizing\":\"contain\",\"source\":\"https:\\u002f\\u002fraw.githubusercontent.com\\u002fmatahombres\\u002fCSS-Country-Flags-Rounded\\u002fmaster\\u002fflags\\u002fSE.png\",\"x\":-0.885105309651761,\"xanchor\":\"center\",\"xref\":\"x\",\"y\":-0.40288072654938456,\"yanchor\":\"middle\",\"yref\":\"y\"},{\"layer\":\"above\",\"opacity\":1,\"sizex\":0.3,\"sizey\":0.3,\"sizing\":\"contain\",\"source\":\"https:\\u002f\\u002fraw.githubusercontent.com\\u002fmatahombres\\u002fCSS-Country-Flags-Rounded\\u002fmaster\\u002fflags\\u002fCH.png\",\"x\":-3.2815861288159924,\"xanchor\":\"center\",\"xref\":\"x\",\"y\":-0.10822671542458402,\"yanchor\":\"middle\",\"yref\":\"y\"},{\"layer\":\"above\",\"opacity\":1,\"sizex\":0.3,\"sizey\":0.3,\"sizing\":\"contain\",\"source\":\"https:\\u002f\\u002fraw.githubusercontent.com\\u002fmatahombres\\u002fCSS-Country-Flags-Rounded\\u002fmaster\\u002fflags\\u002fUA.png\",\"x\":4.580268066769382,\"xanchor\":\"center\",\"xref\":\"x\",\"y\":-2.8290419876415944,\"yanchor\":\"middle\",\"yref\":\"y\"},{\"layer\":\"above\",\"opacity\":1,\"sizex\":0.3,\"sizey\":0.3,\"sizing\":\"contain\",\"source\":\"https:\\u002f\\u002fraw.githubusercontent.com\\u002fmatahombres\\u002fCSS-Country-Flags-Rounded\\u002fmaster\\u002fflags\\u002fGB.png\",\"x\":-0.3408193506673387,\"xanchor\":\"center\",\"xref\":\"x\",\"y\":0.505702104951006,\"yanchor\":\"middle\",\"yref\":\"y\"}],\"annotations\":[{\"arrowcolor\":\"red\",\"arrowhead\":1,\"arrowsize\":1,\"ax\":0,\"axref\":\"x\",\"ay\":0,\"ayref\":\"y\",\"showarrow\":true,\"x\":0.22844383730607398,\"xanchor\":\"right\",\"y\":-0.19180955193510613,\"yanchor\":\"top\"},{\"ax\":0,\"ay\":0,\"font\":{\"color\":\"red\",\"size\":15},\"text\":\"Area\",\"x\":0.22844383730607398,\"xanchor\":\"center\",\"y\":-0.19180955193510613,\"yanchor\":\"bottom\",\"yshift\":5},{\"arrowcolor\":\"blue\",\"arrowhead\":1,\"arrowsize\":1,\"ax\":0,\"axref\":\"x\",\"ay\":0,\"ayref\":\"y\",\"showarrow\":true,\"x\":-0.9156234985802526,\"xanchor\":\"right\",\"y\":-0.1443957395878201,\"yanchor\":\"top\"},{\"ax\":0,\"ay\":0,\"font\":{\"color\":\"blue\",\"size\":15},\"text\":\"GDP\",\"x\":-0.9156234985802526,\"xanchor\":\"center\",\"y\":-0.1443957395878201,\"yanchor\":\"bottom\",\"yshift\":5},{\"arrowcolor\":\"darkgreen\",\"arrowhead\":1,\"arrowsize\":1,\"ax\":0,\"axref\":\"x\",\"ay\":0,\"ayref\":\"y\",\"showarrow\":true,\"x\":0.7436827540131483,\"xanchor\":\"right\",\"y\":-0.4101514842075319,\"yanchor\":\"top\"},{\"ax\":0,\"ay\":0,\"font\":{\"color\":\"darkgreen\",\"size\":15},\"text\":\"Inflation\",\"x\":0.7436827540131483,\"xanchor\":\"center\",\"y\":-0.4101514842075319,\"yanchor\":\"bottom\",\"yshift\":5},{\"arrowcolor\":\"darkorange\",\"arrowhead\":1,\"arrowsize\":1,\"ax\":0,\"axref\":\"x\",\"ay\":0,\"ayref\":\"y\",\"showarrow\":true,\"x\":-0.8833666101945947,\"xanchor\":\"right\",\"y\":0.2943044667336666,\"yanchor\":\"top\"},{\"ax\":0,\"ay\":0,\"font\":{\"color\":\"darkorange\",\"size\":15},\"text\":\"Life.expect\",\"x\":-0.8833666101945947,\"xanchor\":\"center\",\"y\":0.2943044667336666,\"yanchor\":\"bottom\",\"yshift\":5},{\"arrowcolor\":\"green\",\"arrowhead\":1,\"arrowsize\":1,\"ax\":0,\"axref\":\"x\",\"ay\":0,\"ayref\":\"y\",\"showarrow\":true,\"x\":0.3441306694199031,\"xanchor\":\"right\",\"y\":0.7303769822845857,\"yanchor\":\"top\"},{\"ax\":0,\"ay\":0,\"font\":{\"color\":\"green\",\"size\":15},\"text\":\"Military\",\"x\":0.3441306694199031,\"xanchor\":\"center\",\"y\":0.7303769822845857,\"yanchor\":\"bottom\",\"yshift\":5},{\"arrowcolor\":\"brown\",\"arrowhead\":1,\"arrowsize\":1,\"ax\":0,\"axref\":\"x\",\"ay\":0,\"ayref\":\"y\",\"showarrow\":true,\"x\":-0.8702502579039437,\"xanchor\":\"right\",\"y\":0.09167283933354453,\"yanchor\":\"top\"},{\"ax\":0,\"ay\":0,\"font\":{\"color\":\"brown\",\"size\":15},\"text\":\"Pop.growth\",\"x\":-0.8702502579039437,\"xanchor\":\"center\",\"y\":0.09167283933354453,\"yanchor\":\"bottom\",\"yshift\":5},{\"arrowcolor\":\"purple\",\"arrowhead\":1,\"arrowsize\":1,\"ax\":0,\"axref\":\"x\",\"ay\":0,\"ayref\":\"y\",\"showarrow\":true,\"x\":0.49696611584443345,\"xanchor\":\"right\",\"y\":0.6138046132344843,\"yanchor\":\"top\"},{\"ax\":0,\"ay\":0,\"font\":{\"color\":\"purple\",\"size\":15},\"text\":\"Unemployment\",\"x\":0.49696611584443345,\"xanchor\":\"center\",\"y\":0.6138046132344843,\"yanchor\":\"bottom\",\"yshift\":5}]},                        {\"responsive\": true}                    ).then(function(){\n                            \nvar gd = document.getElementById('4f825e0e-d0d5-4ff3-a59e-eaf753081e58');\nvar x = new MutationObserver(function (mutations, observer) {{\n        var display = window.getComputedStyle(gd).display;\n        if (!display || display === 'none') {{\n            console.log([gd, 'removed!']);\n            Plotly.purge(gd);\n            observer.disconnect();\n        }}\n}});\n\n// Listen for the removal of the full notebook cells\nvar notebookContainer = gd.closest('#notebook-container');\nif (notebookContainer) {{\n    x.observe(notebookContainer, {childList: true});\n}}\n\n// Listen for the clearing of the current output cell\nvar outputEl = gd.closest('.output');\nif (outputEl) {{\n    x.observe(outputEl, {childList: true});\n}}\n\n                        })                };                });            </script>        </div>"
     },
     "metadata": {},
     "output_type": "display_data"
    }
   ],
   "source": [
    "import pycountry as pyc\n",
    "from sklearn.decomposition import PCA\n",
    "import numpy as np\n",
    "\n",
    "countries_codes = {}\n",
    "for country in pyc.countries:\n",
    "    countries_codes[country.name] = country.alpha_2\n",
    "dataset = pd.read_csv('../data/europe.csv')\n",
    "columns = dataset.columns\n",
    "features = ['Area', 'GDP', 'Inflation', 'Life.expect', 'Military', 'Pop.growth', 'Unemployment']\n",
    "\n",
    "x_scaled = StandardScaler().fit_transform(dataset[features])\n",
    "\n",
    "pca = PCA(n_components=2)\n",
    "pca_features = pca.fit_transform(x_scaled)  # paises en la nueva base de componentes pcpales\n",
    "\n",
    "# print(pca.components_)  # array de autovectores\n",
    "\n",
    "loadings = pca.components_.T * np.sqrt(pca.explained_variance_)  # matriz de las cargas\n",
    "total_var = pca.explained_variance_ratio_.sum() * 100\n",
    "\n",
    "fig = px.scatter(pca_features, x=0, y=1, hover_name=dataset['Country'],\n",
    "                 title=f'PCA BiPlot - Total Explained Variance {total_var:.2f}%')\n",
    "\n",
    "fig.update_traces(marker_color=\"rgba(0,0,0,0)\")\n",
    "fig.update_layout(xaxis_title='PCA1', yaxis_title='PCA2', height=700, width=1100)\n",
    "\n",
    "for i, row in enumerate(pca_features):\n",
    "    country_iso = countries_codes[dataset['Country'][i]]\n",
    "    fig.add_layout_image(\n",
    "        dict(\n",
    "            source=f\"https://raw.githubusercontent.com/matahombres/CSS-Country-Flags-Rounded/master/flags/{country_iso}.png\",\n",
    "            xref=\"x\",\n",
    "            yref=\"y\",\n",
    "            xanchor=\"center\",\n",
    "            yanchor=\"middle\",\n",
    "            x=row[0],\n",
    "            y=row[1],\n",
    "            sizex=0.3,\n",
    "            sizey=0.3,\n",
    "            sizing=\"contain\",\n",
    "            opacity=1,\n",
    "            layer=\"above\"\n",
    "        )\n",
    "    )\n",
    "\n",
    "colors = ['red', 'blue', 'darkgreen', 'darkorange', 'green', 'brown', 'purple']\n",
    "for i, feature in enumerate(features):\n",
    "    fig.add_annotation(\n",
    "        ax=0, ay=0,\n",
    "        axref=\"x\", ayref=\"y\",\n",
    "        x=loadings[i, 0],\n",
    "        y=loadings[i, 1],\n",
    "        showarrow=True,\n",
    "        arrowsize=1,\n",
    "        arrowhead=1,\n",
    "        xanchor=\"right\",\n",
    "        yanchor=\"top\",\n",
    "        arrowcolor=colors[i]\n",
    "    )\n",
    "    fig.add_annotation(\n",
    "        x=loadings[i, 0],\n",
    "        y=loadings[i, 1],\n",
    "        ax=0, ay=0,\n",
    "        xanchor=\"center\",\n",
    "        yanchor=\"bottom\",\n",
    "        text=feature,\n",
    "        yshift=5,\n",
    "        font={\"size\": 15, \"color\": colors[i]}\n",
    "    )\n",
    "fig.show()"
   ]
  },
  {
   "cell_type": "code",
   "execution_count": 24,
   "id": "3d68d8e7eea87919",
   "metadata": {
    "collapsed": false,
    "ExecuteTime": {
     "end_time": "2023-10-12T20:41:00.691864100Z",
     "start_time": "2023-10-12T20:41:00.640571300Z"
    }
   },
   "outputs": [
    {
     "data": {
      "application/vnd.plotly.v1+json": {
       "data": [
        {
         "alignmentgroup": "True",
         "hovertemplate": "variable=PC1<br>Country=%{x}<br>value=%{y}<extra></extra>",
         "legendgroup": "PC1",
         "marker": {
          "color": "#636efa",
          "pattern": {
           "shape": ""
          }
         },
         "name": "PC1",
         "offsetgroup": "PC1",
         "orientation": "v",
         "showlegend": true,
         "textposition": "outside",
         "texttemplate": "%{y:.2f}",
         "x": [
          "Austria",
          "Belgium",
          "Bulgaria",
          "Croatia",
          "Czechia",
          "Denmark",
          "Estonia",
          "Finland",
          "Germany",
          "Greece",
          "Hungary",
          "Iceland",
          "Ireland",
          "Italy",
          "Latvia",
          "Lithuania",
          "Luxembourg",
          "Netherlands",
          "Norway",
          "Poland",
          "Portugal",
          "Slovakia",
          "Slovenia",
          "Spain",
          "Sweden",
          "Switzerland",
          "Ukraine",
          "United Kingdom"
         ],
         "xaxis": "x",
         "y": [
          -1.081747661209592,
          -0.6810940686338424,
          2.60987881642048,
          1.270148848585835,
          -0.167209493790511,
          -0.9551907971097198,
          2.4877352181041097,
          -0.21056315636344072,
          -0.5923936529244825,
          1.0004719569396414,
          1.3968983127833723,
          -1.583719702463114,
          -1.8089176109392018,
          -0.8532239623948386,
          2.306059408593169,
          1.5300999099527093,
          -3.47843495670464,
          -1.8400534050753625,
          -2.1065108336056704,
          1.4717738276291155,
          0.5264933349515383,
          0.7829659710814721,
          0.06754337538258408,
          -0.16376695684389928,
          -0.885105309651761,
          -3.2815861288159924,
          4.580268066769382,
          -0.3408193506673387
         ],
         "yaxis": "y",
         "type": "bar",
         "textfont": {
          "size": 12
         },
         "cliponaxis": false,
         "textangle": 0
        }
       ],
       "layout": {
        "template": {
         "data": {
          "histogram2dcontour": [
           {
            "type": "histogram2dcontour",
            "colorbar": {
             "outlinewidth": 0,
             "ticks": ""
            },
            "colorscale": [
             [
              0.0,
              "#0d0887"
             ],
             [
              0.1111111111111111,
              "#46039f"
             ],
             [
              0.2222222222222222,
              "#7201a8"
             ],
             [
              0.3333333333333333,
              "#9c179e"
             ],
             [
              0.4444444444444444,
              "#bd3786"
             ],
             [
              0.5555555555555556,
              "#d8576b"
             ],
             [
              0.6666666666666666,
              "#ed7953"
             ],
             [
              0.7777777777777778,
              "#fb9f3a"
             ],
             [
              0.8888888888888888,
              "#fdca26"
             ],
             [
              1.0,
              "#f0f921"
             ]
            ]
           }
          ],
          "choropleth": [
           {
            "type": "choropleth",
            "colorbar": {
             "outlinewidth": 0,
             "ticks": ""
            }
           }
          ],
          "histogram2d": [
           {
            "type": "histogram2d",
            "colorbar": {
             "outlinewidth": 0,
             "ticks": ""
            },
            "colorscale": [
             [
              0.0,
              "#0d0887"
             ],
             [
              0.1111111111111111,
              "#46039f"
             ],
             [
              0.2222222222222222,
              "#7201a8"
             ],
             [
              0.3333333333333333,
              "#9c179e"
             ],
             [
              0.4444444444444444,
              "#bd3786"
             ],
             [
              0.5555555555555556,
              "#d8576b"
             ],
             [
              0.6666666666666666,
              "#ed7953"
             ],
             [
              0.7777777777777778,
              "#fb9f3a"
             ],
             [
              0.8888888888888888,
              "#fdca26"
             ],
             [
              1.0,
              "#f0f921"
             ]
            ]
           }
          ],
          "heatmap": [
           {
            "type": "heatmap",
            "colorbar": {
             "outlinewidth": 0,
             "ticks": ""
            },
            "colorscale": [
             [
              0.0,
              "#0d0887"
             ],
             [
              0.1111111111111111,
              "#46039f"
             ],
             [
              0.2222222222222222,
              "#7201a8"
             ],
             [
              0.3333333333333333,
              "#9c179e"
             ],
             [
              0.4444444444444444,
              "#bd3786"
             ],
             [
              0.5555555555555556,
              "#d8576b"
             ],
             [
              0.6666666666666666,
              "#ed7953"
             ],
             [
              0.7777777777777778,
              "#fb9f3a"
             ],
             [
              0.8888888888888888,
              "#fdca26"
             ],
             [
              1.0,
              "#f0f921"
             ]
            ]
           }
          ],
          "heatmapgl": [
           {
            "type": "heatmapgl",
            "colorbar": {
             "outlinewidth": 0,
             "ticks": ""
            },
            "colorscale": [
             [
              0.0,
              "#0d0887"
             ],
             [
              0.1111111111111111,
              "#46039f"
             ],
             [
              0.2222222222222222,
              "#7201a8"
             ],
             [
              0.3333333333333333,
              "#9c179e"
             ],
             [
              0.4444444444444444,
              "#bd3786"
             ],
             [
              0.5555555555555556,
              "#d8576b"
             ],
             [
              0.6666666666666666,
              "#ed7953"
             ],
             [
              0.7777777777777778,
              "#fb9f3a"
             ],
             [
              0.8888888888888888,
              "#fdca26"
             ],
             [
              1.0,
              "#f0f921"
             ]
            ]
           }
          ],
          "contourcarpet": [
           {
            "type": "contourcarpet",
            "colorbar": {
             "outlinewidth": 0,
             "ticks": ""
            }
           }
          ],
          "contour": [
           {
            "type": "contour",
            "colorbar": {
             "outlinewidth": 0,
             "ticks": ""
            },
            "colorscale": [
             [
              0.0,
              "#0d0887"
             ],
             [
              0.1111111111111111,
              "#46039f"
             ],
             [
              0.2222222222222222,
              "#7201a8"
             ],
             [
              0.3333333333333333,
              "#9c179e"
             ],
             [
              0.4444444444444444,
              "#bd3786"
             ],
             [
              0.5555555555555556,
              "#d8576b"
             ],
             [
              0.6666666666666666,
              "#ed7953"
             ],
             [
              0.7777777777777778,
              "#fb9f3a"
             ],
             [
              0.8888888888888888,
              "#fdca26"
             ],
             [
              1.0,
              "#f0f921"
             ]
            ]
           }
          ],
          "surface": [
           {
            "type": "surface",
            "colorbar": {
             "outlinewidth": 0,
             "ticks": ""
            },
            "colorscale": [
             [
              0.0,
              "#0d0887"
             ],
             [
              0.1111111111111111,
              "#46039f"
             ],
             [
              0.2222222222222222,
              "#7201a8"
             ],
             [
              0.3333333333333333,
              "#9c179e"
             ],
             [
              0.4444444444444444,
              "#bd3786"
             ],
             [
              0.5555555555555556,
              "#d8576b"
             ],
             [
              0.6666666666666666,
              "#ed7953"
             ],
             [
              0.7777777777777778,
              "#fb9f3a"
             ],
             [
              0.8888888888888888,
              "#fdca26"
             ],
             [
              1.0,
              "#f0f921"
             ]
            ]
           }
          ],
          "mesh3d": [
           {
            "type": "mesh3d",
            "colorbar": {
             "outlinewidth": 0,
             "ticks": ""
            }
           }
          ],
          "scatter": [
           {
            "marker": {
             "line": {
              "color": "#283442"
             }
            },
            "type": "scatter"
           }
          ],
          "parcoords": [
           {
            "type": "parcoords",
            "line": {
             "colorbar": {
              "outlinewidth": 0,
              "ticks": ""
             }
            }
           }
          ],
          "scatterpolargl": [
           {
            "type": "scatterpolargl",
            "marker": {
             "colorbar": {
              "outlinewidth": 0,
              "ticks": ""
             }
            }
           }
          ],
          "bar": [
           {
            "error_x": {
             "color": "#f2f5fa"
            },
            "error_y": {
             "color": "#f2f5fa"
            },
            "marker": {
             "line": {
              "color": "rgb(17,17,17)",
              "width": 0.5
             },
             "pattern": {
              "fillmode": "overlay",
              "size": 10,
              "solidity": 0.2
             }
            },
            "type": "bar"
           }
          ],
          "scattergeo": [
           {
            "type": "scattergeo",
            "marker": {
             "colorbar": {
              "outlinewidth": 0,
              "ticks": ""
             }
            }
           }
          ],
          "scatterpolar": [
           {
            "type": "scatterpolar",
            "marker": {
             "colorbar": {
              "outlinewidth": 0,
              "ticks": ""
             }
            }
           }
          ],
          "histogram": [
           {
            "marker": {
             "pattern": {
              "fillmode": "overlay",
              "size": 10,
              "solidity": 0.2
             }
            },
            "type": "histogram"
           }
          ],
          "scattergl": [
           {
            "marker": {
             "line": {
              "color": "#283442"
             }
            },
            "type": "scattergl"
           }
          ],
          "scatter3d": [
           {
            "type": "scatter3d",
            "line": {
             "colorbar": {
              "outlinewidth": 0,
              "ticks": ""
             }
            },
            "marker": {
             "colorbar": {
              "outlinewidth": 0,
              "ticks": ""
             }
            }
           }
          ],
          "scattermapbox": [
           {
            "type": "scattermapbox",
            "marker": {
             "colorbar": {
              "outlinewidth": 0,
              "ticks": ""
             }
            }
           }
          ],
          "scatterternary": [
           {
            "type": "scatterternary",
            "marker": {
             "colorbar": {
              "outlinewidth": 0,
              "ticks": ""
             }
            }
           }
          ],
          "scattercarpet": [
           {
            "type": "scattercarpet",
            "marker": {
             "colorbar": {
              "outlinewidth": 0,
              "ticks": ""
             }
            }
           }
          ],
          "carpet": [
           {
            "aaxis": {
             "endlinecolor": "#A2B1C6",
             "gridcolor": "#506784",
             "linecolor": "#506784",
             "minorgridcolor": "#506784",
             "startlinecolor": "#A2B1C6"
            },
            "baxis": {
             "endlinecolor": "#A2B1C6",
             "gridcolor": "#506784",
             "linecolor": "#506784",
             "minorgridcolor": "#506784",
             "startlinecolor": "#A2B1C6"
            },
            "type": "carpet"
           }
          ],
          "table": [
           {
            "cells": {
             "fill": {
              "color": "#506784"
             },
             "line": {
              "color": "rgb(17,17,17)"
             }
            },
            "header": {
             "fill": {
              "color": "#2a3f5f"
             },
             "line": {
              "color": "rgb(17,17,17)"
             }
            },
            "type": "table"
           }
          ],
          "barpolar": [
           {
            "marker": {
             "line": {
              "color": "rgb(17,17,17)",
              "width": 0.5
             },
             "pattern": {
              "fillmode": "overlay",
              "size": 10,
              "solidity": 0.2
             }
            },
            "type": "barpolar"
           }
          ],
          "pie": [
           {
            "automargin": true,
            "type": "pie"
           }
          ]
         },
         "layout": {
          "autotypenumbers": "strict",
          "colorway": [
           "#636efa",
           "#EF553B",
           "#00cc96",
           "#ab63fa",
           "#FFA15A",
           "#19d3f3",
           "#FF6692",
           "#B6E880",
           "#FF97FF",
           "#FECB52"
          ],
          "font": {
           "color": "#f2f5fa"
          },
          "hovermode": "closest",
          "hoverlabel": {
           "align": "left"
          },
          "paper_bgcolor": "rgb(17,17,17)",
          "plot_bgcolor": "rgb(17,17,17)",
          "polar": {
           "bgcolor": "rgb(17,17,17)",
           "angularaxis": {
            "gridcolor": "#506784",
            "linecolor": "#506784",
            "ticks": ""
           },
           "radialaxis": {
            "gridcolor": "#506784",
            "linecolor": "#506784",
            "ticks": ""
           }
          },
          "ternary": {
           "bgcolor": "rgb(17,17,17)",
           "aaxis": {
            "gridcolor": "#506784",
            "linecolor": "#506784",
            "ticks": ""
           },
           "baxis": {
            "gridcolor": "#506784",
            "linecolor": "#506784",
            "ticks": ""
           },
           "caxis": {
            "gridcolor": "#506784",
            "linecolor": "#506784",
            "ticks": ""
           }
          },
          "coloraxis": {
           "colorbar": {
            "outlinewidth": 0,
            "ticks": ""
           }
          },
          "colorscale": {
           "sequential": [
            [
             0.0,
             "#0d0887"
            ],
            [
             0.1111111111111111,
             "#46039f"
            ],
            [
             0.2222222222222222,
             "#7201a8"
            ],
            [
             0.3333333333333333,
             "#9c179e"
            ],
            [
             0.4444444444444444,
             "#bd3786"
            ],
            [
             0.5555555555555556,
             "#d8576b"
            ],
            [
             0.6666666666666666,
             "#ed7953"
            ],
            [
             0.7777777777777778,
             "#fb9f3a"
            ],
            [
             0.8888888888888888,
             "#fdca26"
            ],
            [
             1.0,
             "#f0f921"
            ]
           ],
           "sequentialminus": [
            [
             0.0,
             "#0d0887"
            ],
            [
             0.1111111111111111,
             "#46039f"
            ],
            [
             0.2222222222222222,
             "#7201a8"
            ],
            [
             0.3333333333333333,
             "#9c179e"
            ],
            [
             0.4444444444444444,
             "#bd3786"
            ],
            [
             0.5555555555555556,
             "#d8576b"
            ],
            [
             0.6666666666666666,
             "#ed7953"
            ],
            [
             0.7777777777777778,
             "#fb9f3a"
            ],
            [
             0.8888888888888888,
             "#fdca26"
            ],
            [
             1.0,
             "#f0f921"
            ]
           ],
           "diverging": [
            [
             0,
             "#8e0152"
            ],
            [
             0.1,
             "#c51b7d"
            ],
            [
             0.2,
             "#de77ae"
            ],
            [
             0.3,
             "#f1b6da"
            ],
            [
             0.4,
             "#fde0ef"
            ],
            [
             0.5,
             "#f7f7f7"
            ],
            [
             0.6,
             "#e6f5d0"
            ],
            [
             0.7,
             "#b8e186"
            ],
            [
             0.8,
             "#7fbc41"
            ],
            [
             0.9,
             "#4d9221"
            ],
            [
             1,
             "#276419"
            ]
           ]
          },
          "xaxis": {
           "gridcolor": "#283442",
           "linecolor": "#506784",
           "ticks": "",
           "title": {
            "standoff": 15
           },
           "zerolinecolor": "#283442",
           "automargin": true,
           "zerolinewidth": 2
          },
          "yaxis": {
           "gridcolor": "#283442",
           "linecolor": "#506784",
           "ticks": "",
           "title": {
            "standoff": 15
           },
           "zerolinecolor": "#283442",
           "automargin": true,
           "zerolinewidth": 2
          },
          "scene": {
           "xaxis": {
            "backgroundcolor": "rgb(17,17,17)",
            "gridcolor": "#506784",
            "linecolor": "#506784",
            "showbackground": true,
            "ticks": "",
            "zerolinecolor": "#C8D4E3",
            "gridwidth": 2
           },
           "yaxis": {
            "backgroundcolor": "rgb(17,17,17)",
            "gridcolor": "#506784",
            "linecolor": "#506784",
            "showbackground": true,
            "ticks": "",
            "zerolinecolor": "#C8D4E3",
            "gridwidth": 2
           },
           "zaxis": {
            "backgroundcolor": "rgb(17,17,17)",
            "gridcolor": "#506784",
            "linecolor": "#506784",
            "showbackground": true,
            "ticks": "",
            "zerolinecolor": "#C8D4E3",
            "gridwidth": 2
           }
          },
          "shapedefaults": {
           "line": {
            "color": "#f2f5fa"
           }
          },
          "annotationdefaults": {
           "arrowcolor": "#f2f5fa",
           "arrowhead": 0,
           "arrowwidth": 1
          },
          "geo": {
           "bgcolor": "rgb(17,17,17)",
           "landcolor": "rgb(17,17,17)",
           "subunitcolor": "#506784",
           "showland": true,
           "showlakes": true,
           "lakecolor": "rgb(17,17,17)"
          },
          "title": {
           "x": 0.05
          },
          "updatemenudefaults": {
           "bgcolor": "#506784",
           "borderwidth": 0
          },
          "sliderdefaults": {
           "bgcolor": "#C8D4E3",
           "borderwidth": 1,
           "bordercolor": "rgb(17,17,17)",
           "tickwidth": 0
          },
          "mapbox": {
           "style": "dark"
          }
         }
        },
        "xaxis": {
         "anchor": "y",
         "domain": [
          0.0,
          1.0
         ],
         "title": {
          "text": "Country"
         }
        },
        "yaxis": {
         "anchor": "x",
         "domain": [
          0.0,
          1.0
         ],
         "title": {
          "text": "PC1"
         }
        },
        "legend": {
         "title": {
          "text": "variable"
         },
         "tracegroupgap": 0
        },
        "margin": {
         "t": 60
        },
        "barmode": "relative",
        "title": {
         "text": "PC1 per country"
        },
        "showlegend": false
       },
       "config": {
        "plotlyServerURL": "https://plot.ly"
       }
      },
      "text/html": "<div>                            <div id=\"2ac41cbd-3fd6-4869-83fe-09080ee5e2bc\" class=\"plotly-graph-div\" style=\"height:525px; width:100%;\"></div>            <script type=\"text/javascript\">                require([\"plotly\"], function(Plotly) {                    window.PLOTLYENV=window.PLOTLYENV || {};                                    if (document.getElementById(\"2ac41cbd-3fd6-4869-83fe-09080ee5e2bc\")) {                    Plotly.newPlot(                        \"2ac41cbd-3fd6-4869-83fe-09080ee5e2bc\",                        [{\"alignmentgroup\":\"True\",\"hovertemplate\":\"variable=PC1\\u003cbr\\u003eCountry=%{x}\\u003cbr\\u003evalue=%{y}\\u003cextra\\u003e\\u003c\\u002fextra\\u003e\",\"legendgroup\":\"PC1\",\"marker\":{\"color\":\"#636efa\",\"pattern\":{\"shape\":\"\"}},\"name\":\"PC1\",\"offsetgroup\":\"PC1\",\"orientation\":\"v\",\"showlegend\":true,\"textposition\":\"outside\",\"texttemplate\":\"%{y:.2f}\",\"x\":[\"Austria\",\"Belgium\",\"Bulgaria\",\"Croatia\",\"Czechia\",\"Denmark\",\"Estonia\",\"Finland\",\"Germany\",\"Greece\",\"Hungary\",\"Iceland\",\"Ireland\",\"Italy\",\"Latvia\",\"Lithuania\",\"Luxembourg\",\"Netherlands\",\"Norway\",\"Poland\",\"Portugal\",\"Slovakia\",\"Slovenia\",\"Spain\",\"Sweden\",\"Switzerland\",\"Ukraine\",\"United Kingdom\"],\"xaxis\":\"x\",\"y\":[-1.081747661209592,-0.6810940686338424,2.60987881642048,1.270148848585835,-0.167209493790511,-0.9551907971097198,2.4877352181041097,-0.21056315636344072,-0.5923936529244825,1.0004719569396414,1.3968983127833723,-1.583719702463114,-1.8089176109392018,-0.8532239623948386,2.306059408593169,1.5300999099527093,-3.47843495670464,-1.8400534050753625,-2.1065108336056704,1.4717738276291155,0.5264933349515383,0.7829659710814721,0.06754337538258408,-0.16376695684389928,-0.885105309651761,-3.2815861288159924,4.580268066769382,-0.3408193506673387],\"yaxis\":\"y\",\"type\":\"bar\",\"textfont\":{\"size\":12},\"cliponaxis\":false,\"textangle\":0}],                        {\"template\":{\"data\":{\"histogram2dcontour\":[{\"type\":\"histogram2dcontour\",\"colorbar\":{\"outlinewidth\":0,\"ticks\":\"\"},\"colorscale\":[[0.0,\"#0d0887\"],[0.1111111111111111,\"#46039f\"],[0.2222222222222222,\"#7201a8\"],[0.3333333333333333,\"#9c179e\"],[0.4444444444444444,\"#bd3786\"],[0.5555555555555556,\"#d8576b\"],[0.6666666666666666,\"#ed7953\"],[0.7777777777777778,\"#fb9f3a\"],[0.8888888888888888,\"#fdca26\"],[1.0,\"#f0f921\"]]}],\"choropleth\":[{\"type\":\"choropleth\",\"colorbar\":{\"outlinewidth\":0,\"ticks\":\"\"}}],\"histogram2d\":[{\"type\":\"histogram2d\",\"colorbar\":{\"outlinewidth\":0,\"ticks\":\"\"},\"colorscale\":[[0.0,\"#0d0887\"],[0.1111111111111111,\"#46039f\"],[0.2222222222222222,\"#7201a8\"],[0.3333333333333333,\"#9c179e\"],[0.4444444444444444,\"#bd3786\"],[0.5555555555555556,\"#d8576b\"],[0.6666666666666666,\"#ed7953\"],[0.7777777777777778,\"#fb9f3a\"],[0.8888888888888888,\"#fdca26\"],[1.0,\"#f0f921\"]]}],\"heatmap\":[{\"type\":\"heatmap\",\"colorbar\":{\"outlinewidth\":0,\"ticks\":\"\"},\"colorscale\":[[0.0,\"#0d0887\"],[0.1111111111111111,\"#46039f\"],[0.2222222222222222,\"#7201a8\"],[0.3333333333333333,\"#9c179e\"],[0.4444444444444444,\"#bd3786\"],[0.5555555555555556,\"#d8576b\"],[0.6666666666666666,\"#ed7953\"],[0.7777777777777778,\"#fb9f3a\"],[0.8888888888888888,\"#fdca26\"],[1.0,\"#f0f921\"]]}],\"heatmapgl\":[{\"type\":\"heatmapgl\",\"colorbar\":{\"outlinewidth\":0,\"ticks\":\"\"},\"colorscale\":[[0.0,\"#0d0887\"],[0.1111111111111111,\"#46039f\"],[0.2222222222222222,\"#7201a8\"],[0.3333333333333333,\"#9c179e\"],[0.4444444444444444,\"#bd3786\"],[0.5555555555555556,\"#d8576b\"],[0.6666666666666666,\"#ed7953\"],[0.7777777777777778,\"#fb9f3a\"],[0.8888888888888888,\"#fdca26\"],[1.0,\"#f0f921\"]]}],\"contourcarpet\":[{\"type\":\"contourcarpet\",\"colorbar\":{\"outlinewidth\":0,\"ticks\":\"\"}}],\"contour\":[{\"type\":\"contour\",\"colorbar\":{\"outlinewidth\":0,\"ticks\":\"\"},\"colorscale\":[[0.0,\"#0d0887\"],[0.1111111111111111,\"#46039f\"],[0.2222222222222222,\"#7201a8\"],[0.3333333333333333,\"#9c179e\"],[0.4444444444444444,\"#bd3786\"],[0.5555555555555556,\"#d8576b\"],[0.6666666666666666,\"#ed7953\"],[0.7777777777777778,\"#fb9f3a\"],[0.8888888888888888,\"#fdca26\"],[1.0,\"#f0f921\"]]}],\"surface\":[{\"type\":\"surface\",\"colorbar\":{\"outlinewidth\":0,\"ticks\":\"\"},\"colorscale\":[[0.0,\"#0d0887\"],[0.1111111111111111,\"#46039f\"],[0.2222222222222222,\"#7201a8\"],[0.3333333333333333,\"#9c179e\"],[0.4444444444444444,\"#bd3786\"],[0.5555555555555556,\"#d8576b\"],[0.6666666666666666,\"#ed7953\"],[0.7777777777777778,\"#fb9f3a\"],[0.8888888888888888,\"#fdca26\"],[1.0,\"#f0f921\"]]}],\"mesh3d\":[{\"type\":\"mesh3d\",\"colorbar\":{\"outlinewidth\":0,\"ticks\":\"\"}}],\"scatter\":[{\"marker\":{\"line\":{\"color\":\"#283442\"}},\"type\":\"scatter\"}],\"parcoords\":[{\"type\":\"parcoords\",\"line\":{\"colorbar\":{\"outlinewidth\":0,\"ticks\":\"\"}}}],\"scatterpolargl\":[{\"type\":\"scatterpolargl\",\"marker\":{\"colorbar\":{\"outlinewidth\":0,\"ticks\":\"\"}}}],\"bar\":[{\"error_x\":{\"color\":\"#f2f5fa\"},\"error_y\":{\"color\":\"#f2f5fa\"},\"marker\":{\"line\":{\"color\":\"rgb(17,17,17)\",\"width\":0.5},\"pattern\":{\"fillmode\":\"overlay\",\"size\":10,\"solidity\":0.2}},\"type\":\"bar\"}],\"scattergeo\":[{\"type\":\"scattergeo\",\"marker\":{\"colorbar\":{\"outlinewidth\":0,\"ticks\":\"\"}}}],\"scatterpolar\":[{\"type\":\"scatterpolar\",\"marker\":{\"colorbar\":{\"outlinewidth\":0,\"ticks\":\"\"}}}],\"histogram\":[{\"marker\":{\"pattern\":{\"fillmode\":\"overlay\",\"size\":10,\"solidity\":0.2}},\"type\":\"histogram\"}],\"scattergl\":[{\"marker\":{\"line\":{\"color\":\"#283442\"}},\"type\":\"scattergl\"}],\"scatter3d\":[{\"type\":\"scatter3d\",\"line\":{\"colorbar\":{\"outlinewidth\":0,\"ticks\":\"\"}},\"marker\":{\"colorbar\":{\"outlinewidth\":0,\"ticks\":\"\"}}}],\"scattermapbox\":[{\"type\":\"scattermapbox\",\"marker\":{\"colorbar\":{\"outlinewidth\":0,\"ticks\":\"\"}}}],\"scatterternary\":[{\"type\":\"scatterternary\",\"marker\":{\"colorbar\":{\"outlinewidth\":0,\"ticks\":\"\"}}}],\"scattercarpet\":[{\"type\":\"scattercarpet\",\"marker\":{\"colorbar\":{\"outlinewidth\":0,\"ticks\":\"\"}}}],\"carpet\":[{\"aaxis\":{\"endlinecolor\":\"#A2B1C6\",\"gridcolor\":\"#506784\",\"linecolor\":\"#506784\",\"minorgridcolor\":\"#506784\",\"startlinecolor\":\"#A2B1C6\"},\"baxis\":{\"endlinecolor\":\"#A2B1C6\",\"gridcolor\":\"#506784\",\"linecolor\":\"#506784\",\"minorgridcolor\":\"#506784\",\"startlinecolor\":\"#A2B1C6\"},\"type\":\"carpet\"}],\"table\":[{\"cells\":{\"fill\":{\"color\":\"#506784\"},\"line\":{\"color\":\"rgb(17,17,17)\"}},\"header\":{\"fill\":{\"color\":\"#2a3f5f\"},\"line\":{\"color\":\"rgb(17,17,17)\"}},\"type\":\"table\"}],\"barpolar\":[{\"marker\":{\"line\":{\"color\":\"rgb(17,17,17)\",\"width\":0.5},\"pattern\":{\"fillmode\":\"overlay\",\"size\":10,\"solidity\":0.2}},\"type\":\"barpolar\"}],\"pie\":[{\"automargin\":true,\"type\":\"pie\"}]},\"layout\":{\"autotypenumbers\":\"strict\",\"colorway\":[\"#636efa\",\"#EF553B\",\"#00cc96\",\"#ab63fa\",\"#FFA15A\",\"#19d3f3\",\"#FF6692\",\"#B6E880\",\"#FF97FF\",\"#FECB52\"],\"font\":{\"color\":\"#f2f5fa\"},\"hovermode\":\"closest\",\"hoverlabel\":{\"align\":\"left\"},\"paper_bgcolor\":\"rgb(17,17,17)\",\"plot_bgcolor\":\"rgb(17,17,17)\",\"polar\":{\"bgcolor\":\"rgb(17,17,17)\",\"angularaxis\":{\"gridcolor\":\"#506784\",\"linecolor\":\"#506784\",\"ticks\":\"\"},\"radialaxis\":{\"gridcolor\":\"#506784\",\"linecolor\":\"#506784\",\"ticks\":\"\"}},\"ternary\":{\"bgcolor\":\"rgb(17,17,17)\",\"aaxis\":{\"gridcolor\":\"#506784\",\"linecolor\":\"#506784\",\"ticks\":\"\"},\"baxis\":{\"gridcolor\":\"#506784\",\"linecolor\":\"#506784\",\"ticks\":\"\"},\"caxis\":{\"gridcolor\":\"#506784\",\"linecolor\":\"#506784\",\"ticks\":\"\"}},\"coloraxis\":{\"colorbar\":{\"outlinewidth\":0,\"ticks\":\"\"}},\"colorscale\":{\"sequential\":[[0.0,\"#0d0887\"],[0.1111111111111111,\"#46039f\"],[0.2222222222222222,\"#7201a8\"],[0.3333333333333333,\"#9c179e\"],[0.4444444444444444,\"#bd3786\"],[0.5555555555555556,\"#d8576b\"],[0.6666666666666666,\"#ed7953\"],[0.7777777777777778,\"#fb9f3a\"],[0.8888888888888888,\"#fdca26\"],[1.0,\"#f0f921\"]],\"sequentialminus\":[[0.0,\"#0d0887\"],[0.1111111111111111,\"#46039f\"],[0.2222222222222222,\"#7201a8\"],[0.3333333333333333,\"#9c179e\"],[0.4444444444444444,\"#bd3786\"],[0.5555555555555556,\"#d8576b\"],[0.6666666666666666,\"#ed7953\"],[0.7777777777777778,\"#fb9f3a\"],[0.8888888888888888,\"#fdca26\"],[1.0,\"#f0f921\"]],\"diverging\":[[0,\"#8e0152\"],[0.1,\"#c51b7d\"],[0.2,\"#de77ae\"],[0.3,\"#f1b6da\"],[0.4,\"#fde0ef\"],[0.5,\"#f7f7f7\"],[0.6,\"#e6f5d0\"],[0.7,\"#b8e186\"],[0.8,\"#7fbc41\"],[0.9,\"#4d9221\"],[1,\"#276419\"]]},\"xaxis\":{\"gridcolor\":\"#283442\",\"linecolor\":\"#506784\",\"ticks\":\"\",\"title\":{\"standoff\":15},\"zerolinecolor\":\"#283442\",\"automargin\":true,\"zerolinewidth\":2},\"yaxis\":{\"gridcolor\":\"#283442\",\"linecolor\":\"#506784\",\"ticks\":\"\",\"title\":{\"standoff\":15},\"zerolinecolor\":\"#283442\",\"automargin\":true,\"zerolinewidth\":2},\"scene\":{\"xaxis\":{\"backgroundcolor\":\"rgb(17,17,17)\",\"gridcolor\":\"#506784\",\"linecolor\":\"#506784\",\"showbackground\":true,\"ticks\":\"\",\"zerolinecolor\":\"#C8D4E3\",\"gridwidth\":2},\"yaxis\":{\"backgroundcolor\":\"rgb(17,17,17)\",\"gridcolor\":\"#506784\",\"linecolor\":\"#506784\",\"showbackground\":true,\"ticks\":\"\",\"zerolinecolor\":\"#C8D4E3\",\"gridwidth\":2},\"zaxis\":{\"backgroundcolor\":\"rgb(17,17,17)\",\"gridcolor\":\"#506784\",\"linecolor\":\"#506784\",\"showbackground\":true,\"ticks\":\"\",\"zerolinecolor\":\"#C8D4E3\",\"gridwidth\":2}},\"shapedefaults\":{\"line\":{\"color\":\"#f2f5fa\"}},\"annotationdefaults\":{\"arrowcolor\":\"#f2f5fa\",\"arrowhead\":0,\"arrowwidth\":1},\"geo\":{\"bgcolor\":\"rgb(17,17,17)\",\"landcolor\":\"rgb(17,17,17)\",\"subunitcolor\":\"#506784\",\"showland\":true,\"showlakes\":true,\"lakecolor\":\"rgb(17,17,17)\"},\"title\":{\"x\":0.05},\"updatemenudefaults\":{\"bgcolor\":\"#506784\",\"borderwidth\":0},\"sliderdefaults\":{\"bgcolor\":\"#C8D4E3\",\"borderwidth\":1,\"bordercolor\":\"rgb(17,17,17)\",\"tickwidth\":0},\"mapbox\":{\"style\":\"dark\"}}},\"xaxis\":{\"anchor\":\"y\",\"domain\":[0.0,1.0],\"title\":{\"text\":\"Country\"}},\"yaxis\":{\"anchor\":\"x\",\"domain\":[0.0,1.0],\"title\":{\"text\":\"PC1\"}},\"legend\":{\"title\":{\"text\":\"variable\"},\"tracegroupgap\":0},\"margin\":{\"t\":60},\"barmode\":\"relative\",\"title\":{\"text\":\"PC1 per country\"},\"showlegend\":false},                        {\"responsive\": true}                    ).then(function(){\n                            \nvar gd = document.getElementById('2ac41cbd-3fd6-4869-83fe-09080ee5e2bc');\nvar x = new MutationObserver(function (mutations, observer) {{\n        var display = window.getComputedStyle(gd).display;\n        if (!display || display === 'none') {{\n            console.log([gd, 'removed!']);\n            Plotly.purge(gd);\n            observer.disconnect();\n        }}\n}});\n\n// Listen for the removal of the full notebook cells\nvar notebookContainer = gd.closest('#notebook-container');\nif (notebookContainer) {{\n    x.observe(notebookContainer, {childList: true});\n}}\n\n// Listen for the clearing of the current output cell\nvar outputEl = gd.closest('.output');\nif (outputEl) {{\n    x.observe(outputEl, {childList: true});\n}}\n\n                        })                };                });            </script>        </div>"
     },
     "metadata": {},
     "output_type": "display_data"
    }
   ],
   "source": [
    "features = ['Area', 'GDP', 'Inflation', 'Life.expect', 'Military', 'Pop.growth', 'Unemployment']\n",
    "\n",
    "x_scaled = StandardScaler().fit_transform(dataset[features])\n",
    "\n",
    "pca = PCA(n_components=1)\n",
    "pca_features = pca.fit_transform(x_scaled)  # paises en la nueva base de componentes pcpales\n",
    "\n",
    "df = pd.DataFrame(data=list(map(lambda x: x[0], pca_features)), columns=['PC1'], index=dataset['Country'])\n",
    "\n",
    "fig = px.bar(data_frame=df, text_auto='.2f')\n",
    "fig.update_layout(yaxis_title='PC1', title='PC1 per country', showlegend=False)\n",
    "fig.update_traces(textfont_size=12, textangle=0, textposition=\"outside\", cliponaxis=False)\n",
    "fig.show()"
   ]
  },
  {
   "cell_type": "markdown",
   "source": [
    "## Composición de PC1"
   ],
   "metadata": {
    "collapsed": false
   },
   "id": "e6588547e2d2197a"
  },
  {
   "cell_type": "code",
   "execution_count": 26,
   "outputs": [
    {
     "name": "stdout",
     "output_type": "stream",
     "text": [
      "PC1 = ( 0.1249 * Area) + (-0.5005 * GDP) + ( 0.4065 * Inflation) + (-0.4829 * Life.expect) + ( 0.1881 * Military) + (-0.4757 * Pop.growth) + ( 0.2717 * Unemployment) \n"
     ]
    }
   ],
   "source": [
    "print(f\"PC1 =\", end='')\n",
    "for i, feature in enumerate(features):\n",
    "    print (f\"{'+' if i!=0 else ''} ({pca.components_[0][i]: .4f} * {feature}) \", end=\"\")\n",
    "print(\"\")"
   ],
   "metadata": {
    "collapsed": false,
    "ExecuteTime": {
     "end_time": "2023-10-12T20:42:26.421376Z",
     "start_time": "2023-10-12T20:42:26.421376Z"
    }
   },
   "id": "8cc5c5923565cec0"
  },
  {
   "cell_type": "markdown",
   "source": [
    "Vemos que un valor de **PC1** parecería estar relacionado con una mejor calidad de vida. Las variables que más afectan a este índice son:\n",
    "\n",
    "**Positivamente:**\n",
    "- PBI (0.50)\n",
    "- Expectativa de Vida (0.48)\n",
    "- Crecimiento Poblacional (0.48)\n",
    "\n",
    "**Negativamente:**\n",
    "- Infalción (-0.48)\n",
    "- Desempleo (-0.27)"
   ],
   "metadata": {
    "collapsed": false
   },
   "id": "b895976ef8b5a370"
  }
 ],
 "metadata": {
  "kernelspec": {
   "display_name": "Python 3 (ipykernel)",
   "language": "python",
   "name": "python3"
  },
  "language_info": {
   "codemirror_mode": {
    "name": "ipython",
    "version": 3
   },
   "file_extension": ".py",
   "mimetype": "text/x-python",
   "name": "python",
   "nbconvert_exporter": "python",
   "pygments_lexer": "ipython3",
   "version": "3.12.0"
  }
 },
 "nbformat": 4,
 "nbformat_minor": 5
}
